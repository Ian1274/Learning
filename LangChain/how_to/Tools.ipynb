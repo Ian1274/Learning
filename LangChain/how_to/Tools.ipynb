{
 "cells": [
  {
   "cell_type": "code",
   "execution_count": null,
   "metadata": {},
   "outputs": [],
   "source": [
    "import os\n",
    "from dotenv import load_dotenv\n",
    "from langchain_openai import ChatOpenAI\n",
    "from langchain_ollama import ChatOllama\n",
    "from langchain_huggingface import HuggingFaceEmbeddings  # HuggingFace嵌入\n",
    "\n",
    "load_dotenv(dotenv_path=r\"E:\\Workplace\\GitHub\\Learning\\LangChain\\.env\", override=True)\n",
    "\n",
    "model = ChatOpenAI(\n",
    "                    temperature=0.1,\n",
    "                    max_tokens=2048,\n",
    "                    presence_penalty=1.2,\n",
    "                    # model='deepseek-chat',\n",
    "                    # openai_api_key=os.getenv('DEEPSEEK_API_KEY'),\n",
    "                    # openai_api_base=\"https://api.deepseek.com/v1\",\n",
    "                    # model='gpt-4o-mini',\n",
    "                    # openai_api_key=os.getenv('CLOSEAI_API_KEY'),\n",
    "                    # openai_api_base=\"https://api.openai-proxy.org/v1\",\n",
    "                    # model='yi-lightning',\n",
    "                    # openai_api_key=os.getenv('YI_API_KEY'),\n",
    "                    # openai_api_base=\"https://api.lingyiwanwu.com/v1\",\n",
    "                    model='ernie-4.0-turbo-8k-latest',\n",
    "                    openai_api_key=os.getenv('BD_API_KEY'),\n",
    "                    openai_api_base=\"https://qianfan.baidubce.com/v2\",\n",
    "                    default_headers={\"appid\": \"app-dz4Hp7OK\"}\n",
    "                )\n",
    "\n",
    "# model = ChatOllama(\n",
    "#                     temperature=0,\n",
    "#                     num_predict=4096,\n",
    "#                     repeat_penalty=1.2,\n",
    "#                     model=\"llama3.2:3b\"\n",
    "#                 )\n",
    "\n",
    "embeddings = HuggingFaceEmbeddings(\n",
    "            model_name=r\"E:/Workplace/GitHub/Embedding/maidalun/bce-embedding-base_v1\",\n",
    "            model_kwargs={\"device\": \"cuda\",\n",
    "                          \"trust_remote_code\": True},\n",
    "            encode_kwargs={\"normalize_embeddings\": True},\n",
    "        )"
   ]
  }
 ],
 "metadata": {
  "kernelspec": {
   "display_name": "lclg",
   "language": "python",
   "name": "python3"
  },
  "language_info": {
   "name": "python",
   "version": "3.11.0"
  }
 },
 "nbformat": 4,
 "nbformat_minor": 2
}
