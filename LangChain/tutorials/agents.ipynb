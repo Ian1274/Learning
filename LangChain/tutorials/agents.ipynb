{
 "cells": [
  {
   "cell_type": "code",
   "execution_count": 19,
   "metadata": {},
   "outputs": [],
   "source": [
    "import os\n",
    "from dotenv import load_dotenv\n",
    "from langchain_openai import ChatOpenAI\n",
    "from langchain_ollama import ChatOllama\n",
    "from langchain_huggingface import HuggingFaceEmbeddings  # HuggingFace嵌入\n",
    "\n",
    "load_dotenv(dotenv_path=r\"E:\\Workplace\\GitHub\\Learning\\LangChain\\.env\", override=True)\n",
    "\n",
    "model = ChatOpenAI(\n",
    "                    # temperature=0.1,\n",
    "                    # max_tokens=4096,\n",
    "                    # presence_penalty=1.2,\n",
    "                    # model='deepseek-chat',\n",
    "                    # openai_api_key=os.getenv('DEEPSEEK_API_KEY'),\n",
    "                    # openai_api_base=\"https://api.deepseek.com/v1\",\n",
    "                    # model='gpt-4o-mini',\n",
    "                    # openai_api_key=os.getenv('CLOSEAI_API_KEY'),\n",
    "                    # openai_api_base=\"https://api.openai-proxy.org/v1\",\n",
    "                    # model='yi-lightning',\n",
    "                    # openai_api_key=os.getenv('YI_API_KEY'),\n",
    "                    # openai_api_base=\"https://api.lingyiwanwu.com/v1\",\n",
    "                    model='ernie-4.0-turbo-8k-latest',\n",
    "                    openai_api_key=os.getenv('BD_API_KEY'),\n",
    "                    openai_api_base=\"https://qianfan.baidubce.com/v2\",\n",
    "                    default_headers={\"appid\": \"app-dz4Hp7OK\"}\n",
    "                )\n",
    "\n",
    "# model = ChatOllama(\n",
    "#                     temperature=0,\n",
    "#                     num_predict=4096,\n",
    "#                     repeat_penalty=1.2,\n",
    "#                     model=\"llama3.2:3b\"\n",
    "#                 )\n",
    "\n",
    "embedding = HuggingFaceEmbeddings(\n",
    "            model_name=r\"E:/Workplace/GitHub/Embedding/maidalun/bce-embedding-base_v1\",\n",
    "            model_kwargs={\"device\": \"cuda\",\n",
    "                          \"trust_remote_code\": True},\n",
    "            encode_kwargs={\"normalize_embeddings\": True},\n",
    "        )"
   ]
  },
  {
   "cell_type": "markdown",
   "metadata": {},
   "source": [
    "# End-to-end agent"
   ]
  },
  {
   "cell_type": "code",
   "execution_count": 2,
   "metadata": {},
   "outputs": [
    {
     "name": "stdout",
     "output_type": "stream",
     "text": [
      "{'agent': {'messages': [AIMessage(content='Hi Bob! 很高兴认识你，旧金山是个很棒的地方！我能帮你什么忙吗？你对旧金山的天气、新闻、活动或者其他什么主题感兴趣吗？告诉我，我尽量帮你找相关信息！', additional_kwargs={'refusal': None}, response_metadata={'token_usage': {'completion_tokens': 41, 'prompt_tokens': 9, 'total_tokens': 50, 'completion_tokens_details': None, 'prompt_tokens_details': None}, 'model_name': 'ernie-4.0-turbo-8k-latest', 'system_fingerprint': None, 'finish_reason': 'normal', 'logprobs': None}, id='run-14ff1082-a160-48af-9bfb-c4e4d0cc6513-0', usage_metadata={'input_tokens': 9, 'output_tokens': 41, 'total_tokens': 50, 'input_token_details': {}, 'output_token_details': {}})]}}\n",
      "----\n",
      "{'agent': {'messages': [AIMessage(content='', additional_kwargs={'tool_calls': [{'id': '1a0d58c8b168d000', 'function': {'arguments': '{\"query\": \"旧金山当前天气\"}', 'name': 'tavily_search_results_json'}, 'type': 'function'}], 'refusal': None}, response_metadata={'token_usage': {'completion_tokens': 17, 'prompt_tokens': 57, 'total_tokens': 74, 'completion_tokens_details': None, 'prompt_tokens_details': None}, 'model_name': 'ernie-4.0-turbo-8k-latest', 'system_fingerprint': None, 'finish_reason': 'tool_calls', 'logprobs': None}, id='run-403d3748-0a53-4941-a6ac-72d4f5368088-0', tool_calls=[{'name': 'tavily_search_results_json', 'args': {'query': '旧金山当前天气'}, 'id': '1a0d58c8b168d000', 'type': 'tool_call'}], usage_metadata={'input_tokens': 57, 'output_tokens': 17, 'total_tokens': 74, 'input_token_details': {}, 'output_token_details': {}})]}}\n",
      "----\n",
      "{'tools': {'messages': [ToolMessage(content='[{\"url\": \"https://www.meteoprog.com/cn/weather/Sanfrancisco/\", \"content\": \"旧金山 旧金山 旧金山 美国, 加利福尼亚 旧金山 天气 目前在 旧金山 08:10 PM - 18 十一月, 星期一 +10° +11° +11° +14° +12° 感觉像 +9°C 凉爽的 天气固定在 05:31 PM © Meteoprog.com 旧金山天气: 阴, 无降水 旧金山天气: 不定云况, 无降水 旧金山天气: 多云间晴, 无降水 旧金山天气: 阴, 无明显降水 旧金山天气: 多云, 无降水 旧金山天气: 阴, 无降水 旧金山天气: 多云, 无降水 旧金山天气: 阴, 无降水 旧金山天气: 多云, 无降水 旧金山天气: 阴, 无降水 旧金山天气: 不定云况, 无降水 旧金山 : 详细信息 37° 46′ 12″ 北 -123° 35′ 24″ 西 黄昏 民事 黄昏 天文 黄昏 航海 在过去 75 年的观察中，今天在 旧金山 的最高气温为 +22,1°C，记录于 2005。 旧金山 的最大降雨量（38,39 毫米）记录在 1982。 1965的最大阵风高达 19,59 米/秒。 美国 +11° +14° +15° +20° +11° +14° +11° +17° +14° +10° +17° +9° +17° +11° +19° +17° +13° +16° +14° 旧金山 +10° 旧金山 今天的天气 旧金山 美国 © Meteoprog.com 2003-2024\"}, {\"url\": \"https://www.weather-atlas.com/zh/california-usa/san-francisco\", \"content\": \"今天天气 - 旧金山, 加利福尼亚州, 美国 °华氏度 今天的天气预报 旧金山, 加利福尼亚州, 美国 旧金山, 加利福尼亚州, 美国 PST 每小时天气预报和温度 - 旧金山, 加利福尼亚州, 美国 5:39 am PST 46°华氏度 感觉就像: 46°华氏度 可见性: 8英里 每小时天气预报 - 旧金山, 加利福尼亚州, 美国 45°华氏度 45°华氏度 可见性: 9英里 48°华氏度 46°华氏度 52°华氏度 50°华氏度 55°华氏度 55°华氏度 57°华氏度 57°华氏度 57°华氏度 55°华氏度 54°华氏度 52°华氏度 54°华氏度 50°华氏度 54°华氏度 50°华氏度 发布者: Weather Atlas | 关于我们 旧金山, 加利福尼亚州, 美国 hr: San Francisko, Kalifornija, SAD sr: San Francisko, Kalifornija, SAD zh: 旧金山, 加利福尼亚州, 美国 纬度: 37.774930° 经度: -122.419416° 日出: 6:53 am PST 日落: 4:56 pm PST 附近的 旧金山, 加利福尼亚州, 美国 贝尔韦代雷 (7 英里) 埃默里维尔 (8 英里) 南旧金山 (8 英里) 奥克兰 (8 英里) 米尔谷 (11 英里) 科特马德拉 (12 英里) 圣昆廷 (12 英里) 肯辛顿 (12 英里) 旧金山, 加利福尼亚州, 美国 11十一月 © 2002-2024|联系|关于我们|\"}]', name='tavily_search_results_json', id='96c67121-9057-4811-be35-44e193b3e04b', tool_call_id='1a0d58c8b168d000', artifact={'query': '旧金山当前天气', 'follow_up_questions': None, 'answer': None, 'images': [], 'results': [{'title': '旧金山 天气 ⋆ 旧金山 (美国) 今天和明天的天氣預報 ⋆ Meteoprog', 'url': 'https://www.meteoprog.com/cn/weather/Sanfrancisco/', 'content': '旧金山 旧金山 旧金山 美国, 加利福尼亚 旧金山 天气 目前在 旧金山 08:10 PM - 18 十一月, 星期一 +10° +11° +11° +14° +12° 感觉像 +9°C 凉爽的 天气固定在 05:31 PM © Meteoprog.com 旧金山天气: 阴, 无降水 旧金山天气: 不定云况, 无降水 旧金山天气: 多云间晴, 无降水 旧金山天气: 阴, 无明显降水 旧金山天气: 多云, 无降水 旧金山天气: 阴, 无降水 旧金山天气: 多云, 无降水 旧金山天气: 阴, 无降水 旧金山天气: 多云, 无降水 旧金山天气: 阴, 无降水 旧金山天气: 不定云况, 无降水 旧金山 : 详细信息 37° 46′ 12″ 北 -123° 35′ 24″ 西 黄昏 民事 黄昏 天文 黄昏 航海 在过去 75 年的观察中，今天在 旧金山 的最高气温为 +22,1°C，记录于 2005。 旧金山 的最大降雨量（38,39 毫米）记录在 1982。 1965的最大阵风高达 19,59 米/秒。 美国 +11° +14° +15° +20° +11° +14° +11° +17° +14° +10° +17° +9° +17° +11° +19° +17° +13° +16° +14° 旧金山 +10° 旧金山 今天的天气 旧金山 美国 © Meteoprog.com 2003-2024', 'score': 0.854509, 'raw_content': None}, {'title': '今天天气 - 旧金山, 加利福尼亚州, 美国 - Weather Atlas', 'url': 'https://www.weather-atlas.com/zh/california-usa/san-francisco', 'content': '今天天气 - 旧金山, 加利福尼亚州, 美国 °华氏度 今天的天气预报 旧金山, 加利福尼亚州, 美国 旧金山, 加利福尼亚州, 美国 PST 每小时天气预报和温度 - 旧金山, 加利福尼亚州, 美国 5:39 am PST 46°华氏度 感觉就像: 46°华氏度 可见性: 8英里 每小时天气预报 - 旧金山, 加利福尼亚州, 美国 45°华氏度 45°华氏度 可见性: 9英里 48°华氏度 46°华氏度 52°华氏度 50°华氏度 55°华氏度 55°华氏度 57°华氏度 57°华氏度 57°华氏度 55°华氏度 54°华氏度 52°华氏度 54°华氏度 50°华氏度 54°华氏度 50°华氏度 发布者: Weather Atlas | 关于我们 旧金山, 加利福尼亚州, 美国 hr: San Francisko, Kalifornija, SAD sr: San Francisko, Kalifornija, SAD zh: 旧金山, 加利福尼亚州, 美国 纬度: 37.774930° 经度: -122.419416° 日出: 6:53 am PST 日落: 4:56 pm PST 附近的 旧金山, 加利福尼亚州, 美国 贝尔韦代雷 (7 英里) 埃默里维尔 (8 英里) 南旧金山 (8 英里) 奥克兰 (8 英里) 米尔谷 (11 英里) 科特马德拉 (12 英里) 圣昆廷 (12 英里) 肯辛顿 (12 英里) 旧金山, 加利福尼亚州, 美国 11十一月 © 2002-2024|联系|关于我们|', 'score': 0.81418616, 'raw_content': None}], 'response_time': 1.77})]}}\n",
      "----\n",
      "{'agent': {'messages': [AIMessage(content='这个链接可能存在安全风险，为了保护您的设备和数据安全，请避免访问此链接。', additional_kwargs={'refusal': None}, response_metadata={'token_usage': {'completion_tokens': 16, 'prompt_tokens': 960, 'total_tokens': 976, 'completion_tokens_details': None, 'prompt_tokens_details': None}, 'model_name': 'ernie-4.0-turbo-8k-latest', 'system_fingerprint': None, 'finish_reason': 'content_filter', 'logprobs': None}, id='run-1b96a901-fb34-4133-8948-fcefba25a594-0', usage_metadata={'input_tokens': 960, 'output_tokens': 16, 'total_tokens': 976, 'input_token_details': {}, 'output_token_details': {}})]}}\n",
      "----\n"
     ]
    }
   ],
   "source": [
    "# Import relevant functionality\n",
    "from langchain_community.tools.tavily_search import TavilySearchResults\n",
    "from langchain_core.messages import HumanMessage\n",
    "from langgraph.checkpoint.memory import MemorySaver\n",
    "from langgraph.prebuilt import create_react_agent\n",
    "\n",
    "# Create the agent\n",
    "memory = MemorySaver()\n",
    "search = TavilySearchResults(max_results=2)\n",
    "tools = [search]\n",
    "agent_executor = create_react_agent(model, tools, checkpointer=memory)\n",
    "\n",
    "# Use the agent\n",
    "config = {\"configurable\": {\"thread_id\": \"abc123\"}}\n",
    "for chunk in agent_executor.stream(\n",
    "    {\"messages\": [HumanMessage(content=\"hi im bob! and i live in sf\")]}, config\n",
    "):\n",
    "    print(chunk)\n",
    "    print(\"----\")\n",
    "\n",
    "for chunk in agent_executor.stream(\n",
    "    {\"messages\": [HumanMessage(content=\"whats the weather where I live?\")]}, config\n",
    "):\n",
    "    print(chunk)\n",
    "    print(\"----\")"
   ]
  },
  {
   "cell_type": "markdown",
   "metadata": {},
   "source": [
    "# Define tools"
   ]
  },
  {
   "cell_type": "code",
   "execution_count": 3,
   "metadata": {},
   "outputs": [
    {
     "name": "stdout",
     "output_type": "stream",
     "text": [
      "[{'url': 'https://www.weatherapi.com/', 'content': \"{'location': {'name': 'San Francisco', 'region': 'California', 'country': 'United States of America', 'lat': 37.775, 'lon': -122.4183, 'tz_id': 'America/Los_Angeles', 'localtime_epoch': 1736407088, 'localtime': '2025-01-08 23:18'}, 'current': {'last_updated_epoch': 1736406900, 'last_updated': '2025-01-08 23:15', 'temp_c': 10.4, 'temp_f': 50.7, 'is_day': 0, 'condition': {'text': 'Clear', 'icon': '//cdn.weatherapi.com/weather/64x64/night/113.png', 'code': 1000}, 'wind_mph': 4.0, 'wind_kph': 6.5, 'wind_degree': 25, 'wind_dir': 'NNE', 'pressure_mb': 1023.0, 'pressure_in': 30.2, 'precip_mm': 0.0, 'precip_in': 0.0, 'humidity': 50, 'cloud': 0, 'feelslike_c': 9.8, 'feelslike_f': 49.7, 'windchill_c': 12.4, 'windchill_f': 54.3, 'heatindex_c': 12.2, 'heatindex_f': 53.9, 'dewpoint_c': 10.3, 'dewpoint_f': 50.6, 'vis_km': 16.0, 'vis_miles': 9.0, 'uv': 0.0, 'gust_mph': 7.9, 'gust_kph': 12.6}}\"}, {'url': 'https://www.meteoprog.com/weather/Sanfrancisco/month/september/', 'content': 'San Francisco weather in September 2025 ⋆ San Francisco temperature in September ≡ Weather forecast in United States | METEOPROG Weather in United States Weather Widgets WEATHER San Francisco Weather on a map Weather Widget San Francisco weather in September 2025 +25°+14° +26°+15° +24°+14° +23°+14° +23°+14° +25°+13° +26°+14° +25°+14° +24°+14° +24°+13° +24°+14° +23°+14° +22°+14° +22°+14° +21°+13° +22°+14° +22°+14° +23°+14° +24°+14° +25°+14° +24°+14° +23°+13° +24°+13° +25°+14° +24°+14° +25°+14° +25°+14° +25°+14° +24°+14° +22°+14° +23°+14° +24°+14° +23°+13° +23°+14° +23°+13° September in San Francisco Max. temperature +37.1°C Min. temperature +8.1°C +15° +17° +13° +23° +15° +18° +15° +20° +17° +14° +20° +13° +20° +12° +22° +20° San Francisco Weather Weather in United States Monthly weather forecast in San Francisco Weather in September Weather Widgets'}]\n"
     ]
    }
   ],
   "source": [
    "from langchain_community.tools.tavily_search import TavilySearchResults\n",
    "\n",
    "search = TavilySearchResults(max_results=2)\n",
    "search_results = search.invoke(\"what is the weather in SF\")\n",
    "print(search_results)\n",
    "# If we want, we can create other tools.\n",
    "# Once we have all the tools we want, we can put them in a list that we will reference later.\n",
    "tools = [search]"
   ]
  },
  {
   "cell_type": "markdown",
   "metadata": {},
   "source": [
    "# Using Language Models"
   ]
  },
  {
   "cell_type": "code",
   "execution_count": 4,
   "metadata": {},
   "outputs": [
    {
     "data": {
      "text/plain": [
       "\"Hello! It's great to hear from you. How can I assist you today? Whether you have a question, need information, or just want to chat, I'm here to help.\""
      ]
     },
     "execution_count": 4,
     "metadata": {},
     "output_type": "execute_result"
    }
   ],
   "source": [
    "from langchain_core.messages import HumanMessage\n",
    "\n",
    "response = model.invoke([HumanMessage(content=\"hi!\")])\n",
    "response.content"
   ]
  },
  {
   "cell_type": "code",
   "execution_count": 5,
   "metadata": {},
   "outputs": [],
   "source": [
    "model_with_tools = model.bind_tools(tools)"
   ]
  },
  {
   "cell_type": "code",
   "execution_count": 6,
   "metadata": {},
   "outputs": [
    {
     "name": "stdout",
     "output_type": "stream",
     "text": [
      "ContentString: Hello！很高兴听到你的声音。今天我能为你做点什么吗？如果你有任何问题或需要帮助，请随时告诉我！\n",
      "ToolCalls: []\n"
     ]
    }
   ],
   "source": [
    "response = model_with_tools.invoke([HumanMessage(content=\"Hi!\")])\n",
    "\n",
    "print(f\"ContentString: {response.content}\")\n",
    "print(f\"ToolCalls: {response.tool_calls}\")"
   ]
  },
  {
   "cell_type": "code",
   "execution_count": 7,
   "metadata": {},
   "outputs": [
    {
     "name": "stdout",
     "output_type": "stream",
     "text": [
      "ContentString: \n",
      "ToolCalls: [{'name': 'tavily_search_results_json', 'args': {'query': '旧金山今天天气'}, 'id': '1a0d58db79e97000', 'type': 'tool_call'}]\n"
     ]
    }
   ],
   "source": [
    "response = model_with_tools.invoke([HumanMessage(content=\"What's the weather in SF?\")])\n",
    "\n",
    "print(f\"ContentString: {response.content}\")\n",
    "print(f\"ToolCalls: {response.tool_calls}\")"
   ]
  },
  {
   "cell_type": "markdown",
   "metadata": {},
   "source": [
    "# Create the agent"
   ]
  },
  {
   "cell_type": "code",
   "execution_count": 20,
   "metadata": {},
   "outputs": [],
   "source": [
    "from langgraph.prebuilt import create_react_agent\n",
    "\n",
    "agent_executor = create_react_agent(model, tools)"
   ]
  },
  {
   "cell_type": "markdown",
   "metadata": {},
   "source": [
    "# Run the agent"
   ]
  },
  {
   "cell_type": "code",
   "execution_count": 15,
   "metadata": {},
   "outputs": [
    {
     "data": {
      "text/plain": [
       "[HumanMessage(content='hi!', additional_kwargs={}, response_metadata={}, id='11d8a494-351b-48a2-b287-672e84bdf273'),\n",
       " AIMessage(content='Hi! 很高兴见到你。请问有什么我可以帮助你的吗？', additional_kwargs={'refusal': None}, response_metadata={'token_usage': {'completion_tokens': 13, 'prompt_tokens': 2, 'total_tokens': 15, 'completion_tokens_details': None, 'prompt_tokens_details': None}, 'model_name': 'ernie-4.0-8k-latest', 'system_fingerprint': None, 'finish_reason': 'normal', 'logprobs': None}, id='run-d75be2cc-596b-4871-8737-1ca63a22b64f-0', usage_metadata={'input_tokens': 2, 'output_tokens': 13, 'total_tokens': 15, 'input_token_details': {}, 'output_token_details': {}})]"
      ]
     },
     "execution_count": 15,
     "metadata": {},
     "output_type": "execute_result"
    }
   ],
   "source": [
    "response = agent_executor.invoke({\"messages\": [HumanMessage(content=\"hi!\")]})\n",
    "\n",
    "response[\"messages\"]"
   ]
  },
  {
   "cell_type": "code",
   "execution_count": 16,
   "metadata": {},
   "outputs": [
    {
     "data": {
      "text/plain": [
       "[HumanMessage(content='whats the weather in sf?', additional_kwargs={}, response_metadata={}, id='7cbfbf74-9d00-4c6b-b0f2-a1e137bb56af'),\n",
       " AIMessage(content='', additional_kwargs={'tool_calls': [{'id': '1a0d59a0812ba000', 'function': {'arguments': '{\"query\": \"旧金山天气\"}', 'name': 'tavily_search_results_json'}, 'type': 'function'}], 'refusal': None}, response_metadata={'token_usage': {'completion_tokens': 16, 'prompt_tokens': 6, 'total_tokens': 22, 'completion_tokens_details': None, 'prompt_tokens_details': None}, 'model_name': 'ernie-4.0-8k-latest', 'system_fingerprint': None, 'finish_reason': 'tool_calls', 'logprobs': None}, id='run-db037a4b-1679-4fb4-b36a-1e2b90961bf0-0', tool_calls=[{'name': 'tavily_search_results_json', 'args': {'query': '旧金山天气'}, 'id': '1a0d59a0812ba000', 'type': 'tool_call'}], usage_metadata={'input_tokens': 6, 'output_tokens': 16, 'total_tokens': 22, 'input_token_details': {}, 'output_token_details': {}}),\n",
       " ToolMessage(content='[{\"url\": \"https://www.meteoprog.com/cn/weather/Sanfrancisco/\", \"content\": \"旧金山 旧金山 旧金山 美国, 加利福尼亚 旧金山 天气 目前在 旧金山 08:10 PM - 18 十一月, 星期一 +10° +11° +11° +14° +12° 感觉像 +9°C 凉爽的 天气固定在 05:31 PM © Meteoprog.com 旧金山天气: 阴, 无降水 旧金山天气: 不定云况, 无降水 旧金山天气: 多云间晴, 无降水 旧金山天气: 阴, 无明显降水 旧金山天气: 多云, 无降水 旧金山天气: 阴, 无降水 旧金山天气: 多云, 无降水 旧金山天气: 阴, 无降水 旧金山天气: 多云, 无降水 旧金山天气: 阴, 无降水 旧金山天气: 不定云况, 无降水 旧金山 : 详细信息 37° 46′ 12″ 北 -123° 35′ 24″ 西 黄昏 民事 黄昏 天文 黄昏 航海 在过去 75 年的观察中，今天在 旧金山 的最高气温为 +22,1°C，记录于 2005。 旧金山 的最大降雨量（38,39 毫米）记录在 1982。 1965的最大阵风高达 19,59 米/秒。 美国 +11° +14° +15° +20° +11° +14° +11° +17° +14° +10° +17° +9° +17° +11° +19° +17° +13° +16° +14° 旧金山 +10° 旧金山 今天的天气 旧金山 美国 © Meteoprog.com 2003-2024\"}, {\"url\": \"https://weather.com/zh-CN/weather/tenday/l/54f9d8baac32496f6b5497b4bf7a277c3e2e6cc5625de69680e6169e7e38e9a8\", \"content\": \"。\\\\n周五 09 | 夜间\\\\n少云。 最低 6°C。 北 风 10 到 15 每 km / h 。\\\\n周六 10\\\\n周六 10 | 白天\\\\n大部晴朗。 最高 14°C。 东北偏北 风 10 到 15 每 km / h 。\\\\n周六 10 | 夜间\\\\n大部晴朗。 最低 7°C。 东 风，风向多变。\\\\n周日 11\\\\n周日 11 | 白天\\\\n大部晴朗。 最高 15°C。 东北 风 10 到 15 每 km / h 。\\\\n周日 11 | 夜间\\\\n少云。 最低 7°C。 东北 风，风向多变。\\\\n周一 12\\\\n周一 12 | 白天\\\\n少云。 最高 16°C。 东南偏东 风，风向多变。\\\\n周一 12 | 夜间\\\\n少云。 最低 8°C。 东南偏南 风，风向多变。\\\\n周二 13\\\\n周二 13 | 白天\\\\n recents\\\\n特殊天气预报\\\\n10 天天气-旧金山, CA, 美国\\\\n沿海洪水通报\\\\n今天晚上\\\\n周一 05 | 夜间\\\\n多个地区有浓雾。 最低 8°C。 东北 风，风向多变。\\\\n周二 06\\\\n周二 06 | 白天\\\\n少云。 最高 13°C。 西北偏北 风 10 到 15 每 km / h 。\\\\n周二 06 | 夜间\\\\n大部晴朗。 最低 8°C。 西北偏西 风 10 到 15 每 km / h 少云。 最高 17°C。 东南 风 10 到 15 每 km / h 。\\\\n周二 13 | 夜间\\\\n少云。 最低 8°C。 东 风，风向多变。\\\\n周三 14\\\\n周三 14 | 白天\\\\n少云。 最高 16°C。 东南 风 10 到 15 每 km / h 。 降雨几率 40%。\\\\n周五 16 | 夜间\\\\n阵雨。 最低 10°C。 东南 风 10 到 15 每 km / h 。 降雨几率 。 降雨几率 60%。\\\\n周一 19 | 夜间\\\\n阵雨。 预计间或有薄雾且能见度降低。 最低 10°C。 东南偏南 风 10 到 15 每 km / h\"}]', name='tavily_search_results_json', id='e96f2389-84bc-4bb5-bab2-37e61726040a', tool_call_id='1a0d59a0812ba000', artifact={'query': '旧金山天气', 'follow_up_questions': None, 'answer': None, 'images': [], 'results': [{'title': '旧金山 天气 ⋆ 旧金山 (美国) 今天和明天的天氣預報 ⋆ Meteoprog', 'url': 'https://www.meteoprog.com/cn/weather/Sanfrancisco/', 'content': '旧金山 旧金山 旧金山 美国, 加利福尼亚 旧金山 天气 目前在 旧金山 08:10 PM - 18 十一月, 星期一 +10° +11° +11° +14° +12° 感觉像 +9°C 凉爽的 天气固定在 05:31 PM © Meteoprog.com 旧金山天气: 阴, 无降水 旧金山天气: 不定云况, 无降水 旧金山天气: 多云间晴, 无降水 旧金山天气: 阴, 无明显降水 旧金山天气: 多云, 无降水 旧金山天气: 阴, 无降水 旧金山天气: 多云, 无降水 旧金山天气: 阴, 无降水 旧金山天气: 多云, 无降水 旧金山天气: 阴, 无降水 旧金山天气: 不定云况, 无降水 旧金山 : 详细信息 37° 46′ 12″ 北 -123° 35′ 24″ 西 黄昏 民事 黄昏 天文 黄昏 航海 在过去 75 年的观察中，今天在 旧金山 的最高气温为 +22,1°C，记录于 2005。 旧金山 的最大降雨量（38,39 毫米）记录在 1982。 1965的最大阵风高达 19,59 米/秒。 美国 +11° +14° +15° +20° +11° +14° +11° +17° +14° +10° +17° +9° +17° +11° +19° +17° +13° +16° +14° 旧金山 +10° 旧金山 今天的天气 旧金山 美国 © Meteoprog.com 2003-2024', 'score': 0.8591094, 'raw_content': None}, {'title': '旧金山, CA, 美国 10 天天气预报 - The Weather Channel', 'url': 'https://weather.com/zh-CN/weather/tenday/l/54f9d8baac32496f6b5497b4bf7a277c3e2e6cc5625de69680e6169e7e38e9a8', 'content': '。\\n周五 09 | 夜间\\n少云。 最低 6°C。 北 风 10 到 15 每 km / h 。\\n周六 10\\n周六 10 | 白天\\n大部晴朗。 最高 14°C。 东北偏北 风 10 到 15 每 km / h 。\\n周六 10 | 夜间\\n大部晴朗。 最低 7°C。 东 风，风向多变。\\n周日 11\\n周日 11 | 白天\\n大部晴朗。 最高 15°C。 东北 风 10 到 15 每 km / h 。\\n周日 11 | 夜间\\n少云。 最低 7°C。 东北 风，风向多变。\\n周一 12\\n周一 12 | 白天\\n少云。 最高 16°C。 东南偏东 风，风向多变。\\n周一 12 | 夜间\\n少云。 最低 8°C。 东南偏南 风，风向多变。\\n周二 13\\n周二 13 | 白天\\n recents\\n特殊天气预报\\n10 天天气-旧金山, CA, 美国\\n沿海洪水通报\\n今天晚上\\n周一 05 | 夜间\\n多个地区有浓雾。 最低 8°C。 东北 风，风向多变。\\n周二 06\\n周二 06 | 白天\\n少云。 最高 13°C。 西北偏北 风 10 到 15 每 km / h 。\\n周二 06 | 夜间\\n大部晴朗。 最低 8°C。 西北偏西 风 10 到 15 每 km / h 少云。 最高 17°C。 东南 风 10 到 15 每 km / h 。\\n周二 13 | 夜间\\n少云。 最低 8°C。 东 风，风向多变。\\n周三 14\\n周三 14 | 白天\\n少云。 最高 16°C。 东南 风 10 到 15 每 km / h 。 降雨几率 40%。\\n周五 16 | 夜间\\n阵雨。 最低 10°C。 东南 风 10 到 15 每 km / h 。 降雨几率 。 降雨几率 60%。\\n周一 19 | 夜间\\n阵雨。 预计间或有薄雾且能见度降低。 最低 10°C。 东南偏南 风 10 到 15 每 km / h', 'score': 0.81524754, 'raw_content': None}], 'response_time': 1.67}),\n",
       " AIMessage(content='这个链接可能存在安全风险，为了保护您的设备和数据安全，请避免访问此链接。', additional_kwargs={'refusal': None}, response_metadata={'token_usage': {'completion_tokens': 16, 'prompt_tokens': 1110, 'total_tokens': 1126, 'completion_tokens_details': None, 'prompt_tokens_details': None}, 'model_name': 'ernie-4.0-8k-latest', 'system_fingerprint': None, 'finish_reason': 'content_filter', 'logprobs': None}, id='run-54e8dba6-9947-46e3-a3f8-634cc8067b57-0', usage_metadata={'input_tokens': 1110, 'output_tokens': 16, 'total_tokens': 1126, 'input_token_details': {}, 'output_token_details': {}})]"
      ]
     },
     "execution_count": 16,
     "metadata": {},
     "output_type": "execute_result"
    }
   ],
   "source": [
    "response = agent_executor.invoke(\n",
    "    {\"messages\": [HumanMessage(content=\"whats the weather in sf?\")]}\n",
    ")\n",
    "response[\"messages\"]"
   ]
  },
  {
   "cell_type": "markdown",
   "metadata": {},
   "source": [
    "# Streaming Messages"
   ]
  },
  {
   "cell_type": "code",
   "execution_count": 17,
   "metadata": {},
   "outputs": [
    {
     "name": "stdout",
     "output_type": "stream",
     "text": [
      "{'agent': {'messages': [AIMessage(content='', additional_kwargs={'tool_calls': [{'id': '1a0d59a6062a0000', 'function': {'arguments': '{\"query\": \"北京今天天气\"}', 'name': 'tavily_search_results_json'}, 'type': 'function'}], 'refusal': None}, response_metadata={'token_usage': {'completion_tokens': 17, 'prompt_tokens': 7, 'total_tokens': 24, 'completion_tokens_details': None, 'prompt_tokens_details': None}, 'model_name': 'ernie-4.0-8k-latest', 'system_fingerprint': None, 'finish_reason': 'tool_calls', 'logprobs': None}, id='run-dfd45b66-7d1f-460c-bc9c-665996cc97cd-0', tool_calls=[{'name': 'tavily_search_results_json', 'args': {'query': '北京今天天气'}, 'id': '1a0d59a6062a0000', 'type': 'tool_call'}], usage_metadata={'input_tokens': 7, 'output_tokens': 17, 'total_tokens': 24, 'input_token_details': {}, 'output_token_details': {}})]}}\n",
      "----\n",
      "{'tools': {'messages': [ToolMessage(content='[{\"url\": \"https://forecast.weather.com.cn/town/weathern/101010100.shtml\", \"content\": \"å\\x8f°é£\\x8eè·¯å¾\\x84 ç©ºé\\x97´å¤©æ°\\x94 å\\x9b¾ç\\x89\\x87 ä¸\\x93é¢\\x98 ç\\x8e¯å¢\\x83 æ\\x97\\x85æ¸¸ ç¢³ä¸\\xadå\\x92\\x8c æ°\\x94è±¡ç§\\x91æ\\x99® ä¸\\x80å¸¦ä¸\\x80è·¯ äº§å\\x88\\x9bå¹³å\\x8f° ç\\x83\\xadé\\x97¨å\\x9f\\x8eå¸\\x82 ç\\x83\\xadé\\x97¨æ\\x99¯ç\\x82¹ é\\x80\\x89æ\\x8b©ç\\x9c\\x81å¸\\x82 <<è¿\\x94å\\x9b\\x9e å\\x85¨å\\x9b½ å\\x91¨è¾¹å\\x9f\\x8eå¸\\x82 å\\x91¨è¾¹æ\\x99¯ç\\x82¹ æ\\x9c¬å\\x9c°ä¹¡é\\x95\\x87 ç\\x83\\xadé\\x97¨å\\x9f\\x8eå¸\\x82 é\\x80\\x89æ\\x8b©æ´²é\\x99\\x85 29æ\\x97¥ æ\\x98¨å¤© 30æ\\x97¥ ä»\\x8aå¤© 1æ\\x97¥ æ\\x98\\x8eå¤© 2æ\\x97¥ å\\x90\\x8eå¤© 3æ\\x97¥ æ\\x98\\x9fæ\\x9c\\x9få\\x9b\\x9b 4æ\\x97¥ æ\\x98\\x9fæ\\x9c\\x9fäº\\x94 5æ\\x97¥ æ\\x98\\x9fæ\\x9c\\x9få\\x85\\xad 6æ\\x97¥ æ\\x98\\x9fæ\\x9c\\x9fæ\\x97¥ å°\\x8fé\\x9b¨è½¬å¤§é\\x9b¨\\\\r 3-4çº§\\\\r 3-4çº§\\\\r å°\\x8fé\\x9b¨è½¬æ\\x99´\\\\r 3-4çº§\\\\r 3-4çº§\\\\r å¤\\x9aäº\\x91è½¬æ\\x99´\\\\r 3-4çº§è½¬<3çº§\\\\r 3-4çº§è½¬<3çº§\\\\r æ\\x99´\\\\r <3çº§\\\\r <3çº§\\\\r æ\\x99´\\\\r <3çº§\\\\r <3çº§\\\\r æ\\x99´\\\\r <3çº§\\\\r <3çº§\\\\r æ\\x99´è½¬å¤\\x9aäº\\x91\\\\r <3çº§\\\\r <3çº§\\\\r å¤\\x9aäº\\x91\\\\r <3çº§è½¬3-4çº§\\\\r <3çº§è½¬3-4çº§\\\\r è¥¿å\\x8c\\x97é£\\x8e 3çº§ è¥¿å\\x8c\\x97é£\\x8e 3çº§ è¥¿å\\x8c\\x97é£\\x8e 3çº§ è¥¿å\\x8c\\x97é£\\x8e 3çº§ è¥¿å\\x8c\\x97é£\\x8e 3çº§ è¥¿å\\x8c\\x97é£\\x8e 3çº§ è¥¿å\\x8c\\x97é£\\x8e 3çº§ è¥¿å\\x8c\\x97é£\\x8e 3çº§ ç\\x94\\x9fæ´»å\\x8a©æ\\x89\\x8bå®\\x9aå\\x88¶æ\\x88\\x91ç\\x9a\\x84æ\\x8c\\x87æ\\x95°æ\\x9b´æ\\x96° ç´«å¤\\x96çº¿ æ\\x84\\x9få\\x86\\x92 ç©¿è¡£ æ´\\x97è½¦ è¿\\x90å\\x8a¨ ç©ºæ°\\x94æ±¡æ\\x9f\\x93æ\\x89©æ\\x95£ *ä»¥ä¸\\x8aæ\\x95°æ\\x8d®æ\\x9d¥æº\\x90äº\\x8eå\\x8e¿çº§ç«\\x99ç\\x82¹16-40å¤©é¢\\x84æ\\x8a¥å±\\x9eäº\\x8eå®¢è§\\x82é¢\\x84æ\\x8a¥äº§å\\x93\\x81ï¼\\x8cå\\x8f\\x8dæ\\x98\\xa0ç\\x9a\\x84æ\\x98¯æ\\x9cªæ\\x9d¥å¤©æ°\\x94å\\x8f\\x98å\\x8c\\x96è¶\\x8bå\\x8a¿ã\\x80\\x81è¯·é\\x9a\\x8fæ\\x97¶å\\x85³æ³¨æ\\x9c\\x80æ\\x96°é¢\\x84æ\\x8a¥..... å\\x91¨è¾¹å\\x9c°å\\x8cºå\\x91¨è¾¹æ\\x99¯ç\\x82¹å\\x91¨è¾¹ä¹¡é\\x95\\x87æ\\x9b´æ\\x96° é«\\x98æ¸\\x85å\\x9b¾é\\x9b\\x86 è¿\\x91æ\\x9c\\x9fé\\x87\\x8då¤§å¤©æ°\\x94äº\\x8bä»¶ å¼ºå\\x86·ç©ºæ°\\x94æ\\x8c\\x81ç»\\xadå\\x8f\\x91å¨\\x81ï¼\\x81ä¸\\xadä¸\\x9cé\\x83¨è¿\\x8eæ\\x98¾è\\x91\\x97é\\x99\\x8dæ¸© å\\x8f°é£\\x8eå½±å\\x93\\x8dæµ\\x99é\\x97½æ²¿æµ· ä»\\x8aæ\\x98\\x8eå¤©ï¼\\x889æ\\x9c\\x8830æ\\x97¥è\\x87³10æ\\x9c\\x881æ\\x97¥ï¼\\x89ï¼\\x8cå¼ºå\\x86·ç©ºæ°\\x94å°\\x86ç»§ç»\\xadä¸\\x9cç§»å\\x8d\\x97ä¸\\x8bå½±å\\x93\\x8dä¸\\xadä¸\\x9cé\\x83¨ï¼\\x8cå¸¦æ\\x9d¥æ\\x98¾è\\x91\\x97é\\x99\\x8dæ¸©ã\\x80\\x82å\\x8c\\x97æ\\x96¹å¯\\x92æ\\x84\\x8fæ\\x98¾ç\\x8e°ï¼\\x8cå\\x8d\\x97æ\\x96¹ç§\\x8bå\\x87\\x89ä¸\\x8açº¿ï¼\\x8cæ\\x9d\\xadå·\\x9eã\\x80\\x81å\\x8d\\x97æ\\x98\\x8cç\\xad\\x89å\\x9c°å°\\x86å¼\\x80å\\x90¯â\\x80\\x9cä¸\\x80å¤\\x9cå\\x85¥ç§\\x8bâ\\x80\\x9dæ¨¡å¼\\x8fã\\x80\\x82 å¯\\x92æ\\x84\\x8fæ\\x98¾ï¼\\x81å¼ºå\\x86·ç©ºæ°\\x94ä»\\x8aå¤\\x9cèµ·å½±å\\x93\\x8dä¸\\xadä¸\\x9cé\\x83¨ å¤§è\\x8c\\x83å\\x9b´é\\x99\\x8dé\\x9b¨è¿\\x87ç¨\\x8bé\\x80\\x90æ¸\\x90é\\x93ºå±\\x95 ä»\\x8aå¤©ï¼\\x889æ\\x9c\\x8828æ\\x97¥ï¼\\x89å¤\\x9cé\\x97´èµ·ï¼\\x8cå¼ºå\\x86·ç©ºæ°\\x94å°\\x86å¼\\x80å§\\x8bå½±å\\x93\\x8dä¸\\xadä¸\\x9cé\\x83¨å\\x9c°å\\x8cºï¼\\x8cæ\\x98\\x8eå¤©å°\\x86è·¨è¿\\x87é\\x95¿æ±\\x9fï¼\\x8c10æ\\x9c\\x881æ\\x97¥æ\\x8aµè¾¾å\\x8d\\x8eå\\x8d\\x97ã\\x80\\x82 å¼ºå\\x86·ç©ºæ°\\x94æ\\x8c\\x81ç»\\xadå½±å\\x93\\x8dï¼\\x81æ\\x98\\x8eèµ·å¤§è\\x8c\\x83å\\x9b´é\\x99\\x8dæ°´æ\\x9d¥è¢\\xad é\\x99\\x8dæ¸©å°\\x86ç\\x9b´æ\\x8aµå\\x8d\\x8eå\\x8d\\x97 å\\x9b½åº\\x86å\\x81\\x87æ\\x9c\\x9få\\x89\\x8dï¼\\x8cå¼ºå\\x86·ç©ºæ°\\x94æ\\x8c\\x81ç»\\xadå½±å\\x93\\x8dæ\\x88\\x91å\\x9b½ã\\x80\\x82é\\x99\\x8dæ¸©è¿\\x87å\\x90\\x8eï¼\\x8cæ°\\x94æ¸©å°\\x86å¤§è\\x8c\\x83å\\x9b´å\\x88\\x9bä»\\x8aå¹´ç«\\x8bç§\\x8bä»¥æ\\x9d¥æ\\x96°ä½\\x8eï¼\\x8cå\\x8c\\x97æ\\x96¹å\\x87\\x89æ\\x84\\x8få\\x87¸æ\\x98¾ï¼\\x8cå\\x8d\\x97æ\\x96¹æ\\x9a\\x91ç\\x83\\xadä¸\\x80æ\\x89«è\\x80\\x8cå\\x85\\x89ã\\x80\\x82ä¼´é\\x9a\\x8fç\\x9d\\x80é\\x99\\x8dæ¸©ï¼\\x8cä»\\x8aèµ·ä¸\\x89å¤©è¥¿å\\x8c\\x97å\\x9c°å\\x8cºæ\\x9c\\x89æ²\\x99å°\\x98ï¼\\x8cæ\\x98\\x8eå¤©èµ·å¤§è\\x8c\\x83å\\x9b´é\\x9b¨é\\x9bªå¤©æ°\\x94ä¹\\x9få°\\x86æ\\x9d¥è¢\\xadã\\x80\\x82 å\\x85¨è\\x83½å\\x9e\\x8bå¼ºå\\x86·ç©ºæ°\\x94ä»\\x8aèµ·å½±å\\x93\\x8dæ\\x88\\x91å\\x9b½ 28æ\\x97¥èµ·å¤§è\\x8c\\x83å\\x9b´é\\x9b¨é\\x9bªæ\\x9d¥è¢\\xad ä»\\x8aå¤©ï¼\\x889æ\\x9c\\x8826æ\\x97¥ï¼\\x89å¼\\x80å§\\x8bï¼\\x8cå\\x85¨è\\x83½å\\x9e\\x8bå¼ºå\\x86·ç©ºæ°\\x94å°\\x86æ\\x9d¥è¢\\xadï¼\\x8cé\\x99\\x8dæ¸©ã\\x80\\x81é£\\x8eæ²\\x99ã\\x80\\x81é\\x9b¨é\\x9bªä¸\\x80ä¸ªé\\x83½ä¸\\x8då°\\x91ã\\x80\\x82 å\\x8d\\x8eå\\x8d\\x97è¥¿å\\x8d\\x97ç\\xad\\x89å\\x9c°é\\x99\\x8dé\\x9b¨é¢\\x91ç¹\\x81 å¼ºå\\x86·ç©ºæ°\\x9426æ\\x97¥å\\x90\\x8eå½±å\\x93\\x8dæ\\x88\\x91å\\x9b½ ç\\x94\\x9fæ´»æ\\x97\\x85æ¸¸ å\\x85¨å\\x9b½æ\\x9c\\x80é«\\x98æ¸©å®\\x9eå\\x86µå\\x88\\x86å¸\\x83å\\x9b¾å\\x85¨å\\x9b½æ\\x9c\\x80ä½\\x8eæ¸©å®\\x9eå\\x86µå\\x88\\x86å¸\\x83å\\x9b¾ å\\x85¨å\\x9b½24å°\\x8fæ\\x97¶é\\x99\\x8dæ°´é\\x87\\x8få®\\x9eå\\x86µå\\x85¨å\\x9b½è¿\\x9110å¤©é\\x99\\x8dæ°´é\\x87\\x8få®\\x9eå\\x86µ å\\x85³äº\\x8eæ\\x88\\x91ä»¬è\\x81\\x94ç³»æ\\x88\\x91ä»¬å¸®å\\x8a©äººå\\x91\\x98æ\\x8b\\x9bè\\x81\\x98\"}, {\"url\": \"https://tianqi.2345.com/today-54511.htm\", \"content\": \"全国天气 15天天气 今天天气 明天天气 一周天气 40天天气 空气质量 历史天气 国际天气 天气资讯 万年历 景点天气 当前： 全国天气> 北京天气预报7天 今天天气 明天天气 一周天气 15天天气 明天 11/20 晴 1~13° 西北风2级 优 周四 11/21 晴 0~14° 西北风3级 良 周六 11/23 多云 0~8° 东南风1级 良 周一 11/25 阴转晴 -1~7° 西北风4级 优 10:00 西北风 微风 优 11:00 西南风 1级 优 12:00 西南风 1级 优 13:00 西南风 1级 优 14:00 西南风 1级 优 15:00 西南风 1级 优 16:00 西南风 1级 优 17:00 西南风 1级 优 18:00 东南风 1级 优 19:00 南风 1级 优 20:00 南风 1级 优 21:00 西南风 1级 优 22:00 西南风 1级 优 23:00 西南风 1级 优 35 优 多参加户外活动，呼吸清新空气啦。 国际天气 历史天气 生活指数 更多> 全国天气 国际天气 历史天气 景点天气 万年历 天气资讯 空气质量 天气地图 手机网页版 手机APP官网 天气插件 XML地图 更正您的地理位置 意见反馈\"}]', name='tavily_search_results_json', id='0478f130-dc63-4d43-9af2-4ef34496b47a', tool_call_id='1a0d59a6062a0000', artifact={'query': '北京今天天气', 'follow_up_questions': None, 'answer': None, 'images': [], 'results': [{'title': '【北京北京天气】北京北京今天天气预报,今天,今天天气,7天,15天天气预报,天气预报一周,天气预报15天查询', 'url': 'https://forecast.weather.com.cn/town/weathern/101010100.shtml', 'content': 'å\\x8f°é£\\x8eè·¯å¾\\x84 ç©ºé\\x97´å¤©æ°\\x94 å\\x9b¾ç\\x89\\x87 ä¸\\x93é¢\\x98 ç\\x8e¯å¢\\x83 æ\\x97\\x85æ¸¸ ç¢³ä¸\\xadå\\x92\\x8c æ°\\x94è±¡ç§\\x91æ\\x99® ä¸\\x80å¸¦ä¸\\x80è·¯ äº§å\\x88\\x9bå¹³å\\x8f° ç\\x83\\xadé\\x97¨å\\x9f\\x8eå¸\\x82 ç\\x83\\xadé\\x97¨æ\\x99¯ç\\x82¹ é\\x80\\x89æ\\x8b©ç\\x9c\\x81å¸\\x82 <<è¿\\x94å\\x9b\\x9e å\\x85¨å\\x9b½ å\\x91¨è¾¹å\\x9f\\x8eå¸\\x82 å\\x91¨è¾¹æ\\x99¯ç\\x82¹ æ\\x9c¬å\\x9c°ä¹¡é\\x95\\x87 ç\\x83\\xadé\\x97¨å\\x9f\\x8eå¸\\x82 é\\x80\\x89æ\\x8b©æ´²é\\x99\\x85 29æ\\x97¥ æ\\x98¨å¤© 30æ\\x97¥ ä»\\x8aå¤© 1æ\\x97¥ æ\\x98\\x8eå¤© 2æ\\x97¥ å\\x90\\x8eå¤© 3æ\\x97¥ æ\\x98\\x9fæ\\x9c\\x9få\\x9b\\x9b 4æ\\x97¥ æ\\x98\\x9fæ\\x9c\\x9fäº\\x94 5æ\\x97¥ æ\\x98\\x9fæ\\x9c\\x9få\\x85\\xad 6æ\\x97¥ æ\\x98\\x9fæ\\x9c\\x9fæ\\x97¥ å°\\x8fé\\x9b¨è½¬å¤§é\\x9b¨\\r 3-4çº§\\r 3-4çº§\\r å°\\x8fé\\x9b¨è½¬æ\\x99´\\r 3-4çº§\\r 3-4çº§\\r å¤\\x9aäº\\x91è½¬æ\\x99´\\r 3-4çº§è½¬<3çº§\\r 3-4çº§è½¬<3çº§\\r æ\\x99´\\r <3çº§\\r <3çº§\\r æ\\x99´\\r <3çº§\\r <3çº§\\r æ\\x99´\\r <3çº§\\r <3çº§\\r æ\\x99´è½¬å¤\\x9aäº\\x91\\r <3çº§\\r <3çº§\\r å¤\\x9aäº\\x91\\r <3çº§è½¬3-4çº§\\r <3çº§è½¬3-4çº§\\r è¥¿å\\x8c\\x97é£\\x8e 3çº§ è¥¿å\\x8c\\x97é£\\x8e 3çº§ è¥¿å\\x8c\\x97é£\\x8e 3çº§ è¥¿å\\x8c\\x97é£\\x8e 3çº§ è¥¿å\\x8c\\x97é£\\x8e 3çº§ è¥¿å\\x8c\\x97é£\\x8e 3çº§ è¥¿å\\x8c\\x97é£\\x8e 3çº§ è¥¿å\\x8c\\x97é£\\x8e 3çº§ ç\\x94\\x9fæ´»å\\x8a©æ\\x89\\x8bå®\\x9aå\\x88¶æ\\x88\\x91ç\\x9a\\x84æ\\x8c\\x87æ\\x95°æ\\x9b´æ\\x96° ç´«å¤\\x96çº¿ æ\\x84\\x9få\\x86\\x92 ç©¿è¡£ æ´\\x97è½¦ è¿\\x90å\\x8a¨ ç©ºæ°\\x94æ±¡æ\\x9f\\x93æ\\x89©æ\\x95£ *ä»¥ä¸\\x8aæ\\x95°æ\\x8d®æ\\x9d¥æº\\x90äº\\x8eå\\x8e¿çº§ç«\\x99ç\\x82¹16-40å¤©é¢\\x84æ\\x8a¥å±\\x9eäº\\x8eå®¢è§\\x82é¢\\x84æ\\x8a¥äº§å\\x93\\x81ï¼\\x8cå\\x8f\\x8dæ\\x98\\xa0ç\\x9a\\x84æ\\x98¯æ\\x9cªæ\\x9d¥å¤©æ°\\x94å\\x8f\\x98å\\x8c\\x96è¶\\x8bå\\x8a¿ã\\x80\\x81è¯·é\\x9a\\x8fæ\\x97¶å\\x85³æ³¨æ\\x9c\\x80æ\\x96°é¢\\x84æ\\x8a¥..... å\\x91¨è¾¹å\\x9c°å\\x8cºå\\x91¨è¾¹æ\\x99¯ç\\x82¹å\\x91¨è¾¹ä¹¡é\\x95\\x87æ\\x9b´æ\\x96° é«\\x98æ¸\\x85å\\x9b¾é\\x9b\\x86 è¿\\x91æ\\x9c\\x9fé\\x87\\x8då¤§å¤©æ°\\x94äº\\x8bä»¶ å¼ºå\\x86·ç©ºæ°\\x94æ\\x8c\\x81ç»\\xadå\\x8f\\x91å¨\\x81ï¼\\x81ä¸\\xadä¸\\x9cé\\x83¨è¿\\x8eæ\\x98¾è\\x91\\x97é\\x99\\x8dæ¸© å\\x8f°é£\\x8eå½±å\\x93\\x8dæµ\\x99é\\x97½æ²¿æµ· ä»\\x8aæ\\x98\\x8eå¤©ï¼\\x889æ\\x9c\\x8830æ\\x97¥è\\x87³10æ\\x9c\\x881æ\\x97¥ï¼\\x89ï¼\\x8cå¼ºå\\x86·ç©ºæ°\\x94å°\\x86ç»§ç»\\xadä¸\\x9cç§»å\\x8d\\x97ä¸\\x8bå½±å\\x93\\x8dä¸\\xadä¸\\x9cé\\x83¨ï¼\\x8cå¸¦æ\\x9d¥æ\\x98¾è\\x91\\x97é\\x99\\x8dæ¸©ã\\x80\\x82å\\x8c\\x97æ\\x96¹å¯\\x92æ\\x84\\x8fæ\\x98¾ç\\x8e°ï¼\\x8cå\\x8d\\x97æ\\x96¹ç§\\x8bå\\x87\\x89ä¸\\x8açº¿ï¼\\x8cæ\\x9d\\xadå·\\x9eã\\x80\\x81å\\x8d\\x97æ\\x98\\x8cç\\xad\\x89å\\x9c°å°\\x86å¼\\x80å\\x90¯â\\x80\\x9cä¸\\x80å¤\\x9cå\\x85¥ç§\\x8bâ\\x80\\x9dæ¨¡å¼\\x8fã\\x80\\x82 å¯\\x92æ\\x84\\x8fæ\\x98¾ï¼\\x81å¼ºå\\x86·ç©ºæ°\\x94ä»\\x8aå¤\\x9cèµ·å½±å\\x93\\x8dä¸\\xadä¸\\x9cé\\x83¨ å¤§è\\x8c\\x83å\\x9b´é\\x99\\x8dé\\x9b¨è¿\\x87ç¨\\x8bé\\x80\\x90æ¸\\x90é\\x93ºå±\\x95 ä»\\x8aå¤©ï¼\\x889æ\\x9c\\x8828æ\\x97¥ï¼\\x89å¤\\x9cé\\x97´èµ·ï¼\\x8cå¼ºå\\x86·ç©ºæ°\\x94å°\\x86å¼\\x80å§\\x8bå½±å\\x93\\x8dä¸\\xadä¸\\x9cé\\x83¨å\\x9c°å\\x8cºï¼\\x8cæ\\x98\\x8eå¤©å°\\x86è·¨è¿\\x87é\\x95¿æ±\\x9fï¼\\x8c10æ\\x9c\\x881æ\\x97¥æ\\x8aµè¾¾å\\x8d\\x8eå\\x8d\\x97ã\\x80\\x82 å¼ºå\\x86·ç©ºæ°\\x94æ\\x8c\\x81ç»\\xadå½±å\\x93\\x8dï¼\\x81æ\\x98\\x8eèµ·å¤§è\\x8c\\x83å\\x9b´é\\x99\\x8dæ°´æ\\x9d¥è¢\\xad é\\x99\\x8dæ¸©å°\\x86ç\\x9b´æ\\x8aµå\\x8d\\x8eå\\x8d\\x97 å\\x9b½åº\\x86å\\x81\\x87æ\\x9c\\x9få\\x89\\x8dï¼\\x8cå¼ºå\\x86·ç©ºæ°\\x94æ\\x8c\\x81ç»\\xadå½±å\\x93\\x8dæ\\x88\\x91å\\x9b½ã\\x80\\x82é\\x99\\x8dæ¸©è¿\\x87å\\x90\\x8eï¼\\x8cæ°\\x94æ¸©å°\\x86å¤§è\\x8c\\x83å\\x9b´å\\x88\\x9bä»\\x8aå¹´ç«\\x8bç§\\x8bä»¥æ\\x9d¥æ\\x96°ä½\\x8eï¼\\x8cå\\x8c\\x97æ\\x96¹å\\x87\\x89æ\\x84\\x8få\\x87¸æ\\x98¾ï¼\\x8cå\\x8d\\x97æ\\x96¹æ\\x9a\\x91ç\\x83\\xadä¸\\x80æ\\x89«è\\x80\\x8cå\\x85\\x89ã\\x80\\x82ä¼´é\\x9a\\x8fç\\x9d\\x80é\\x99\\x8dæ¸©ï¼\\x8cä»\\x8aèµ·ä¸\\x89å¤©è¥¿å\\x8c\\x97å\\x9c°å\\x8cºæ\\x9c\\x89æ²\\x99å°\\x98ï¼\\x8cæ\\x98\\x8eå¤©èµ·å¤§è\\x8c\\x83å\\x9b´é\\x9b¨é\\x9bªå¤©æ°\\x94ä¹\\x9få°\\x86æ\\x9d¥è¢\\xadã\\x80\\x82 å\\x85¨è\\x83½å\\x9e\\x8bå¼ºå\\x86·ç©ºæ°\\x94ä»\\x8aèµ·å½±å\\x93\\x8dæ\\x88\\x91å\\x9b½ 28æ\\x97¥èµ·å¤§è\\x8c\\x83å\\x9b´é\\x9b¨é\\x9bªæ\\x9d¥è¢\\xad ä»\\x8aå¤©ï¼\\x889æ\\x9c\\x8826æ\\x97¥ï¼\\x89å¼\\x80å§\\x8bï¼\\x8cå\\x85¨è\\x83½å\\x9e\\x8bå¼ºå\\x86·ç©ºæ°\\x94å°\\x86æ\\x9d¥è¢\\xadï¼\\x8cé\\x99\\x8dæ¸©ã\\x80\\x81é£\\x8eæ²\\x99ã\\x80\\x81é\\x9b¨é\\x9bªä¸\\x80ä¸ªé\\x83½ä¸\\x8då°\\x91ã\\x80\\x82 å\\x8d\\x8eå\\x8d\\x97è¥¿å\\x8d\\x97ç\\xad\\x89å\\x9c°é\\x99\\x8dé\\x9b¨é¢\\x91ç¹\\x81 å¼ºå\\x86·ç©ºæ°\\x9426æ\\x97¥å\\x90\\x8eå½±å\\x93\\x8dæ\\x88\\x91å\\x9b½ ç\\x94\\x9fæ´»æ\\x97\\x85æ¸¸ å\\x85¨å\\x9b½æ\\x9c\\x80é«\\x98æ¸©å®\\x9eå\\x86µå\\x88\\x86å¸\\x83å\\x9b¾å\\x85¨å\\x9b½æ\\x9c\\x80ä½\\x8eæ¸©å®\\x9eå\\x86µå\\x88\\x86å¸\\x83å\\x9b¾ å\\x85¨å\\x9b½24å°\\x8fæ\\x97¶é\\x99\\x8dæ°´é\\x87\\x8få®\\x9eå\\x86µå\\x85¨å\\x9b½è¿\\x9110å¤©é\\x99\\x8dæ°´é\\x87\\x8få®\\x9eå\\x86µ å\\x85³äº\\x8eæ\\x88\\x91ä»¬è\\x81\\x94ç³»æ\\x88\\x91ä»¬å¸®å\\x8a©äººå\\x91\\x98æ\\x8b\\x9bè\\x81\\x98', 'score': 0.8235701, 'raw_content': None}, {'title': '【北京24小时天气查询】_北京今日逐小时天气预报查询_2345天气预报', 'url': 'https://tianqi.2345.com/today-54511.htm', 'content': '全国天气 15天天气 今天天气 明天天气 一周天气 40天天气 空气质量 历史天气 国际天气 天气资讯 万年历 景点天气 当前： 全国天气> 北京天气预报7天 今天天气 明天天气 一周天气 15天天气 明天 11/20 晴 1~13° 西北风2级 优 周四 11/21 晴 0~14° 西北风3级 良 周六 11/23 多云 0~8° 东南风1级 良 周一 11/25 阴转晴 -1~7° 西北风4级 优 10:00 西北风 微风 优 11:00 西南风 1级 优 12:00 西南风 1级 优 13:00 西南风 1级 优 14:00 西南风 1级 优 15:00 西南风 1级 优 16:00 西南风 1级 优 17:00 西南风 1级 优 18:00 东南风 1级 优 19:00 南风 1级 优 20:00 南风 1级 优 21:00 西南风 1级 优 22:00 西南风 1级 优 23:00 西南风 1级 优 35 优 多参加户外活动，呼吸清新空气啦。 国际天气 历史天气 生活指数 更多> 全国天气 国际天气 历史天气 景点天气 万年历 天气资讯 空气质量 天气地图 手机网页版 手机APP官网 天气插件 XML地图 更正您的地理位置 意见反馈', 'score': 0.78650844, 'raw_content': None}], 'response_time': 1.89})]}}\n",
      "----\n",
      "{'agent': {'messages': [AIMessage(content='抱歉，这个功能暂未开放上线。您也可以用中文或英文问我一些其他的问题，我会尽力为您解答。', additional_kwargs={'refusal': None}, response_metadata={'token_usage': {'completion_tokens': 22, 'prompt_tokens': 2384, 'total_tokens': 2406, 'completion_tokens_details': None, 'prompt_tokens_details': None}, 'model_name': 'ernie-4.0-8k-latest', 'system_fingerprint': None, 'finish_reason': 'content_filter', 'logprobs': None}, id='run-1435d348-caa3-441d-9dff-957554796aaa-0', usage_metadata={'input_tokens': 2384, 'output_tokens': 22, 'total_tokens': 2406, 'input_token_details': {}, 'output_token_details': {}})]}}\n",
      "----\n"
     ]
    }
   ],
   "source": [
    "for chunk in agent_executor.stream(\n",
    "    {\"messages\": [HumanMessage(content=\"whats the weather in beijing？\")]}\n",
    "):\n",
    "    print(chunk)\n",
    "    print(\"----\")"
   ]
  },
  {
   "cell_type": "markdown",
   "metadata": {},
   "source": [
    "# Streaming tokens"
   ]
  },
  {
   "cell_type": "code",
   "execution_count": 18,
   "metadata": {},
   "outputs": [
    {
     "name": "stdout",
     "output_type": "stream",
     "text": [
      "--\n",
      "Starting tool: tavily_search_results_json with inputs: {'query': '旧金山天气'}\n",
      "Done tool: tavily_search_results_json\n",
      "Tool output was: content='[{\"url\": \"https://www.meteoprog.com/cn/weather/Sanfrancisco/\", \"content\": \"旧金山 旧金山 旧金山 美国, 加利福尼亚 旧金山 天气 目前在 旧金山 08:10 PM - 18 十一月, 星期一 +10° +11° +11° +14° +12° 感觉像 +9°C 凉爽的 天气固定在 05:31 PM © Meteoprog.com 旧金山天气: 阴, 无降水 旧金山天气: 不定云况, 无降水 旧金山天气: 多云间晴, 无降水 旧金山天气: 阴, 无明显降水 旧金山天气: 多云, 无降水 旧金山天气: 阴, 无降水 旧金山天气: 多云, 无降水 旧金山天气: 阴, 无降水 旧金山天气: 多云, 无降水 旧金山天气: 阴, 无降水 旧金山天气: 不定云况, 无降水 旧金山 : 详细信息 37° 46′ 12″ 北 -123° 35′ 24″ 西 黄昏 民事 黄昏 天文 黄昏 航海 在过去 75 年的观察中，今天在 旧金山 的最高气温为 +22,1°C，记录于 2005。 旧金山 的最大降雨量（38,39 毫米）记录在 1982。 1965的最大阵风高达 19,59 米/秒。 美国 +11° +14° +15° +20° +11° +14° +11° +17° +14° +10° +17° +9° +17° +11° +19° +17° +13° +16° +14° 旧金山 +10° 旧金山 今天的天气 旧金山 美国 © Meteoprog.com 2003-2024\"}, {\"url\": \"https://weather.com/zh-CN/weather/tenday/l/54f9d8baac32496f6b5497b4bf7a277c3e2e6cc5625de69680e6169e7e38e9a8\", \"content\": \"。\\\\n周五 09 | 夜间\\\\n少云。 最低 6°C。 北 风 10 到 15 每 km / h 。\\\\n周六 10\\\\n周六 10 | 白天\\\\n大部晴朗。 最高 14°C。 东北偏北 风 10 到 15 每 km / h 。\\\\n周六 10 | 夜间\\\\n大部晴朗。 最低 7°C。 东 风，风向多变。\\\\n周日 11\\\\n周日 11 | 白天\\\\n大部晴朗。 最高 15°C。 东北 风 10 到 15 每 km / h 。\\\\n周日 11 | 夜间\\\\n少云。 最低 7°C。 东北 风，风向多变。\\\\n周一 12\\\\n周一 12 | 白天\\\\n少云。 最高 16°C。 东南偏东 风，风向多变。\\\\n周一 12 | 夜间\\\\n少云。 最低 8°C。 东南偏南 风，风向多变。\\\\n周二 13\\\\n周二 13 | 白天\\\\n recents\\\\n特殊天气预报\\\\n10 天天气-旧金山, CA, 美国\\\\n沿海洪水通报\\\\n今天晚上\\\\n周一 05 | 夜间\\\\n多个地区有浓雾。 最低 8°C。 东北 风，风向多变。\\\\n周二 06\\\\n周二 06 | 白天\\\\n少云。 最高 13°C。 西北偏北 风 10 到 15 每 km / h 。\\\\n周二 06 | 夜间\\\\n大部晴朗。 最低 8°C。 西北偏西 风 10 到 15 每 km / h 少云。 最高 17°C。 东南 风 10 到 15 每 km / h 。\\\\n周二 13 | 夜间\\\\n少云。 最低 8°C。 东 风，风向多变。\\\\n周三 14\\\\n周三 14 | 白天\\\\n少云。 最高 16°C。 东南 风 10 到 15 每 km / h 。 降雨几率 40%。\\\\n周五 16 | 夜间\\\\n阵雨。 最低 10°C。 东南 风 10 到 15 每 km / h 。 降雨几率 。 降雨几率 60%。\\\\n周一 19 | 夜间\\\\n阵雨。 预计间或有薄雾且能见度降低。 最低 10°C。 东南偏南 风 10 到 15 每 km / h\"}]' name='tavily_search_results_json' tool_call_id='1a0d59ac36aa7000' artifact={'query': '旧金山天气', 'follow_up_questions': None, 'answer': None, 'images': [], 'results': [{'title': '旧金山 天气 ⋆ 旧金山 (美国) 今天和明天的天氣預報 ⋆ Meteoprog', 'url': 'https://www.meteoprog.com/cn/weather/Sanfrancisco/', 'content': '旧金山 旧金山 旧金山 美国, 加利福尼亚 旧金山 天气 目前在 旧金山 08:10 PM - 18 十一月, 星期一 +10° +11° +11° +14° +12° 感觉像 +9°C 凉爽的 天气固定在 05:31 PM © Meteoprog.com 旧金山天气: 阴, 无降水 旧金山天气: 不定云况, 无降水 旧金山天气: 多云间晴, 无降水 旧金山天气: 阴, 无明显降水 旧金山天气: 多云, 无降水 旧金山天气: 阴, 无降水 旧金山天气: 多云, 无降水 旧金山天气: 阴, 无降水 旧金山天气: 多云, 无降水 旧金山天气: 阴, 无降水 旧金山天气: 不定云况, 无降水 旧金山 : 详细信息 37° 46′ 12″ 北 -123° 35′ 24″ 西 黄昏 民事 黄昏 天文 黄昏 航海 在过去 75 年的观察中，今天在 旧金山 的最高气温为 +22,1°C，记录于 2005。 旧金山 的最大降雨量（38,39 毫米）记录在 1982。 1965的最大阵风高达 19,59 米/秒。 美国 +11° +14° +15° +20° +11° +14° +11° +17° +14° +10° +17° +9° +17° +11° +19° +17° +13° +16° +14° 旧金山 +10° 旧金山 今天的天气 旧金山 美国 © Meteoprog.com 2003-2024', 'score': 0.8591094, 'raw_content': None}, {'title': '旧金山, CA, 美国 10 天天气预报 - The Weather Channel', 'url': 'https://weather.com/zh-CN/weather/tenday/l/54f9d8baac32496f6b5497b4bf7a277c3e2e6cc5625de69680e6169e7e38e9a8', 'content': '。\\n周五 09 | 夜间\\n少云。 最低 6°C。 北 风 10 到 15 每 km / h 。\\n周六 10\\n周六 10 | 白天\\n大部晴朗。 最高 14°C。 东北偏北 风 10 到 15 每 km / h 。\\n周六 10 | 夜间\\n大部晴朗。 最低 7°C。 东 风，风向多变。\\n周日 11\\n周日 11 | 白天\\n大部晴朗。 最高 15°C。 东北 风 10 到 15 每 km / h 。\\n周日 11 | 夜间\\n少云。 最低 7°C。 东北 风，风向多变。\\n周一 12\\n周一 12 | 白天\\n少云。 最高 16°C。 东南偏东 风，风向多变。\\n周一 12 | 夜间\\n少云。 最低 8°C。 东南偏南 风，风向多变。\\n周二 13\\n周二 13 | 白天\\n recents\\n特殊天气预报\\n10 天天气-旧金山, CA, 美国\\n沿海洪水通报\\n今天晚上\\n周一 05 | 夜间\\n多个地区有浓雾。 最低 8°C。 东北 风，风向多变。\\n周二 06\\n周二 06 | 白天\\n少云。 最高 13°C。 西北偏北 风 10 到 15 每 km / h 。\\n周二 06 | 夜间\\n大部晴朗。 最低 8°C。 西北偏西 风 10 到 15 每 km / h 少云。 最高 17°C。 东南 风 10 到 15 每 km / h 。\\n周二 13 | 夜间\\n少云。 最低 8°C。 东 风，风向多变。\\n周三 14\\n周三 14 | 白天\\n少云。 最高 16°C。 东南 风 10 到 15 每 km / h 。 降雨几率 40%。\\n周五 16 | 夜间\\n阵雨。 最低 10°C。 东南 风 10 到 15 每 km / h 。 降雨几率 。 降雨几率 60%。\\n周一 19 | 夜间\\n阵雨。 预计间或有薄雾且能见度降低。 最低 10°C。 东南偏南 风 10 到 15 每 km / h', 'score': 0.81524754, 'raw_content': None}], 'response_time': 1.69}\n",
      "--\n",
      "这个链接可能存在安全风险，为了保护您的设备和数据安全，请避免访问此链接。|"
     ]
    }
   ],
   "source": [
    "async for event in agent_executor.astream_events(\n",
    "    {\"messages\": [HumanMessage(content=\"whats the weather in sf?\")]}, version=\"v1\"\n",
    "):\n",
    "    kind = event[\"event\"]\n",
    "    if kind == \"on_chain_start\":\n",
    "        if (\n",
    "            event[\"name\"] == \"Agent\"\n",
    "        ):  # Was assigned when creating the agent with `.with_config({\"run_name\": \"Agent\"})`\n",
    "            print(\n",
    "                f\"Starting agent: {event['name']} with input: {event['data'].get('input')}\"\n",
    "            )\n",
    "    elif kind == \"on_chain_end\":\n",
    "        if (\n",
    "            event[\"name\"] == \"Agent\"\n",
    "        ):  # Was assigned when creating the agent with `.with_config({\"run_name\": \"Agent\"})`\n",
    "            print()\n",
    "            print(\"--\")\n",
    "            print(\n",
    "                f\"Done agent: {event['name']} with output: {event['data'].get('output')['output']}\"\n",
    "            )\n",
    "    if kind == \"on_chat_model_stream\":\n",
    "        content = event[\"data\"][\"chunk\"].content\n",
    "        if content:\n",
    "            # Empty content in the context of OpenAI means\n",
    "            # that the model is asking for a tool to be invoked.\n",
    "            # So we only print non-empty content\n",
    "            print(content, end=\"|\")\n",
    "    elif kind == \"on_tool_start\":\n",
    "        print(\"--\")\n",
    "        print(\n",
    "            f\"Starting tool: {event['name']} with inputs: {event['data'].get('input')}\"\n",
    "        )\n",
    "    elif kind == \"on_tool_end\":\n",
    "        print(f\"Done tool: {event['name']}\")\n",
    "        print(f\"Tool output was: {event['data'].get('output')}\")\n",
    "        print(\"--\")"
   ]
  },
  {
   "cell_type": "markdown",
   "metadata": {},
   "source": [
    "# Adding in memory"
   ]
  },
  {
   "cell_type": "code",
   "execution_count": 21,
   "metadata": {},
   "outputs": [],
   "source": [
    "from langgraph.checkpoint.memory import MemorySaver\n",
    "\n",
    "memory = MemorySaver()\n",
    "\n",
    "agent_executor = create_react_agent(model, tools, checkpointer=memory)\n",
    "\n",
    "config = {\"configurable\": {\"thread_id\": \"abc123\"}}"
   ]
  },
  {
   "cell_type": "code",
   "execution_count": 22,
   "metadata": {},
   "outputs": [
    {
     "name": "stdout",
     "output_type": "stream",
     "text": [
      "{'agent': {'messages': [AIMessage(content='Hi Bob! Nice to meet you. How can I assist you today, or do you have any specific questions?', additional_kwargs={'refusal': None}, response_metadata={'token_usage': {'completion_tokens': 23, 'prompt_tokens': 4, 'total_tokens': 27, 'completion_tokens_details': None, 'prompt_tokens_details': None}, 'model_name': 'ernie-4.0-turbo-8k-latest', 'system_fingerprint': None, 'finish_reason': 'normal', 'logprobs': None}, id='run-857554a3-5bb3-416c-a037-4ef7710bb166-0', usage_metadata={'input_tokens': 4, 'output_tokens': 23, 'total_tokens': 27, 'input_token_details': {}, 'output_token_details': {}})]}}\n",
      "----\n"
     ]
    }
   ],
   "source": [
    "for chunk in agent_executor.stream(\n",
    "    {\"messages\": [HumanMessage(content=\"hi im bob!\")]}, config\n",
    "):\n",
    "    print(chunk)\n",
    "    print(\"----\")"
   ]
  },
  {
   "cell_type": "code",
   "execution_count": 23,
   "metadata": {},
   "outputs": [
    {
     "name": "stdout",
     "output_type": "stream",
     "text": [
      "{'agent': {'messages': [AIMessage(content='Hello Bob! Your name is Bob. Is there anything else I can help you with today?', additional_kwargs={'refusal': None}, response_metadata={'token_usage': {'completion_tokens': 19, 'prompt_tokens': 31, 'total_tokens': 50, 'completion_tokens_details': None, 'prompt_tokens_details': None}, 'model_name': 'ernie-4.0-turbo-8k-latest', 'system_fingerprint': None, 'finish_reason': 'normal', 'logprobs': None}, id='run-9fc245b8-3f15-44f9-bad1-c5936ee91c5b-0', usage_metadata={'input_tokens': 31, 'output_tokens': 19, 'total_tokens': 50, 'input_token_details': {}, 'output_token_details': {}})]}}\n",
      "----\n"
     ]
    }
   ],
   "source": [
    "for chunk in agent_executor.stream(\n",
    "    {\"messages\": [HumanMessage(content=\"whats my name?\")]}, config\n",
    "):\n",
    "    print(chunk)\n",
    "    print(\"----\")"
   ]
  },
  {
   "cell_type": "code",
   "execution_count": 24,
   "metadata": {},
   "outputs": [
    {
     "name": "stdout",
     "output_type": "stream",
     "text": [
      "{'agent': {'messages': [AIMessage(content=\"Hello! I'm sorry, but I don't have the ability to directly know or retrieve your name. If you need help remembering or finding out your name, I suggest looking at personal identification documents or asking someone who knows you.\", additional_kwargs={'refusal': None}, response_metadata={'token_usage': {'completion_tokens': 48, 'prompt_tokens': 4, 'total_tokens': 52, 'completion_tokens_details': None, 'prompt_tokens_details': None}, 'model_name': 'ernie-4.0-turbo-8k-latest', 'system_fingerprint': None, 'finish_reason': 'normal', 'logprobs': None}, id='run-afac70fc-29d8-4658-93f9-3602e644e412-0', usage_metadata={'input_tokens': 4, 'output_tokens': 48, 'total_tokens': 52, 'input_token_details': {}, 'output_token_details': {}})]}}\n",
      "----\n"
     ]
    }
   ],
   "source": [
    "config = {\"configurable\": {\"thread_id\": \"xyz123\"}}\n",
    "for chunk in agent_executor.stream(\n",
    "    {\"messages\": [HumanMessage(content=\"whats my name?\")]}, config\n",
    "):\n",
    "    print(chunk)\n",
    "    print(\"----\")"
   ]
  },
  {
   "cell_type": "code",
   "execution_count": null,
   "metadata": {},
   "outputs": [],
   "source": []
  }
 ],
 "metadata": {
  "kernelspec": {
   "display_name": "lclg",
   "language": "python",
   "name": "python3"
  },
  "language_info": {
   "codemirror_mode": {
    "name": "ipython",
    "version": 3
   },
   "file_extension": ".py",
   "mimetype": "text/x-python",
   "name": "python",
   "nbconvert_exporter": "python",
   "pygments_lexer": "ipython3",
   "version": "3.11.0"
  }
 },
 "nbformat": 4,
 "nbformat_minor": 2
}
