{
 "cells": [
  {
   "cell_type": "code",
   "execution_count": 5,
   "metadata": {},
   "outputs": [],
   "source": [
    "from langchain_core.messages import ToolMessage, AIMessage"
   ]
  },
  {
   "cell_type": "code",
   "execution_count": 6,
   "metadata": {},
   "outputs": [],
   "source": [
    "t = ToolMessage(\n",
    "        content=\"Content: 关羽收关平为义子。\\n刘备怕袁绍追赶，与关羽直奔张飞驻守的古城。路上经过卧牛山时，遇到了赵云，便一同前往古城。\\n刘备与两个重新团聚，又新得赵云、关平、周仓三人，于是大家杀牛宰羊庆贺团圆。\\n\\nContent: 刘备遭督邮欺辱，便取出县尉官印，挂在督邮脖子上，弃官而去。兄弟三人依旧带了几十名亲随，离开安喜县城，前往幽州投靠刘恢。\\n\\nContent: 刘备装着怕雷的样子，骗过了曹操。曹操见他胆小如鼠，便不再怀疑刘备了。\\n袁绍杀了公孙瓒，袁术要送传国玉玺给他。刘备便以拦截袁术为名，从曹操手中要兵五万，逃离许都。曹操派朱灵、路昭两将与刘备同行。\\n\\nContent: 引刘备见献帝，皇帝叫人查了家谱，便认刘备为皇叔。\\n曹操请献帝出城打猎，以观动静。忽见荆棘中跑出一只鹿，献帝连射三箭未中，便改让曹操射，曹操用献帝的弓箭射杀了鹿。\",\n",
    "        name=\"retrieve\",\n",
    "        id=\"779f9cab-bfb5-47f5-88ae-870e57145859\",\n",
    "        tool_call_id=\"call_0_79eece61-2633-4af6-a3c8-fc00ad545818\",\n",
    "    )\n",
    "\n",
    "ai = AIMessage(\n",
    "        content=\"刘备的三弟是张飞。他们三人在桃园结义，成为生死与共的兄弟。\",\n",
    "        additional_kwargs={\"refusal\": None},\n",
    "        response_metadata={\n",
    "            \"token_usage\": {\n",
    "                \"completion_tokens\": 22,\n",
    "                \"prompt_tokens\": 333,\n",
    "                \"total_tokens\": 355,\n",
    "                \"completion_tokens_details\": None,\n",
    "                \"prompt_tokens_details\": None,\n",
    "                \"prompt_cache_hit_tokens\": 320,\n",
    "                \"prompt_cache_miss_tokens\": 13,\n",
    "            },\n",
    "            \"model_name\": \"deepseek-chat\",\n",
    "            \"system_fingerprint\": \"fp_3a5770e1b4\",\n",
    "            \"finish_reason\": \"stop\",\n",
    "            \"logprobs\": None,\n",
    "        },\n",
    "        id=\"run-24dea2b3-a226-45f5-a299-d39322ec1f5a-0\",\n",
    "        usage_metadata={\n",
    "            \"input_tokens\": 333,\n",
    "            \"output_tokens\": 22,\n",
    "            \"total_tokens\": 355,\n",
    "            \"input_token_details\": {},\n",
    "            \"output_token_details\": {},\n",
    "        },\n",
    "    )"
   ]
  },
  {
   "cell_type": "code",
   "execution_count": 3,
   "metadata": {},
   "outputs": [
    {
     "data": {
      "text/plain": [
       "'tool'"
      ]
     },
     "execution_count": 3,
     "metadata": {},
     "output_type": "execute_result"
    }
   ],
   "source": [
    "t.type"
   ]
  },
  {
   "cell_type": "code",
   "execution_count": 7,
   "metadata": {},
   "outputs": [
    {
     "data": {
      "text/plain": [
       "'ai'"
      ]
     },
     "execution_count": 7,
     "metadata": {},
     "output_type": "execute_result"
    },
    {
     "ename": "",
     "evalue": "",
     "output_type": "error",
     "traceback": [
      "\u001b[1;31m在当前单元格或上一个单元格中执行代码时 Kernel 崩溃。\n",
      "\u001b[1;31m请查看单元格中的代码，以确定故障的可能原因。\n",
      "\u001b[1;31m单击<a href='https://aka.ms/vscodeJupyterKernelCrash'>此处</a>了解详细信息。\n",
      "\u001b[1;31m有关更多详细信息，请查看 Jupyter <a href='command:jupyter.viewOutput'>log</a>。"
     ]
    }
   ],
   "source": [
    "ai.type"
   ]
  },
  {
   "cell_type": "code",
   "execution_count": null,
   "metadata": {},
   "outputs": [],
   "source": []
  }
 ],
 "metadata": {
  "kernelspec": {
   "display_name": "lclg",
   "language": "python",
   "name": "python3"
  },
  "language_info": {
   "codemirror_mode": {
    "name": "ipython",
    "version": 3
   },
   "file_extension": ".py",
   "mimetype": "text/x-python",
   "name": "python",
   "nbconvert_exporter": "python",
   "pygments_lexer": "ipython3",
   "version": "3.11.0"
  }
 },
 "nbformat": 4,
 "nbformat_minor": 2
}
