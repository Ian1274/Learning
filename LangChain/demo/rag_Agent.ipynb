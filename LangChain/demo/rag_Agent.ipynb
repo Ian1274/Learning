{
 "cells": [
  {
   "cell_type": "markdown",
   "metadata": {},
   "source": [
    "# 导入模型"
   ]
  },
  {
   "cell_type": "code",
   "execution_count": 128,
   "metadata": {},
   "outputs": [],
   "source": [
    "import os\n",
    "from dotenv import load_dotenv\n",
    "from langchain_openai import ChatOpenAI\n",
    "from langchain_ollama import ChatOllama\n",
    "from langchain_huggingface import HuggingFaceEmbeddings  # HuggingFace嵌入\n",
    "\n",
    "load_dotenv(dotenv_path=r\"E:\\Workplace\\GitHub\\Learning\\LangChain\\.env\", override=True)\n",
    "\n",
    "model_ds = ChatOpenAI(\n",
    "                    # temperature=0.1,\n",
    "                    # max_tokens=2048,\n",
    "                    # presence_penalty=1.2,\n",
    "                    model='deepseek-chat',\n",
    "                    openai_api_key=os.getenv('DEEPSEEK_API_KEY'),\n",
    "                    openai_api_base=\"https://api.deepseek.com/v1\",\n",
    "                    # model='gpt-4o-mini',\n",
    "                    # openai_api_key=os.getenv('CLOSEAI_API_KEY'),\n",
    "                    # openai_api_base=\"https://api.openai-proxy.org/v1\",\n",
    "                    # model='yi-large-fc',\n",
    "                    # openai_api_key=os.getenv('YI_API_KEY'),\n",
    "                    # openai_api_base=\"https://api.lingyiwanwu.com/v1\",\n",
    "                )\n",
    "\n",
    "model_yi = ChatOpenAI(\n",
    "                    # temperature=0.1,\n",
    "                    # max_tokens=2048,\n",
    "                    # presence_penalty=1.2,\n",
    "                    # model='deepseek-chat',\n",
    "                    # openai_api_key=os.getenv('DEEPSEEK_API_KEY'),\n",
    "                    # openai_api_base=\"https://api.deepseek.com/v1\",\n",
    "                    # model='gpt-4o-mini',\n",
    "                    # openai_api_key=os.getenv('CLOSEAI_API_KEY'),\n",
    "                    # openai_api_base=\"https://api.openai-proxy.org/v1\",\n",
    "                    model='yi-large-fc',\n",
    "                    openai_api_key=os.getenv('YI_API_KEY'),\n",
    "                    openai_api_base=\"https://api.lingyiwanwu.com/v1\",\n",
    "                )\n",
    "\n",
    "model_gpt = ChatOpenAI(\n",
    "                    # temperature=0.1,\n",
    "                    # max_tokens=2048,\n",
    "                    # presence_penalty=1.2,\n",
    "                    # model='deepseek-chat',\n",
    "                    # openai_api_key=os.getenv('DEEPSEEK_API_KEY'),\n",
    "                    # openai_api_base=\"https://api.deepseek.com/v1\",\n",
    "                    # model='gpt-4o-2024-11-20',\n",
    "                    model='gpt-4o',\n",
    "                    openai_api_key=os.getenv('CLOSEAI_API_KEY'),\n",
    "                    openai_api_base=\"https://api.openai-proxy.org/v1\",\n",
    "                    # model='yi-large-fc',\n",
    "                    # openai_api_key=os.getenv('YI_API_KEY'),\n",
    "                    # openai_api_base=\"https://api.lingyiwanwu.com/v1\",\n",
    "                )\n",
    "\n",
    "# model = ChatOllama(\n",
    "#                     temperature=0,\n",
    "#                     num_predict=4096,\n",
    "#                     repeat_penalty=1.2,\n",
    "#                     model=\"llama3.2:3b\"\n",
    "#                 )\n",
    "\n",
    "embeddings = HuggingFaceEmbeddings(\n",
    "            model_name=r\"E:/Workplace/GitHub/Embedding/maidalun/bce-embedding-base_v1\",\n",
    "            model_kwargs={\"device\": \"cuda\",\n",
    "                          \"trust_remote_code\": True},\n",
    "            encode_kwargs={\"normalize_embeddings\": True},\n",
    "        )"
   ]
  },
  {
   "cell_type": "markdown",
   "metadata": {},
   "source": [
    "# 构建RAG系统"
   ]
  },
  {
   "cell_type": "code",
   "execution_count": 2,
   "metadata": {},
   "outputs": [
    {
     "name": "stdout",
     "output_type": "stream",
     "text": [
      "614\n"
     ]
    },
    {
     "name": "stderr",
     "output_type": "stream",
     "text": [
      "c:\\Users\\farben\\anaconda3\\envs\\lclg\\Lib\\site-packages\\transformers\\models\\xlm_roberta\\modeling_xlm_roberta.py:371: UserWarning: 1Torch was not compiled with flash attention. (Triggered internally at ..\\aten\\src\\ATen\\native\\transformers\\cuda\\sdp_utils.cpp:455.)\n",
      "  attn_output = torch.nn.functional.scaled_dot_product_attention(\n"
     ]
    }
   ],
   "source": [
    "from langchain_core.prompts import ChatPromptTemplate\n",
    "from langchain_core.messages import BaseMessage, AnyMessage, HumanMessage, AIMessage, trim_messages\n",
    "from langchain_community.document_loaders import TextLoader\n",
    "from langchain_text_splitters import RecursiveCharacterTextSplitter\n",
    "from langchain_milvus.vectorstores.milvus import Milvus\n",
    "\n",
    "\n",
    "loader = TextLoader(\n",
    "    file_path=\"三国演义.txt\",\n",
    "    autodetect_encoding=True,\n",
    ")\n",
    "\n",
    "docs = loader.load()\n",
    "\n",
    "splitter = RecursiveCharacterTextSplitter(\n",
    "    separators=[\"。|！|？\", \"\\.\\s|\\!\\s|\\?\\s\", \"；|;\\s\", \"，|,\\s\"],  # 定义分割符\n",
    "    keep_separator=\"end\",\n",
    "    is_separator_regex=True,\n",
    "    chunk_size=100,  # 每块大小\n",
    "    chunk_overlap=0,  # 重叠大小\n",
    ")\n",
    "\n",
    "chunks = splitter.split_documents(docs)\n",
    "\n",
    "print(len(chunks))\n",
    "\n",
    "db = Milvus(\n",
    "        embedding_function=embeddings,\n",
    "        collection_name=\"sg\",\n",
    "        connection_args={\"uri\": \"https://in05-e9b7822ca8ff8bb.serverless.ali-cn-hangzhou.cloud.zilliz.com.cn\",\n",
    "                         \"token\": \"7dc031089e6d2095e90ddb01b22837bb68f444658e6efdb726899623178d777b307be7a264fb8014b445786993ce898d7e93e486\"},\n",
    "        drop_old=True,\n",
    "        auto_id=True,\n",
    "        enable_dynamic_field=True\n",
    "    )\n",
    "db.add_documents(chunks)\n",
    "\n",
    "# prompt = ChatPromptTemplate(\n",
    "#     [\n",
    "#         (\n",
    "#             \"user\",\n",
    "#             \"You are an assistant for question-answering tasks. Use the following pieces of retrieved context to answer the question. If you don't know the answer, just say that you don't know. Use three sentences maximum and keep the answer concise.\\nQuestion: {question} \\nContext: {context} \\nAnswer:\",\n",
    "#         )\n",
    "#     ]\n",
    "# )\n",
    "\n",
    "trimmer = trim_messages(strategy=\"last\", max_tokens=6, token_counter=len)\n"
   ]
  },
  {
   "cell_type": "markdown",
   "metadata": {},
   "source": [
    "# LangGraph Agent实现"
   ]
  },
  {
   "cell_type": "code",
   "execution_count": 129,
   "metadata": {},
   "outputs": [],
   "source": [
    "from langchain_core.messages import AIMessageChunk, SystemMessage\n",
    "from langchain_core.tools import tool\n",
    "from langchain_community.tools.tavily_search import TavilySearchResults\n",
    "\n",
    "from langgraph.graph import START, END, MessagesState, StateGraph\n",
    "from langgraph.checkpoint.memory import MemorySaver\n",
    "from langgraph.prebuilt import ToolNode, tools_condition, create_react_agent\n",
    "\n",
    "\n",
    "\n",
    "@tool\n",
    "def retrieve(query: str):\n",
    "    \"\"\"根据 query 从知识库中检索相关文档。\"\"\"\n",
    "    try:\n",
    "        # 解码Unicode字符串\n",
    "        if \"\\\\u\" in query:\n",
    "            import json\n",
    "            query = json.loads(f'\"{query}\"')\n",
    "\n",
    "        retrieved_docs = db.similarity_search_with_relevance_scores(query, k=4, score_threshold=0.8)\n",
    "        if not retrieved_docs:\n",
    "            return \"\"  # 如果没有检索到相关文档，返回空字符串\n",
    "            \n",
    "        serialized = \"\\n\\n\".join(\n",
    "            (f\"Content: {doc.page_content}\")\n",
    "            for doc, score in retrieved_docs if score >= 0.8  # 确保分数达标\n",
    "        )\n",
    "        return serialized\n",
    "    except Exception as e:\n",
    "        print(f\"检索出错: {e}\")\n",
    "        return \"\"\n",
    "\n",
    "@tool\n",
    "def search(query: str):\n",
    "    \"\"\"根据 query 从网络上搜索相关信息。\"\"\"\n",
    "    try:\n",
    "        # 解码Unicode字符串\n",
    "        if \"\\\\u\" in query:\n",
    "            import json\n",
    "            query = json.loads(f'\"{query}\"')\n",
    "            \n",
    "        searcher = TavilySearchResults(max_results=2)\n",
    "        search_results = searcher.invoke(query)\n",
    "        if not search_results:\n",
    "            return \"\"\n",
    "            \n",
    "        serialized = \"\\n\\n\".join(\n",
    "            (f\"Content: {result['content']}\")\n",
    "            for result in search_results if result.get('content')\n",
    "        )\n",
    "        return serialized\n",
    "    except Exception as e:\n",
    "        print(f\"搜索出错: {e}\")\n",
    "        return \"\"\n",
    "\n",
    "graph_builder = StateGraph(MessagesState)\n",
    "\n",
    "def query_or_respond(state: MessagesState):\n",
    "    \"\"\"Generate tool call for retrieval or respond.\"\"\"\n",
    "    llm_with_tool_retrieve = model_gpt.bind_tools(\n",
    "        tools=[retrieve, search],\n",
    "        tool_choice={\n",
    "            \"type\": \"function\",\n",
    "            \"function\": {\"name\": \"retrieve\"}\n",
    "        },\n",
    "        strict=True  # 确保输出严格匹配工具定义\n",
    "    )       \n",
    "    response = llm_with_tool_retrieve.invoke(state[\"messages\"])\n",
    "    # MessagesState appends messages to state instead of overwriting\n",
    "    return {\"messages\": [response]}\n",
    "\n",
    "def select_query_or_respond(\n",
    "    state: MessagesState,\n",
    "):\n",
    "    if isinstance(state, list):\n",
    "        ai_message = state[-1]\n",
    "    elif messages := state.get(\"messages\", []):\n",
    "        ai_message = messages[-1]\n",
    "    else:\n",
    "        raise ValueError(f\"No messages found in input state to tool_edge: {state}\")\n",
    "    if hasattr(ai_message, \"tool_calls\") and len(ai_message.tool_calls) > 0:\n",
    "        return \"tool_retrieve\"\n",
    "    return END\n",
    "\n",
    "    \n",
    "tool_retrieve = ToolNode(tools=[retrieve], \n",
    "                         name=\"tool_retrieve\")\n",
    "\n",
    "def search_or_generate(state: MessagesState):\n",
    "    # 确保state中有messages且不为空\n",
    "    if not state.get(\"messages\"):\n",
    "        return {\"messages\": []}\n",
    "    \n",
    "    last_message = state[\"messages\"][-1]\n",
    "    \n",
    "    # 处理工具消息\n",
    "    if last_message.type == \"tool\":\n",
    "        if not last_message.content:  # 如果工具返回空内容\n",
    "            llm_with_tool_search = model_gpt.bind_tools(\n",
    "                tools=[retrieve, search],\n",
    "                tool_choice={\n",
    "                    \"type\": \"function\",\n",
    "                    \"function\": {\"name\": \"search\"}\n",
    "                },\n",
    "                strict=True\n",
    "            )\n",
    "            response = llm_with_tool_search.invoke(state[\"messages\"])\n",
    "            return {\"messages\": [response]}\n",
    "        else:\n",
    "            # 如果工具返回了内容，直接返回当前状态\n",
    "            return state\n",
    "    \n",
    "    # 处理AI消息且包含工具调用\n",
    "    elif last_message.type == \"ai\" and hasattr(last_message, \"tool_calls\"):\n",
    "        llm_with_tool_search = model_gpt.bind_tools(\n",
    "            tools=[retrieve, search],\n",
    "            tool_choice={\n",
    "                \"type\": \"function\",\n",
    "                \"function\": {\"name\": \"search\"}\n",
    "            },\n",
    "            strict=True\n",
    "        )\n",
    "        response = llm_with_tool_search.invoke(state[\"messages\"])\n",
    "        return {\"messages\": [response]}\n",
    "    \n",
    "    # 处理其他情况\n",
    "    return state\n",
    "\n",
    "\n",
    "def select_search_or_generate(state: MessagesState):\n",
    "    if isinstance(state, list):\n",
    "        last_message = state[-1]\n",
    "    elif messages := state.get(\"messages\", []):\n",
    "        last_message = messages[-1]\n",
    "    else:\n",
    "        raise ValueError(f\"No messages found in input state to tool_edge: {state}\")\n",
    "    \n",
    "    # 确保总是返回一个有效的节点名称\n",
    "    if last_message.type == \"tool\":\n",
    "        if last_message.content == \"\":  # 如果工具返回空内容\n",
    "            return \"tool_webSearch\"\n",
    "        return \"generate\"\n",
    "    elif last_message.type == \"ai\" and last_message.tool_calls:\n",
    "        return \"tool_webSearch\"\n",
    "    return \"generate\"  # 默认返回generate节点\n",
    "\n",
    "tool_webSearch = ToolNode(tools=[search], \n",
    "                         name=\"tool_webSearch\")\n",
    "\n",
    "def generate(state: MessagesState):\n",
    "    \"\"\"Generate answer.\"\"\"\n",
    "    try:\n",
    "        # Get generated ToolMessages\n",
    "        recent_tool_messages = []\n",
    "        for message in reversed(state[\"messages\"]):\n",
    "            if message.type == \"tool\":\n",
    "                recent_tool_messages.append(message)\n",
    "            else:\n",
    "                break\n",
    "                \n",
    "        if not recent_tool_messages:\n",
    "            return {\"messages\": [AIMessage(content=\"抱歉，没有找到相关信息。\")]}\n",
    "            \n",
    "        tool_messages = recent_tool_messages[::-1]\n",
    "\n",
    "        # Format into prompt\n",
    "        docs_content = \"\\n\\n\".join(doc.content for doc in tool_messages if doc.content)\n",
    "        if not docs_content:\n",
    "            return {\"messages\": [AIMessage(content=\"抱歉，没有找到相关信息。\")]}\n",
    "            \n",
    "        system_message_content = (\n",
    "            \"You are an assistant for question-answering tasks. \"\n",
    "            \"Use the following pieces of retrieved context to answer \"\n",
    "            \"the question. If you don't know the answer, say that you \"\n",
    "            \"don't know. Use three sentences maximum and keep the \"\n",
    "            \"answer concise.\"\n",
    "            \"\\n\\n\"\n",
    "            f\"{docs_content}\"\n",
    "        )\n",
    "        \n",
    "        conversation_messages = [\n",
    "            message\n",
    "            for message in state[\"messages\"]\n",
    "            if message.type in (\"human\", \"system\")\n",
    "            or (message.type == \"ai\" and not message.tool_calls)\n",
    "        ]\n",
    "        \n",
    "        trimmed_conversation_messages = trimmer.invoke(conversation_messages)\n",
    "        prompt = [SystemMessage(system_message_content)] + trimmed_conversation_messages\n",
    "        \n",
    "        # Run\n",
    "        response = model_ds.invoke(prompt)\n",
    "        return {\"messages\": [response]}\n",
    "        \n",
    "    except Exception as e:\n",
    "        print(f\"生成回答时出错: {e}\")\n",
    "        return {\"messages\": [AIMessage(content=\"抱歉，处理您的请求时出现错误。\")]}\n",
    "\n",
    "\n",
    "\n",
    "graph_builder.add_node(\"query_or_respond\", query_or_respond)\n",
    "graph_builder.add_node(\"tool_retrieve\", tool_retrieve)\n",
    "graph_builder.add_node(\"search_or_generate\", search_or_generate)\n",
    "graph_builder.add_node(\"tool_webSearch\", tool_webSearch)\n",
    "graph_builder.add_node(\"generate\", generate)\n",
    "\n",
    "graph_builder.add_edge(START, \"query_or_respond\")\n",
    "graph_builder.add_conditional_edges(\n",
    "    \"query_or_respond\",\n",
    "    select_query_or_respond,\n",
    "    {\"tool_retrieve\": \"tool_retrieve\", END: END},\n",
    ")\n",
    "graph_builder.add_edge(\"tool_retrieve\", \"search_or_generate\")\n",
    "graph_builder.add_conditional_edges(\n",
    "    \"search_or_generate\",\n",
    "    select_search_or_generate,\n",
    "    {\"tool_webSearch\": \"tool_webSearch\", \"generate\": \"generate\"},\n",
    ")\n",
    "graph_builder.add_edge(\"tool_webSearch\", \"generate\")\n",
    "graph_builder.add_edge(\"generate\", END)\n",
    "\n",
    "memory = MemorySaver()\n",
    "graph = graph_builder.compile(checkpointer=memory)\n"
   ]
  },
  {
   "cell_type": "code",
   "execution_count": 16,
   "metadata": {},
   "outputs": [
    {
     "data": {
      "image/png": "[encoded data removed]",
      "text/plain": [
       "<langgraph.graph.state.CompiledStateGraph object at 0x000001C1245E4D90>"
      ]
     },
     "execution_count": 16,
     "metadata": {},
     "output_type": "execute_result"
    }
   ],
   "source": [
    "graph"
   ]
  },
  {
   "cell_type": "code",
   "execution_count": null,
   "metadata": {},
   "outputs": [],
   "source": [
    "retrieved_docs = db.similarity_search_with_relevance_scores(\"张飞怎么去世\", k=4, score_threshold=0.8)\n",
    "retrieved_docs"
   ]
  },
  {
   "cell_type": "code",
   "execution_count": 138,
   "metadata": {},
   "outputs": [
    {
     "name": "stderr",
     "output_type": "stream",
     "text": [
      "No relevant docs were retrieved using the relevance score threshold 0.8\n"
     ]
    },
    {
     "name": "stdout",
     "output_type": "stream",
     "text": [
      "==================================\u001b[1m Ai Message \u001b[0m==================================\n",
      "\n",
      "《西游记》一般认为是由明朝的吴承恩所著。\n"
     ]
    }
   ],
   "source": [
    "# input_message = \"诸葛亮的哥哥是谁？\"\n",
    "# input_message = \"他的哥哥在哪个阵营？参加过什么战役？\"\n",
    "# input_message = \"他的弟弟的官职最高是什么？\"\n",
    "input_message = \"西游记是谁写的？\"\n",
    "\n",
    "config = {\"configurable\": {\"thread_id\": \"1\"}}\n",
    "\n",
    "for step in graph.stream(\n",
    "    {\"messages\": [{\"role\": \"user\", \"content\": input_message}]},\n",
    "    config=config,\n",
    "    stream_mode=\"values\",\n",
    "):\n",
    "    final_result = step\n",
    "\n",
    "final_result[\"messages\"][-1].pretty_print()"
   ]
  },
  {
   "cell_type": "code",
   "execution_count": 139,
   "metadata": {},
   "outputs": [
    {
     "data": {
      "text/plain": [
       "[HumanMessage(content='诸葛亮的哥哥是谁？', additional_kwargs={}, response_metadata={}, id='dc136454-4a2e-4c00-9e47-0a27835bd8f4'),\n",
       " AIMessage(content='', additional_kwargs={'tool_calls': [{'id': 'call_oP0UbnuuJqLonUaZiSIpHFLJ', 'function': {'arguments': '{\"query\":\"诸葛亮的哥哥是谁\"}', 'name': 'retrieve'}, 'type': 'function'}], 'refusal': None}, response_metadata={'token_usage': {'completion_tokens': 11, 'prompt_tokens': 85, 'total_tokens': 96, 'completion_tokens_details': {'accepted_prediction_tokens': 0, 'audio_tokens': 0, 'reasoning_tokens': 0, 'rejected_prediction_tokens': 0}, 'prompt_tokens_details': {'audio_tokens': 0, 'cached_tokens': 0}}, 'model_name': 'gpt-4o-2024-11-20', 'system_fingerprint': 'fp_ec7eab8ec3', 'finish_reason': 'stop', 'logprobs': None}, id='run-8b92d8bf-371c-4d11-aeca-a714e9cc4398-0', tool_calls=[{'name': 'retrieve', 'args': {'query': '诸葛亮的哥哥是谁'}, 'id': 'call_oP0UbnuuJqLonUaZiSIpHFLJ', 'type': 'tool_call'}], usage_metadata={'input_tokens': 85, 'output_tokens': 11, 'total_tokens': 96, 'input_token_details': {'audio': 0, 'cache_read': 0}, 'output_token_details': {'audio': 0, 'reasoning': 0}}),\n",
       " ToolMessage(content='', name='retrieve', id='e8657252-605a-447e-8ce5-bfb0a0390f94', tool_call_id='call_oP0UbnuuJqLonUaZiSIpHFLJ'),\n",
       " AIMessage(content='', additional_kwargs={'tool_calls': [{'id': 'call_RqrDeOYW6RZWq1mLea4EZ9XW', 'function': {'arguments': '{\"query\":\"诸葛亮的哥哥是谁\"}', 'name': 'search'}, 'type': 'function'}], 'refusal': None}, response_metadata={'token_usage': {'completion_tokens': 11, 'prompt_tokens': 110, 'total_tokens': 121, 'completion_tokens_details': {'accepted_prediction_tokens': 0, 'audio_tokens': 0, 'reasoning_tokens': 0, 'rejected_prediction_tokens': 0}, 'prompt_tokens_details': {'audio_tokens': 0, 'cached_tokens': 0}}, 'model_name': 'gpt-4o-2024-11-20', 'system_fingerprint': 'fp_ec7eab8ec3', 'finish_reason': 'stop', 'logprobs': None}, id='run-41b04af1-ae29-40ce-9d2d-a683ea74a68d-0', tool_calls=[{'name': 'search', 'args': {'query': '诸葛亮的哥哥是谁'}, 'id': 'call_RqrDeOYW6RZWq1mLea4EZ9XW', 'type': 'tool_call'}], usage_metadata={'input_tokens': 110, 'output_tokens': 11, 'total_tokens': 121, 'input_token_details': {'audio': 0, 'cache_read': 0}, 'output_token_details': {'audio': 0, 'reasoning': 0}}),\n",
       " ToolMessage(content='Content: 与诸葛亮选择加入蜀国阵营不同，诸葛亮的哥哥诸葛瑾选择加入了吴国阵营，而他的弟弟则选择加入了魏国阵营。诸葛瑾生于公元174年，死于公元241年，在世一共68年。 ... 蜀汉后期第一猛将是谁？不是魏延，也不是姜维，而是诸葛亮的孙子\\n\\nContent: 诸葛三兄弟_百度百科 网页新闻贴吧知道网盘图片视频地图文库资讯采购百科 百度首页 登录 注册 进入词条全站搜索帮助 首页 秒懂百科 特色百科 知识专题 加入百科 百科团队 权威合作 个人中心 诸葛三兄弟 播报讨论上传视频 诸葛亮、诸葛瑾、诸葛诞 收藏 查看我的收藏 0有用+1 三国时期，诸葛氏中有三兄弟被史家称为“龙虎狗”。《太平御览·人事部·品藻中》记载：“诸葛瑾弟亮及从弟诞，并有盛名，各在一国。于时以为蜀得其龙，吴得其虎，魏得其狗。诞在魏，与夏侯玄齐名。瑾在吴，吴朝服其弘雅。” 这三兄弟分别是弟弟诸葛亮、哥哥诸葛瑾以及从弟诸葛诞。三人虽同出一氏，却分投三国：其中诸葛亮被刘备重用，为蜀汉丞相，是龙；诸葛瑾报效东吴，被孙权信任重用，为东吴大将军，是虎；诸葛诞投奔了曹丕，拜曹魏大将军，是狗。其中称诸葛诞为狗并非讽刺，狗意指“功狗”，为有功的战将。 中文名 诸葛三兄弟 人\\xa0\\xa0\\xa0\\xa0物 诸葛亮、诸葛瑾、诸葛诞 诸葛亮 蜀汉丞相 诸葛瑾 东吴大将军、豫州牧 诸葛诞 曹魏征东大将军 目录 1诸葛亮 ▪人物介绍 ▪履历 2诸葛瑾 ▪人物介绍 ▪履历 3诸葛诞 ▪人物介绍 ▪履历 诸葛亮 播报 编辑 人物介绍 诸葛亮 诸葛亮（公元181——公元234年），三国时期著名的政治家、军事家，字孔明，祖籍琅邪阳都（今山东沂南）。曾隐居于襄阳隆中（今襄阳县之西二十里），并读了大量的书籍，结交名士，品评时事，后称其为“卧龙”。207年，在徐庶推荐下，刘备“三顾茅庐”，请诸葛亮帮助自己，实现统一。诸葛亮为刘备提出了一个切实可行的计划，即著名的“隆中对策”，刘备的迅速崛起，都是与他的规劝和具体帮助分不开的。221年，刘备称帝，建立蜀汉政权，诸葛亮任丞相。223年，刘备死，刘禅即位，诸葛亮被加封为武乡侯，领益州牧，辅佐刘禅，治理蜀国，死后追谥忠武侯，后来东晋政权推崇诸葛亮军事才能，特追封他为武兴王。 履历 在执政初期，诸葛亮就主动派人到东吴会见孙权，蜀吴两国重新结盟，使蜀国得以全力对魏，而蜀吴两国始终保持着良好关系。在内政方面，诸葛亮首先从建立法治开始，科教严明，赏罚必信，无恶不惩，无善不显。他还注意选贤举能，不拘一格，任用一批有治国用兵之能的人才为官，做到了知人善用，对一些庸碌无能，贪污不法的官吏，则坚决罢掉。为了充实国力，安定人民生活，诸葛亮注意农业生产，“务农殖谷”，他还曾派1200名士兵去保护维修都江堰水利工程。在国家征发赋税徭役方面，他也主张“唯劝农业，无夺其时，唯薄赋敛，无尽民财。”对于手工业和商业的发展，也较重视，他设置司盐校尉，专门管理井盐生产，在各族人民的努力下，蜀国经济逐渐发展起来对西南少数民族，实行了“和抚”的方针，225年，他率军分几路南征，平定了南中的叛乱，对孟获七擒七纵，使其心悦诚服，从此蜀汉与少数民族的关系得到改善，这既免除了蜀国的后顾之忧，又促进了这一地区经济、文化的发展，加强了民族融合。在军事上，诸葛亮着重整顿军队纪律和训练部队，增强军队的战斗力，他发明制造了木牛流马，用此运送军粮，有利于山地运输，减轻了人力运输军粮的负担，他还改进了连弩箭，大大提高了旧式连弩的威力。在生活方面，比较俭朴、清廉，他不嗜享乐，取妻重才不重貌，虽身居相位，但家中“蓄财无余”，这在古代社会中是很可贵的。 诸葛亮为匡扶蜀汉政权，呕心沥血、鞠躬尽瘁、死而后已。其代表作有《前出师表》《后出师表》《诫子书》等。曾发明木牛流马等，并改造连弩，可一弩十矢俱发。于234年在宝鸡五丈原逝世。诸葛亮在后世受到极大的尊崇，成为后世忠臣楷模，智慧化身。 [1] 诸葛瑾 播报 编辑 人物介绍 诸葛瑾（174年－241年），字子瑜，祖籍琅琊阳都（今山东省沂南县）。东汉末年三国时期东吴重臣，官至大将军。诸葛瑾是蜀汉丞相诸葛亮的胞兄，其子诸葛恪也在东吴官至太傅。生于经学世家的诸葛瑾，治《毛诗》《尚书》及《左氏春秋》。 履历 诸葛瑾 诸葛瑾为避战乱迁到江东，经鲁肃推荐，为东吴效力，胸怀宽广，温厚诚信，深得孙权信赖。215年，诸葛瑾奉命出使，要刘备归还荆州。219年，他跟随孙权讨伐关羽。221年，他被派往蜀汉前去求和，在缓和蜀汉与东吴的关系上起到了很大的作用。建安二十五年（220年）吕蒙病逝，诸葛瑾代吕蒙领南郡太守，驻守公安。孙权称帝后，诸葛瑾官至大将军，领豫州牧。 建安五年（公元200年），由于孙权姊婿弘咨的推荐，诸葛瑾才正式成为孙权帐下的一员，从而迈上仕途。 215年，诸葛瑾奉命出使蜀汉，要求刘备归还荆州，最后以分界结束。219年，跟随讨伐关羽，封宣城侯、绥南将军，代吕蒙领南郡太守。黄初二年（221年），刘备东伐吴，吴王求和。诸葛瑾写信与刘备说和，有人以此上告孙权，权曰：“孤与子瑜有死生不易之誓，子瑜之不负孤，犹孤之不负子瑜也。” 222年，孙权受封吴王，封诸葛瑾左将军、督公安，假节，封宛陵侯。同年曹真、夏侯尚等围朱然于江陵，诸葛瑾派兵救援，渡江时被夏侯尚火烧船只，水陆同时进攻所击退。潘璋未知前来救援，而魏兵日渡不绝，并说：“魏势始盛，江水又浅，未可与战。”便将所领，到魏上流五十里，伐苇数百万束，缚作大筏，欲顺流放火，烧败浮桥。作筏适毕，伺水长当下，尚便引退。同年，孙权称王，封诸葛瑾为大将军、左都护，领豫州牧。 226年，孙权得知魏文帝去世后，于八月出兵攻，命吴左将军诸葛瑾部兵分两路进攻襄阳（今湖北襄阳），亲自率军进攻江夏郡（今湖北云梦西南）。孙权一路为魏军所败，遂撤兵而走。而诸葛瑾则被司马懿击败，并斩杀吴将张霸，斩首千余级。十二月，升任骠骑将军。236年，孙权北征，派右都督陆逊与中司马诸葛瑾攻襄阳。陆逊派亲戚韩扁怀揣奏疏上报朝廷，返回途中，在途中遇到敌人，敌人抓获了韩扁。 于是亲自来见陆逊。陆逊说：“敌人知道大驾已还，再不用为此筹谋，便专心对付我们。如今敌人已经守卫了要害之处，兵将已经出动，我们自己应当首先镇定自如以稳住部队，然后再巧施计谋，退出此地。如果今天就向敌人表明我们要走，敌人会以为我们害怕了，必然会来威逼我们，那就是必败之势了。”于是二人秘密定计，令诸葛瑾坐镇舟船，陆逊率领全部兵马向襄阳进发。敌人素来惧怕陆逊，见陆逊要攻襄阳，立即退回城中。诸葛瑾便引船而出，陆逊慢慢整顿好队伍，大张旗鼓地走上船。敌人不知究竟，反而不敢追击，于是陆逊全军安然退出。 241年四月，吴帝孙权分兵四路攻魏：卫将军全琮率军数万出淮南决芍陂（今安徽寿县南）之水，威北将军诸葛恪攻六安（今安徽六安东北），车骑将军朱然攻樊城（今湖北襄阳），大将军诸葛瑾攻祖中（今湖北南漳蛮河流域）。 五月，全琮入侵芍陂，朱然、孙伦围攻樊城，诸葛瑾、步骘侵掠柤中，司马懿自请出兵往讨。同年，诸葛瑾病故，死时六十八岁，死前命人葬礼应该简单进行。 诸葛诞 播报 编辑 人物介绍 诸葛诞（213～258）三国时期魏将，字公休，祖籍琅玡阳都（今山东沂南县），诸葛丰之后，诸葛亮和诸葛瑾的堂弟。初以尚书郎为荣阳令，累迁御史中丞尚书，是三国时曹魏后期的重要将领，官至征东大将军。与夏侯玄、邓飏、田畴友善，俱有声名，并称为四聪。 履历 诸葛诞 诸葛诞为汉代名医诸葛丰之后，正始初出任扬州刺史。从司马懿伐吴，平王凌之叛，随司马师讨毋丘俭，积功升至征东大将军、都督扬州。然诸葛诞与夏侯玄、邓飏交好，又见到王凌与毌丘俭叛乱而家族被诛，深感恐惧，于是倾尽家财来赈济百姓以收笼人心，又厚养归附者及扬州侠客几千人作为亲信力量。 甘露元年（256）冬天，东吴欲进攻徐堨（今安徽含山西南），诸葛诞力量足以应敌，但为保护自己，他请求朝廷派兵十万助守寿春，又要求加固沿淮的防御工事。朝廷暗中得知诸葛诞对朝廷心存戒惕，念其劳苦功高，便想调他入京任职，哪知诏书到，诸葛诞更加恐慌，遂举兵反叛。诸葛诞杀死不愿叛乱的扬州刺史乐綝，聚集淮南淮北十多万屯田官兵，又从东吴归降的农民挑出四五万人马，准备了可供一年的粮食闭城死守。另外，他还派长史吴纲率自己小儿子诸葛靓到东吴求援。东吴遂派全怿、全端、唐咨和王祚等人率兵三万，悄悄地与文钦一起接应诸葛诞，并任诸葛诞为左都护、大司徒、骠骑将军及青州刺史，封其为寿春侯。同年六月，司马昭与皇帝一起讨伐诸葛诞，进驻项县，将寿春城围了二层。文钦与吴将朱异多次进军，均被击败，朱异因此被主帅孙綝斩首。寿春城中粮少无援，蒋班与焦彝率先背叛诸葛诞向司马昭投降。甘露三年（258）正月，诸葛诞与文钦等人制造进攻器械，企图突围，但被司马昭打退。诸葛诞军粮用尽，又与文钦产生矛盾将其斩杀，致使文钦二子投降司马昭。司马昭利用文钦的两个儿子来劝降诸葛诞的人马，一时城中人心骚动。诸葛诞走投无路，亲自率兵出城突围，结果被魏将胡奋斩于马下，人头被送往京城，灭门三族。唐咨及王祚等人全部投降，诸葛诞之乱被司马昭平定。 新手上路 成长任务编辑入门编辑规则本人编辑 我有疑问 内容质疑在线客服官方贴吧意见反馈 投诉建议 举报不良信息未通过词条申诉投诉侵权信息封禁查询与解封 ©2025\\xa0Baidu\\xa0使用百度前必读\\xa0|\\xa0百科协议\\xa0|\\xa0隐私政策\\xa0|\\xa0百度百科合作平台\\xa0|\\xa0京ICP证030173号\\xa0 京公网安备11000002000001号', name='search', id='dcad0138-26e4-4ee4-8573-c08997d14f04', tool_call_id='call_RqrDeOYW6RZWq1mLea4EZ9XW'),\n",
       " AIMessage(content='诸葛亮的哥哥是诸葛瑾。诸葛瑾生于公元174年，死于公元241年，是东吴的重臣，官至大将军。', additional_kwargs={'refusal': None}, response_metadata={'token_usage': {'completion_tokens': 29, 'prompt_tokens': 2886, 'total_tokens': 2915, 'completion_tokens_details': None, 'prompt_tokens_details': None, 'prompt_cache_hit_tokens': 0, 'prompt_cache_miss_tokens': 2886}, 'model_name': 'deepseek-chat', 'system_fingerprint': 'fp_3a5770e1b4', 'finish_reason': 'stop', 'logprobs': None}, id='run-1388c347-6a16-42d8-a1de-920cd8ec2ff5-0', usage_metadata={'input_tokens': 2886, 'output_tokens': 29, 'total_tokens': 2915, 'input_token_details': {}, 'output_token_details': {}}),\n",
       " HumanMessage(content='他的哥哥在哪个阵营？参加过什么战役？', additional_kwargs={}, response_metadata={}, id='6cbe9fb4-7df0-4940-965b-e3c2abb777d1'),\n",
       " AIMessage(content='', additional_kwargs={'tool_calls': [{'id': 'call_96RlTMRRDBepBhApJ6yPr92T', 'function': {'arguments': '{\"query\":\"诸葛瑾在哪个阵营 参加过什么战役\"}', 'name': 'retrieve'}, 'type': 'function'}], 'refusal': None}, response_metadata={'token_usage': {'completion_tokens': 19, 'prompt_tokens': 3776, 'total_tokens': 3795, 'completion_tokens_details': {'accepted_prediction_tokens': 0, 'audio_tokens': 0, 'reasoning_tokens': 0, 'rejected_prediction_tokens': 0}, 'prompt_tokens_details': {'audio_tokens': 0, 'cached_tokens': 0}}, 'model_name': 'gpt-4o-2024-11-20', 'system_fingerprint': 'fp_ec7eab8ec3', 'finish_reason': 'stop', 'logprobs': None}, id='run-274fb5e5-f3bf-4f7c-a386-e9add185168a-0', tool_calls=[{'name': 'retrieve', 'args': {'query': '诸葛瑾在哪个阵营 参加过什么战役'}, 'id': 'call_96RlTMRRDBepBhApJ6yPr92T', 'type': 'tool_call'}], usage_metadata={'input_tokens': 3776, 'output_tokens': 19, 'total_tokens': 3795, 'input_token_details': {'audio': 0, 'cache_read': 0}, 'output_token_details': {'audio': 0, 'reasoning': 0}}),\n",
       " ToolMessage(content='Content: 诸葛恪趁势进攻中原，结果被魏军新城守将张特用假降之计打败，只好撤兵。\\n诸葛恪兵败回国，托病不理朝政。吴王孙亮亲自上门问安探望。', name='retrieve', id='9bd1112f-fda1-436a-8dee-8a47d7d9ae54', tool_call_id='call_96RlTMRRDBepBhApJ6yPr92T'),\n",
       " AIMessage(content='诸葛亮的哥哥诸葛瑾在东吴阵营。他曾参加过赤壁之战等战役，为东吴的重要将领之一。', additional_kwargs={'refusal': None}, response_metadata={'token_usage': {'completion_tokens': 24, 'prompt_tokens': 149, 'total_tokens': 173, 'completion_tokens_details': None, 'prompt_tokens_details': None, 'prompt_cache_hit_tokens': 64, 'prompt_cache_miss_tokens': 85}, 'model_name': 'deepseek-chat', 'system_fingerprint': 'fp_3a5770e1b4', 'finish_reason': 'stop', 'logprobs': None}, id='run-f886f027-8c9f-479a-90d7-84bdf652da2f-0', usage_metadata={'input_tokens': 149, 'output_tokens': 24, 'total_tokens': 173, 'input_token_details': {}, 'output_token_details': {}}),\n",
       " HumanMessage(content='他的弟弟的官职最高是什么？', additional_kwargs={}, response_metadata={}, id='ac915e90-f7f2-48d4-9642-a94670a29d03'),\n",
       " AIMessage(content='', additional_kwargs={'tool_calls': [{'id': 'call_yBzifGpTNFPYVy8YMbYCoC57', 'function': {'arguments': '{\"query\":\"诸葛亮弟弟的最高官职\"}', 'name': 'retrieve'}, 'type': 'function'}], 'refusal': None}, response_metadata={'token_usage': {'completion_tokens': 14, 'prompt_tokens': 3925, 'total_tokens': 3939, 'completion_tokens_details': {'accepted_prediction_tokens': 0, 'audio_tokens': 0, 'reasoning_tokens': 0, 'rejected_prediction_tokens': 0}, 'prompt_tokens_details': {'audio_tokens': 0, 'cached_tokens': 3712}}, 'model_name': 'gpt-4o-2024-11-20', 'system_fingerprint': 'fp_ec7eab8ec3', 'finish_reason': 'stop', 'logprobs': None}, id='run-3ee4fc6a-debc-415b-923f-2b79a1e7eff4-0', tool_calls=[{'name': 'retrieve', 'args': {'query': '诸葛亮弟弟的最高官职'}, 'id': 'call_yBzifGpTNFPYVy8YMbYCoC57', 'type': 'tool_call'}], usage_metadata={'input_tokens': 3925, 'output_tokens': 14, 'total_tokens': 3939, 'input_token_details': {'audio': 0, 'cache_read': 3712}, 'output_token_details': {'audio': 0, 'reasoning': 0}}),\n",
       " ToolMessage(content='Content: 诸葛诞对司马昭的阴谋早已有数，便连夜领兵到扬州，杀了乐?。上书给天子举证司马昭的罪状，并联会东吴准备讨伐司马昭。\\n此时东吴丞相孙竣病亡，由他的孙?主持朝政，孙?发七万兵力帮助诸葛诞。\\n\\nContent: 诸葛恪趁势进攻中原，结果被魏军新城守将张特用假降之计打败，只好撤兵。\\n诸葛恪兵败回国，托病不理朝政。吴王孙亮亲自上门问安探望。\\n\\nContent: 诸葛亮率百官苦苦相劝，刘备心中才有所动摇，张飞却从阆中赶来，哭着要刘备为关羽报仇，刘备听了张飞的话，决心起兵。\\n张飞回到阆中，限三日内全军白旗白甲，挂孝伐吴。\\n\\nContent: 诸葛恪为了防止百官议论他兵败之事，便先行挑出众官的过失，轻则发配到边远的地方，重则杀头，百官对他又恨又怕。\\n大臣滕胤、孙竣上言孙亮，建议除掉诸葛恪。', name='retrieve', id='728ae055-c615-425b-9c53-9d66acdf4311', tool_call_id='call_yBzifGpTNFPYVy8YMbYCoC57'),\n",
       " AIMessage(content='诸葛亮的弟弟诸葛诞在魏国阵营，他的最高官职是征东大将军。', additional_kwargs={'refusal': None}, response_metadata={'token_usage': {'completion_tokens': 18, 'prompt_tokens': 375, 'total_tokens': 393, 'completion_tokens_details': None, 'prompt_tokens_details': None, 'prompt_cache_hit_tokens': 128, 'prompt_cache_miss_tokens': 247}, 'model_name': 'deepseek-chat', 'system_fingerprint': 'fp_3a5770e1b4', 'finish_reason': 'stop', 'logprobs': None}, id='run-b648bbad-ef78-4926-89ac-3ae9542d301a-0', usage_metadata={'input_tokens': 375, 'output_tokens': 18, 'total_tokens': 393, 'input_token_details': {}, 'output_token_details': {}}),\n",
       " HumanMessage(content='西游记是谁写的？', additional_kwargs={}, response_metadata={}, id='fd179856-3ea9-400f-acea-d7b42ea046ec'),\n",
       " AIMessage(content='', additional_kwargs={'tool_calls': [{'id': 'call_MTx4OR1knl3H41NGUuZ8c4qk', 'function': {'arguments': '{\"query\":\"西游记是谁写的\"}', 'name': 'retrieve'}, 'type': 'function'}], 'refusal': None}, response_metadata={'token_usage': {'completion_tokens': 10, 'prompt_tokens': 4315, 'total_tokens': 4325, 'completion_tokens_details': {'accepted_prediction_tokens': 0, 'audio_tokens': 0, 'reasoning_tokens': 0, 'rejected_prediction_tokens': 0}, 'prompt_tokens_details': {'audio_tokens': 0, 'cached_tokens': 3840}}, 'model_name': 'gpt-4o-2024-11-20', 'system_fingerprint': 'fp_ec7eab8ec3', 'finish_reason': 'stop', 'logprobs': None}, id='run-d4aa38b9-59fc-4b68-a0aa-3496dded11b4-0', tool_calls=[{'name': 'retrieve', 'args': {'query': '西游记是谁写的'}, 'id': 'call_MTx4OR1knl3H41NGUuZ8c4qk', 'type': 'tool_call'}], usage_metadata={'input_tokens': 4315, 'output_tokens': 10, 'total_tokens': 4325, 'input_token_details': {'audio': 0, 'cache_read': 3840}, 'output_token_details': {'audio': 0, 'reasoning': 0}}),\n",
       " ToolMessage(content='', name='retrieve', id='1c6720bc-464b-45d8-90e3-b611aa0c5bcc', tool_call_id='call_MTx4OR1knl3H41NGUuZ8c4qk'),\n",
       " AIMessage(content='', additional_kwargs={'tool_calls': [{'id': 'call_P2iJSdWJiJ1XPJnyorg9YIPv', 'function': {'arguments': '{\"query\":\"西游记作者\"}', 'name': 'search'}, 'type': 'function'}], 'refusal': None}, response_metadata={'token_usage': {'completion_tokens': 8, 'prompt_tokens': 4339, 'total_tokens': 4347, 'completion_tokens_details': {'accepted_prediction_tokens': 0, 'audio_tokens': 0, 'reasoning_tokens': 0, 'rejected_prediction_tokens': 0}, 'prompt_tokens_details': {'audio_tokens': 0, 'cached_tokens': 4224}}, 'model_name': 'gpt-4o-2024-11-20', 'system_fingerprint': 'fp_ec7eab8ec3', 'finish_reason': 'stop', 'logprobs': None}, id='run-27f2c0dd-c9cc-492c-ab3e-316024e802f6-0', tool_calls=[{'name': 'search', 'args': {'query': '西游记作者'}, 'id': 'call_P2iJSdWJiJ1XPJnyorg9YIPv', 'type': 'tool_call'}], usage_metadata={'input_tokens': 4339, 'output_tokens': 8, 'total_tokens': 4347, 'input_token_details': {'audio': 0, 'cache_read': 4224}, 'output_token_details': {'audio': 0, 'reasoning': 0}}),\n",
       " ToolMessage(content='Content: 目录\\n西游记\\n《西遊記》，又稱《西遊釋厄傳》，简称《西遊》，是中国古代明朝的第一部浪漫主义章回體长篇神魔小说，全書58.5萬字（世德堂本），共100回，中国四大名著之一、四大奇書之一。成书于16世纪明朝中叶，一般认为作者是明朝的吳承恩。書中讲述唐三藏與徒弟孫悟空、豬八戒和沙悟淨等師徒四人前往西天取经的故事，表现了惩恶扬善的古老主题，興佛滅道的代表作，也有观点认为《西游记》是暗諷权力官場的諷刺小說。\\n因《西遊記》的傳頌，明清之際吳元泰、吳政泰、余象斗等因而又據佛、道兩教之有關戲曲雜劇和神話傳說，撰寫《東遊記》、《南遊記》和《北遊記》，再加上楊志和之另本《西遊記》，合稱《四遊記》。\\n《西遊記》自问世以来，在中國及世界各地广为流傳，被翻译成多种语言。在中国，乃至亚洲部分地区《西遊記》家喻户晓，其中孙悟空、唐僧、猪八戒、沙僧等人物和「大闹天宫」、「三打白骨精」、「孙悟空三借芭蕉扇」等故事尤其為人熟悉。幾百年來，西遊記被改编成各种地方戏曲、电影、电视剧、动画片、漫畫等，版本繁多。\\n作者与故事来源[编辑]\\n故事大綱[编辑]\\n《西遊記》全書共一百回，可分為四個長短不一的部份。開頭詩為「混沌未分天地亂，茫茫渺渺無人見。自從盤古破鴻蒙，開闢從茲清濁辨。覆載群生仰至仁，發明萬物皆成善。欲知造化會元功，須看《西遊釋厄傳》。」第一部份是第一回至第七回，介紹故事主角孫悟空的誕生，孫悟空是吸收天地精華而生的石猴，因為向菩提祖師學法而得道，能通地煞七十二變、乘觔斗雲、使如意金箍棒，他驕傲地自稱為齊天大聖，桀驁不馴的行為讓天庭十分頭痛。在他大鬧天宮之後，遭到如來佛祖降伏，如來佛祖將他壓在五行山下長達五百年。\\n第二部份是第八回至第十二回，介紹名義上的主角唐三藏。故事背景發生在東土（唐朝），當時的中國人不識大乘佛法、成天享樂，如來佛祖派遣觀音菩薩指示唐三藏前往天竺（現今之印度），將無上真經取回東土。這一段概述了唐三藏成為僧侶的過程，也說明他的前世是如來佛祖的高徒羅漢金蟬子，此外描述了唐太宗遊地府的遭遇。\\n第三部份是自第十三回至第九十九回，描述唐三藏與他的徒弟前往天竺取經的冒險故事，亦即《西遊記》這個標題指涉的故事。唐三藏離開唐國的管轄範圍後，一路上跋山涉水、被妖魔鬼怪侵擾，他離開邊境後所經歷的地域多是虛構的。這段旅途中、許多妖魔都渴望能吃唐三藏的肉，因為吃下之後能長生不老。\\n第十三回至第二十二回中有几回是写唐三藏收徒弟的故事，唐三藏的徒弟都曾在過去犯下錯誤，受到觀音指點後，答應護送唐三藏取經以將功贖罪。\\n第二十二回除了介紹沙悟淨之外，還介紹了流沙河，過了這條地理邊界後，他們就進入一片未知領域。第二十二回至第八十六回可分為二十四個故事，每個故事裡都有不同神通的妖魔鬼怪或惡人，還有著各種不同的場景，例如燃著大火的火焰山、全是女人的女兒國以及各種奇妙的地方。這一部份的故事通常由四個小節組成：第一小節是唐僧被捉走，生命受到威脅，通常是被妖魔捉走，不過偶爾也會被普通人所捉；第二小節是唐僧的徒弟試著找方式救他，通常依靠暴力、偶爾略施小計；第三小節是歷經挫敗，並找其它仙佛協助；第四小節是仙佛下凡收妖、唐僧獲救，繼續踏上旅程。唐僧師徒在這段旅程中總共經歷了八十一難，儘管這些妖魔鬼怪十分強大，但都沒有真正傷害到他們，因為這是如來佛祖安排的試煉。唐僧師徒在第八十七回抵達天竺邊境，而第八十七回至第九十九回的冒險相較於先前雖然少了驚險刺激，但多了異國情調。唐僧師徒最終取得無上真經。\\n第一百回是唐僧師徒返回东土唐朝後發生的事，并描述了他們复返西方后，修成正果獲得到封號。\\n角色[编辑]\\n西遊記的五位主角對應著五行：金對應著孫悟空，又稱“金公”、“心猿”；木對應著豬八戒，又稱“木母”、“木龍”；土對應著沙僧，又称“刀圭”、“黄婆”[1]，水、火對應何人書中並未明言，一般認為唐僧对应水（因为“江流儿”），白龍馬對應火；也有人認為唐僧對應火（因火能克金），白龍馬對應水。白龍馬又稱“意馬”，與孫悟空合成“心猿意馬”之意。\\n主题[编辑]\\n《西游记》富有濃厚的佛教色彩，其隐含意义非常深远，众说纷纭，见仁见智。[2]:26-28可以从佛、道、俗等多个角度欣赏。\\n证道说[编辑]\\n《西遊記》作者在書中加入了長生的觀念，作為取經歷程的目的；在西遊記雜劇中，是完全沒有煉丹的思想的。[3]取經者成為修煉成仙的化身，取經歷程，則暗示道士修煉時所遇到的困難和不定，要不斷和「分神」或肉體煎熬搏鬥，還有走火入魔的危險。小說中的山川地理，則有象徵人體器官，如「稀杮衕」比擬結腸，「夾脊關」比擬脊髓。小說乃「將全真功法逐步演出」。[4]悟一子陈子斌评点本《西游记真诠》说：《西游记》讲的是“金丹大道”；刘一明评点本《西游原旨》也承袭了这种观点，说它是“专在养性修真，炼成内丹，以证大道而登仙籍。”[2]:26-28\\n早期《西遊記》被認為是阐述“金丹大道”（即内丹术）的“丹经”。[5]澳洲柳存仁发现《西游记》中所引用语汇如“金公”、“木母”、“黄婆”、“元神”、“姹女”皆出自全真派内丹理论；很多韵文作品都出自道家典籍，如第八回开始引首词，即引用《鸣鹤余音》卷二的冯尊师的《苏武慢》第五首“试问禅关，参求无数”；第五十回引用马钰的《南柯子·赠众道友》“心地频频扫，尘情细细除”；第九十一回引用《瑞鹧鸪·赠众道契》“修行何处用工夫，马劣猿颠速剪除”；第三十六回引用张伯端的《悟真篇》中的《西江月》“前弦之后后弦前”；第七十八回国丈的大段唯道独尊的话则自《鸣鹤余音》卷九多篇赋中脱胎而来，等等。[6]在36回，悟空等弟子教唐僧「先天採煉」之法，所述結合了《周易參同契》、張伯端《悟真篇》及全真教的思想。[7]\\n李安綱也表示《性命圭旨》是《西游记》的文化原型，石泰的《还源篇》81章炼丹五言绝句是《西游记》唐僧81难的原型。[8]又如“孫悟空”這個角色主要是指代“人心”的，如書中第七回提示：“猿猴道體配人心，心即猿猴意思深”。第三十一回書：“經乃修行之總徑，佛配自己的元神”，提示中我們故事中的“佛”是指內丹術中的元神。又《西遊記》第九十九回中，唐僧取到的“真經”沒有字，如來佛即點明：“白本者，乃無字真經”。真經乃“修行之總徑”、“真經無字”，可见道教呂洞賓的內丹詩《真經歌》：“真經原來無一字，能度眾生出大羅”，表示元精、元氣。修煉內丹時，元精、元氣充足，能滿足元神的需要。[9]\\n《西游记》有大量佛教的词汇，如：四大部洲、佛、菩萨等，并且故事也是取经见佛，但它更有道教性命双修的特征，讲阴阳、五行等，具有道教内丹术义理的色彩。佛教以见性为长，道教炼命而著，此是内功；儒教之入世功行为外功。《西游记》是在三教参同思想下形成的，有學者則認為是“扬佛抑道”的倾向。[10]柳存仁更猜測“在明万历二十年金陵世德堂百回本《西游记》出现之前，有一个全真教本的《西游记》小说存在，这个假定可能性是很高的。”\\n《西游记》是唐僧取经的故事，且书中对道士多有贬斥，容易让人认为《西游记》扬佛抑道，但实际上，并非如此，《西游记》对道教和佛教的描写其实很微妙。例如：第六回中太上老君在观音面前明言自己“化胡为佛”，观音并没有反驳，可见作者不是站在佛教的立场上来写《西游记》的，在作者看来，佛教就是老子化胡的产物[11]。而書中第七回表明如来佛祖抓捕孫悟空，自謙是奉玉帝宣命，前来救驾[12]。\\n劝学说[编辑]\\n清朝学者张书绅在《西游记总论》、《新说西游记自序》、《新说西游记总批》中说：“至谓证仙佛之道，则误矣……予今批《西游记》一百回，亦一言以蔽之曰‘只是教人诚心为学，不要退悔’。……证圣贤儒者之道，今《西游记》，是把《大學》诚意正心，克己明德之要，竭力备细，写了一尽，明显易见，确然可据，不过借取经一事，以寓其意耳，亦何有于仙佛之事哉？”[2]:26-28\\n心学说[编辑]\\n谢肇淛称：“《西游记》蔓衍虚诞，而其纵横变化，以猿为心之神以猪为意之驰，其始之放纵，上天下地，莫能禁制，而归于紧箍一咒，能使心猿驯服，至死靡他，盖亦求放心之喻，非浪作也。《西游记》为三教合一心学也。”[2]:26-28\\n諷刺说[编辑]\\n部分研究人士認為，《西遊記》其實帶有吳承恩本人在實際遭遇上的不平的抒發與寄託，表面上是個以取經為主軸的小說，中間穿插孫悟空與豬八戒間的逗趣幽默，但實質上是對當時明朝的政治環境，“讽刺揶揄则取当时世态，加以铺张描写。”[13]\\n嘉靖年間，明世宗迷信道教，靠著方士的房中術纵欲无度，嚴嵩等因善寫青詞而備受寵信，朝政昏亂。《西遊記》裡面主要是道教的思想，卻反對道士，支持佛教僧人，可能是對當時政局的反抗。[14]\\n所謂的暗喻、影射，小說中的主角「孫悟空」被設定為猴，而非人，意味著：雖有近似人的形體，但卻不是人，依然被視為被異類來看待，這表示在明朝為官者，良官雖有官職官位，但卻被其他貪官群所排擠。孫悟空雖多次遭唐僧誤會、責備而氣憤，但最後依舊會在危難時回來解救，此表示忠臣遭誣陷，但仍不損其忠君愛國之心。\\n其次，「豬八戒」所扮演的正是君側的貪官小人，「唐三藏」則是昏庸皇帝，至於「沙悟淨」則是默默受欺的百姓，小說過程中豬八戒經常巴結、討好唐三藏，但也時常惡意中傷孫悟空（排擠良臣），同時也頻頻欺壓比其更晚加入取經隊伍的沙悟淨（惡官欺壓百姓），而唐三藏的反應經常是輕信豬八戒而誤會、責備孫悟空，遇自稱神佛之人物便拜、貌似可憐之人便救，有火眼金睛能辨妖邪的悟空善意提醒但常遭三藏斥責，迂腐昏庸不分是非，另一方面沙悟淨也經常默默受欺而少有怨言。\\n玩世说[编辑]\\n胡适在《西游记考证》中说：“《西游记》所以能成世界的一部绝太神话小说，正因为《西游记》里种种神话都带着一点诙谐意味，能使人开口一笑，这一笑就把那神话‘人化’过了，这种诙谐的里面含有一种尖刻的玩世主义。《西游记》的文学价值正在这里……这几百年来读《西游记》的人都太聪明了，都不肯领略那极浅极明白的滑稽意味和玩世精神，都要妄想想透过纸背去寻那‘微言大义’，遂把一部《西游记》罩上了儒释道三教的袍子；因此，我不能不用我的笨眼光，指出《西游记》有了几百年逐渐演化的历史；指出这部书起于民间的传说和神话，并无‘微言大义’，可说。至多不过是一部很有趣味的滑稽小说，神话小说。”同时指出孙悟空源自印度神话“猴行者的故事确曾从巫支祁的神话里得着一点暗示，也未可知。我总怀疑这个神通广大的猴子不是国货，乃是一件从印度进口的。也许连巫支祁的神话也是受了印度影响而仿造的。”[2]:26-28[2]:10-12\\n鲁迅传承了胡适的观点，归为“明之神魔小说”，“奉道流羽容之隆重，极于宋宣和时，元虽归佛，亦甚崇道，其幻惑故流遍行于人间，明初稍衰，比中叶而复板显赫，成化时有方士李孜、释继晓，正德时有色目人于水，皆以方技杂流拜官，荣华熠耀，世所企美，则妖妄之说自盛，而影响且及于文章。且历来三教之争，都无解决，互相容受，乃曰‘同源’，所谓义利邪正善恶是非真妄诸端，皆混而又析之，虽无专名，谓之神魔，盖可舷括矣。其在小说，则明初之《平妖传》已开其先，而继起之作尤彩。作者虽儒生，此书则实出于游戏，亦非语道，故全书仅偶见五行生克之长谈，尤未学佛，故未回至有荒唐元稽之经目，特缘混同之教，流行来久，故其著作，乃亦释迦与老君同流，真性与元神杂出，使三教之徒，皆得随宜附会而已。”[2]:10-12\\n世界观[编辑]\\n三藏取经路线\\n蛇盘山鹰愁涧\\n艺术成就[编辑]\\n结构特点[编辑]\\n《西游记》分为三大部分，前七回为第一部分，讲述了孙悟空的出身，经历和性格，主要事件是大闹天宫。第二部分是江流儿的故事，讲唐僧的出身，家世，魏征梦斩泾河龙、唐王入冥，为取经做伏笔。第三部分从第十三回到全书的末尾，写八十一难，取经成佛。第三部分为全书的重点，八十一难的描写，包括四十一个小故事，前后联系、互相串联。[2]:38-40\\n幻想豐富[编辑]\\n《西遊記》是中國神魔小說、神話文學以及浪漫文學的代表作。故事想像奇特，幻想豐富，情節神奇莫測，緊張曲折，佈局嚴謹，文境恣肆，創造出無數引人入勝的故事，成功塑造許多生動的神話人物形象。\\n《西游记》创作了一个光怪陆离、神奇瑰丽的虚幻神话世界，有真有假，亦假亦真，有佛教的天堂地狱、道教的天宫神仙、民间的土地神、庙王，还有一群各色妖怪。人物塑造上，把人、神和动物原型的特点，巧妙的结合在一起。有浪漫主义的幻想，也有细节的合理和真实。浪漫主义的一个特点是人物形象的塑造。如：老鼠精住在无底洞；蝎子精有个蜇人的尾巴；白象王用鼻子卷人；狮子王一口吞入十万天兵；蜘蛛精的肚脐眼冒出蜘蛛丝，都符合动物的原型，也富有神奇的想象。浪漫主义的另一个特点是夸张的描写方法。孙悟空，一个筋斗十万八千里；金箍棒可长可短，可大可小；芭蕉扇，可以把人扇出八万四千里，同时又可以含在嘴里；流沙河，飘不起鹅毛；火焰山可以融化任何物品；人参果是三千年一开花三千年一结果。[2]:40-42\\n诙谐讽刺[编辑]\\n《西遊記》善於諷刺現實中的醜惡事物，並揭露可笑可鄙的現象，詼諧幽默惹笑。所描寫的幻想世界和神話人物，都賦予人情世故的精神實質，和現實生活現實思想的基礎，寄託了作者的美好願望。善意的嘲笑、辛辣的諷刺，以及嚴峻的批判藝術地結合起來，使不少章回妙趣橫生，圓滿地表達了深刻的思想內容，與作者的鮮明愛憎。\\n诙谐、讽刺的语言是《西游记》的一个重要特点。从玉皇大帝、老君、如來佛祖、阿儺、迦叶、各国的国王都是作者笔下的讽刺对象，如猪八戒挖苦朱紫国王说：“这皇帝失了体统，怎么为老婆就不要江山？”；孙悟空在花果山时说“大王我是老孙，我们都姓孙，是二孙、三孙、细孙、小孙……家孙、一国孙、一窝孙！”[2]:42-48\\n语言生動[编辑]\\n《西遊記》用經過提煉加工的活口語寫成，活潑生動，語言有散文、有韻語，汲取了民間說唱和方言口語的精華。善於運用對話形式，往往在對話中滲透人物的個性特徵。書中夾雜不少詩詞歌賦，而散文、韻文又穿插配合得非常自然。\\n《西游记》中的语言是口语化、通俗化、散文化和韵文化。如猪八戒骂孙悟空“破猴子！弼马温！”、“毛脸雷公嘴”；孙悟空叫土地神和老君、玉帝等是“老儿”。同时书中有许多方言，如：“拐呀拐的”、“蹦呀蹦的”、“溜呀溜的”。书中的谚语、俗语也是一大亮点，如“树大风高风撼树、人为名高名丧人”、“强龙不压地头蛇”、“大海里翻了豆腐船，汤里来，汤里去”。韵文化的句子主要表现为一些诗词歌赋的咏叹。如第十三回“双叉岭伯钦留僧”的诗句“寒飒飒雨林风、响潺潺涧下水。香馥馥野花开，密丛丛乱石磊。闹嚷嚷鹿与猿，一队队獐和鹿。喧杂杂鸟声多，静悄悄人事靡。那长老，战兢兢的不宁，这马儿，力怯怯蹄难举”[2]:48-58。\\n与大乘佛教不同之处[编辑]\\n影響、地位[编辑]\\n见西游记成立史#后续发展\\n衍生作品[编辑]\\n版本[编辑]\\n中国现存的古本有：\\n續書[编辑]\\n在中國文學史上，《西遊記》同其他小說一樣，有眾多的續書，最為著名的有以下三部，合稱「《西遊記》三大續書」。\\n其他作品也會借用《西遊記》中的角色，如明代的《南遊記》中出現了孫悟空，《薛丁山征西》中登場了取經回唐的唐三藏師徒四人跟紅孩兒、鐵扇公主母子。而《薛丁山征西》故事是距離《西遊記》的事件53年後，其中鐵扇公主是一位居住在火焰山的修行居士。樊梨花對陣五龍公主時受阻於其陣法，樊梨花派了秦漢及竇一虎請求協助；秦漢往西天觀音寺，竇一虎則以土行術前往火焰山，商借芭蕉扇一用，承諾用畢即還，果真借得芭蕉扇。但回營覆令時被不明所以的善才童子（紅孩兒）誤會是賊，幸秦漢趕到化解誤會。後破五龍陣之黃龍公主的魔性火，由善才童子帶回歸還。[16][17][18]\\n到了近現代，與新興的電影電視相結合，《西游记》又出現了各種不同的改編和續書。\\n譯本[编辑]\\n《西遊記》还被翻译成了多种语言，译名也有多种：《圣僧的天国之行》，《一个佛教徒的天国历程》，《猴》，《猴王》，《猴与诸神魔历险记》。在其他国家，最早关于唐僧取经故事是明代前期的朝鲜文译本，不过那是取经故事，与《西遊記》不完全是一回事。《西遊記》最早的正式译本是18世纪中叶的日文译本。英譯版則於1983年余國藩（英语：Anthony C. Yu）翻譯完成，譯名為《Journey to the West》。\\n参考文献[编辑]\\n引用[编辑]\\n来源[编辑]\\n参见[编辑]\\n延伸阅读[编辑]\\n[在维基数据编辑]\\n外部連結[编辑]\\n\\nContent: 早期版本的西游记 《西游记》是中国古代明朝的第一部浪漫主义 章回体 长篇 神魔小说，全书58.5万字（世德堂本），共100回，中国四大名著之一、四大奇书之一。 成书于16世纪明朝中叶，一般认为作者是明朝的吴承恩。 书中讲述唐三藏与徒弟孙悟空、猪八戒和沙悟净等师徒四人前往西天取经的故事', name='search', id='e9c791dc-39ca-4f91-af20-3e84356a0dfc', tool_call_id='call_P2iJSdWJiJ1XPJnyorg9YIPv'),\n",
       " AIMessage(content='《西游记》一般认为是由明朝的吴承恩所著。', additional_kwargs={'refusal': None}, response_metadata={'token_usage': {'completion_tokens': 13, 'prompt_tokens': 5177, 'total_tokens': 5190, 'completion_tokens_details': None, 'prompt_tokens_details': None, 'prompt_cache_hit_tokens': 5056, 'prompt_cache_miss_tokens': 121}, 'model_name': 'deepseek-chat', 'system_fingerprint': 'fp_3a5770e1b4', 'finish_reason': 'stop', 'logprobs': None}, id='run-e094dbc6-b940-45ab-8c0a-4a72659dc8be-0', usage_metadata={'input_tokens': 5177, 'output_tokens': 13, 'total_tokens': 5190, 'input_token_details': {}, 'output_token_details': {}})]"
      ]
     },
     "execution_count": 139,
     "metadata": {},
     "output_type": "execute_result"
    }
   ],
   "source": [
    "graph.get_state(config=config).values[\"messages\"]"
   ]
  },
  {
   "cell_type": "markdown",
   "metadata": {},
   "source": [
    "# Stream"
   ]
  },
  {
   "cell_type": "code",
   "execution_count": 130,
   "metadata": {},
   "outputs": [],
   "source": [
    "config = {\"configurable\": {\"thread_id\": \"2\"}}"
   ]
  },
  {
   "cell_type": "code",
   "execution_count": 133,
   "metadata": {},
   "outputs": [
    {
     "name": "stderr",
     "output_type": "stream",
     "text": [
      "No relevant docs were retrieved using the relevance score threshold 0.8\n"
     ]
    },
    {
     "name": "stdout",
     "output_type": "stream",
     "text": [
      "徐晃在魏阵营。"
     ]
    }
   ],
   "source": [
    "# input_message = \"诸葛亮的弟弟是谁？\"\n",
    "# input_message = \"司马懿有几个儿子？都叫什么名字？\"\n",
    "input_message = \"徐晃在哪个阵营？\"\n",
    "# input_message = \"西游记是谁写的？\"\n",
    "\n",
    "async for msg, metadata in graph.astream({\"messages\": [(\"user\", input_message)]}, \n",
    "                                         config=config,\n",
    "                                         stream_mode=\"messages\"):\n",
    "    if isinstance(msg, AIMessageChunk) and msg.content and not isinstance(msg, HumanMessage):\n",
    "        print(msg.content, end=\"\", flush=True)\n",
    "    # print(msg)"
   ]
  },
  {
   "cell_type": "code",
   "execution_count": 134,
   "metadata": {},
   "outputs": [
    {
     "data": {
      "text/plain": [
       "[HumanMessage(content='诸葛亮的弟弟是谁？', additional_kwargs={}, response_metadata={}, id='c0d0d406-b705-4fbf-b72e-867e987ecd40'),\n",
       " AIMessage(content='', additional_kwargs={'tool_calls': [{'index': 0, 'id': 'call_6eFESTnTbvLUxOr2vT5e57rD', 'function': {'arguments': '{\"query\":\"诸葛亮的弟弟是谁\"}', 'name': 'retrieve'}, 'type': 'function'}]}, response_metadata={'finish_reason': 'stop', 'model_name': 'gpt-4o-2024-11-20', 'system_fingerprint': 'fp_ec7eab8ec3'}, id='run-e7f4c969-a072-4fd6-aee3-d5d05ef51d33', tool_calls=[{'name': 'retrieve', 'args': {'query': '诸葛亮的弟弟是谁'}, 'id': 'call_6eFESTnTbvLUxOr2vT5e57rD', 'type': 'tool_call'}], usage_metadata={'input_tokens': 86, 'output_tokens': 11, 'total_tokens': 97, 'input_token_details': {'audio': 0, 'cache_read': 0}, 'output_token_details': {'audio': 0, 'reasoning': 0}}),\n",
       " ToolMessage(content='', name='retrieve', id='a9bf29e5-0690-4bd9-b1e9-f8c8f0a4c43e', tool_call_id='call_6eFESTnTbvLUxOr2vT5e57rD'),\n",
       " AIMessage(content='', additional_kwargs={'tool_calls': [{'index': 0, 'id': 'call_fTu6iVkVKlYiMNjOCzvPx2B0', 'function': {'arguments': '{\"query\":\"诸葛亮的弟弟是谁\"}', 'name': 'search'}, 'type': 'function'}]}, response_metadata={'finish_reason': 'stop', 'model_name': 'gpt-4o-2024-11-20', 'system_fingerprint': 'fp_ec7eab8ec3'}, id='run-7a23c5c4-6c79-451f-aab0-ef870f856514', tool_calls=[{'name': 'search', 'args': {'query': '诸葛亮的弟弟是谁'}, 'id': 'call_fTu6iVkVKlYiMNjOCzvPx2B0', 'type': 'tool_call'}], usage_metadata={'input_tokens': 112, 'output_tokens': 11, 'total_tokens': 123, 'input_token_details': {'audio': 0, 'cache_read': 0}, 'output_token_details': {'audio': 0, 'reasoning': 0}}),\n",
       " ToolMessage(content='Content: 诸葛亮他家兄弟姐妹一共4人：哥哥诸葛瑾，大诸葛亮7岁，弟弟诸葛均，大姐嫁于蒯祺，二姐嫁于庞山民。 诸葛亮于汉灵帝光和四年（181年）出生在琅琊郡阳都县的一个官吏之家，诸葛氏是琅琊的望族，先祖诸葛丰曾在西汉元帝时做过司隶校尉，诸葛亮的父亲诸葛珪在东汉末年做过泰山郡丞。\\n\\nContent: 诸葛三兄弟_百度百科 网页新闻贴吧知道网盘图片视频地图文库资讯采购百科 百度首页 登录 注册 进入词条全站搜索帮助 首页 秒懂百科 特色百科 知识专题 加入百科 百科团队 权威合作 个人中心 诸葛三兄弟 播报讨论上传视频 诸葛亮、诸葛瑾、诸葛诞 收藏 查看我的收藏 0有用+1 三国时期，诸葛氏中有三兄弟被史家称为“龙虎狗”。《太平御览·人事部·品藻中》记载：“诸葛瑾弟亮及从弟诞，并有盛名，各在一国。于时以为蜀得其龙，吴得其虎，魏得其狗。诞在魏，与夏侯玄齐名。瑾在吴，吴朝服其弘雅。” 这三兄弟分别是弟弟诸葛亮、哥哥诸葛瑾以及从弟诸葛诞。三人虽同出一氏，却分投三国：其中诸葛亮被刘备重用，为蜀汉丞相，是龙；诸葛瑾报效东吴，被孙权信任重用，为东吴大将军，是虎；诸葛诞投奔了曹丕，拜曹魏大将军，是狗。其中称诸葛诞为狗并非讽刺，狗意指“功狗”，为有功的战将。 中文名 诸葛三兄弟 人\\xa0\\xa0\\xa0\\xa0物 诸葛亮、诸葛瑾、诸葛诞 诸葛亮 蜀汉丞相 诸葛瑾 东吴大将军、豫州牧 诸葛诞 曹魏征东大将军 目录 1诸葛亮 ▪人物介绍 ▪履历 2诸葛瑾 ▪人物介绍 ▪履历 3诸葛诞 ▪人物介绍 ▪履历 诸葛亮 播报 编辑 人物介绍 诸葛亮 诸葛亮（公元181——公元234年），三国时期著名的政治家、军事家，字孔明，祖籍琅邪阳都（今山东沂南）。曾隐居于襄阳隆中（今襄阳县之西二十里），并读了大量的书籍，结交名士，品评时事，后称其为“卧龙”。207年，在徐庶推荐下，刘备“三顾茅庐”，请诸葛亮帮助自己，实现统一。诸葛亮为刘备提出了一个切实可行的计划，即著名的“隆中对策”，刘备的迅速崛起，都是与他的规劝和具体帮助分不开的。221年，刘备称帝，建立蜀汉政权，诸葛亮任丞相。223年，刘备死，刘禅即位，诸葛亮被加封为武乡侯，领益州牧，辅佐刘禅，治理蜀国，死后追谥忠武侯，后来东晋政权推崇诸葛亮军事才能，特追封他为武兴王。 履历 在执政初期，诸葛亮就主动派人到东吴会见孙权，蜀吴两国重新结盟，使蜀国得以全力对魏，而蜀吴两国始终保持着良好关系。在内政方面，诸葛亮首先从建立法治开始，科教严明，赏罚必信，无恶不惩，无善不显。他还注意选贤举能，不拘一格，任用一批有治国用兵之能的人才为官，做到了知人善用，对一些庸碌无能，贪污不法的官吏，则坚决罢掉。为了充实国力，安定人民生活，诸葛亮注意农业生产，“务农殖谷”，他还曾派1200名士兵去保护维修都江堰水利工程。在国家征发赋税徭役方面，他也主张“唯劝农业，无夺其时，唯薄赋敛，无尽民财。”对于手工业和商业的发展，也较重视，他设置司盐校尉，专门管理井盐生产，在各族人民的努力下，蜀国经济逐渐发展起来对西南少数民族，实行了“和抚”的方针，225年，他率军分几路南征，平定了南中的叛乱，对孟获七擒七纵，使其心悦诚服，从此蜀汉与少数民族的关系得到改善，这既免除了蜀国的后顾之忧，又促进了这一地区经济、文化的发展，加强了民族融合。在军事上，诸葛亮着重整顿军队纪律和训练部队，增强军队的战斗力，他发明制造了木牛流马，用此运送军粮，有利于山地运输，减轻了人力运输军粮的负担，他还改进了连弩箭，大大提高了旧式连弩的威力。在生活方面，比较俭朴、清廉，他不嗜享乐，取妻重才不重貌，虽身居相位，但家中“蓄财无余”，这在古代社会中是很可贵的。 诸葛亮为匡扶蜀汉政权，呕心沥血、鞠躬尽瘁、死而后已。其代表作有《前出师表》《后出师表》《诫子书》等。曾发明木牛流马等，并改造连弩，可一弩十矢俱发。于234年在宝鸡五丈原逝世。诸葛亮在后世受到极大的尊崇，成为后世忠臣楷模，智慧化身。 [1] 诸葛瑾 播报 编辑 人物介绍 诸葛瑾（174年－241年），字子瑜，祖籍琅琊阳都（今山东省沂南县）。东汉末年三国时期东吴重臣，官至大将军。诸葛瑾是蜀汉丞相诸葛亮的胞兄，其子诸葛恪也在东吴官至太傅。生于经学世家的诸葛瑾，治《毛诗》《尚书》及《左氏春秋》。 履历 诸葛瑾 诸葛瑾为避战乱迁到江东，经鲁肃推荐，为东吴效力，胸怀宽广，温厚诚信，深得孙权信赖。215年，诸葛瑾奉命出使，要刘备归还荆州。219年，他跟随孙权讨伐关羽。221年，他被派往蜀汉前去求和，在缓和蜀汉与东吴的关系上起到了很大的作用。建安二十五年（220年）吕蒙病逝，诸葛瑾代吕蒙领南郡太守，驻守公安。孙权称帝后，诸葛瑾官至大将军，领豫州牧。 建安五年（公元200年），由于孙权姊婿弘咨的推荐，诸葛瑾才正式成为孙权帐下的一员，从而迈上仕途。 215年，诸葛瑾奉命出使蜀汉，要求刘备归还荆州，最后以分界结束。219年，跟随讨伐关羽，封宣城侯、绥南将军，代吕蒙领南郡太守。黄初二年（221年），刘备东伐吴，吴王求和。诸葛瑾写信与刘备说和，有人以此上告孙权，权曰：“孤与子瑜有死生不易之誓，子瑜之不负孤，犹孤之不负子瑜也。” 222年，孙权受封吴王，封诸葛瑾左将军、督公安，假节，封宛陵侯。同年曹真、夏侯尚等围朱然于江陵，诸葛瑾派兵救援，渡江时被夏侯尚火烧船只，水陆同时进攻所击退。潘璋未知前来救援，而魏兵日渡不绝，并说：“魏势始盛，江水又浅，未可与战。”便将所领，到魏上流五十里，伐苇数百万束，缚作大筏，欲顺流放火，烧败浮桥。作筏适毕，伺水长当下，尚便引退。同年，孙权称王，封诸葛瑾为大将军、左都护，领豫州牧。 226年，孙权得知魏文帝去世后，于八月出兵攻，命吴左将军诸葛瑾部兵分两路进攻襄阳（今湖北襄阳），亲自率军进攻江夏郡（今湖北云梦西南）。孙权一路为魏军所败，遂撤兵而走。而诸葛瑾则被司马懿击败，并斩杀吴将张霸，斩首千余级。十二月，升任骠骑将军。236年，孙权北征，派右都督陆逊与中司马诸葛瑾攻襄阳。陆逊派亲戚韩扁怀揣奏疏上报朝廷，返回途中，在途中遇到敌人，敌人抓获了韩扁。 于是亲自来见陆逊。陆逊说：“敌人知道大驾已还，再不用为此筹谋，便专心对付我们。如今敌人已经守卫了要害之处，兵将已经出动，我们自己应当首先镇定自如以稳住部队，然后再巧施计谋，退出此地。如果今天就向敌人表明我们要走，敌人会以为我们害怕了，必然会来威逼我们，那就是必败之势了。”于是二人秘密定计，令诸葛瑾坐镇舟船，陆逊率领全部兵马向襄阳进发。敌人素来惧怕陆逊，见陆逊要攻襄阳，立即退回城中。诸葛瑾便引船而出，陆逊慢慢整顿好队伍，大张旗鼓地走上船。敌人不知究竟，反而不敢追击，于是陆逊全军安然退出。 241年四月，吴帝孙权分兵四路攻魏：卫将军全琮率军数万出淮南决芍陂（今安徽寿县南）之水，威北将军诸葛恪攻六安（今安徽六安东北），车骑将军朱然攻樊城（今湖北襄阳），大将军诸葛瑾攻祖中（今湖北南漳蛮河流域）。 五月，全琮入侵芍陂，朱然、孙伦围攻樊城，诸葛瑾、步骘侵掠柤中，司马懿自请出兵往讨。同年，诸葛瑾病故，死时六十八岁，死前命人葬礼应该简单进行。 诸葛诞 播报 编辑 人物介绍 诸葛诞（213～258）三国时期魏将，字公休，祖籍琅玡阳都（今山东沂南县），诸葛丰之后，诸葛亮和诸葛瑾的堂弟。初以尚书郎为荣阳令，累迁御史中丞尚书，是三国时曹魏后期的重要将领，官至征东大将军。与夏侯玄、邓飏、田畴友善，俱有声名，并称为四聪。 履历 诸葛诞 诸葛诞为汉代名医诸葛丰之后，正始初出任扬州刺史。从司马懿伐吴，平王凌之叛，随司马师讨毋丘俭，积功升至征东大将军、都督扬州。然诸葛诞与夏侯玄、邓飏交好，又见到王凌与毌丘俭叛乱而家族被诛，深感恐惧，于是倾尽家财来赈济百姓以收笼人心，又厚养归附者及扬州侠客几千人作为亲信力量。 甘露元年（256）冬天，东吴欲进攻徐堨（今安徽含山西南），诸葛诞力量足以应敌，但为保护自己，他请求朝廷派兵十万助守寿春，又要求加固沿淮的防御工事。朝廷暗中得知诸葛诞对朝廷心存戒惕，念其劳苦功高，便想调他入京任职，哪知诏书到，诸葛诞更加恐慌，遂举兵反叛。诸葛诞杀死不愿叛乱的扬州刺史乐綝，聚集淮南淮北十多万屯田官兵，又从东吴归降的农民挑出四五万人马，准备了可供一年的粮食闭城死守。另外，他还派长史吴纲率自己小儿子诸葛靓到东吴求援。东吴遂派全怿、全端、唐咨和王祚等人率兵三万，悄悄地与文钦一起接应诸葛诞，并任诸葛诞为左都护、大司徒、骠骑将军及青州刺史，封其为寿春侯。同年六月，司马昭与皇帝一起讨伐诸葛诞，进驻项县，将寿春城围了二层。文钦与吴将朱异多次进军，均被击败，朱异因此被主帅孙綝斩首。寿春城中粮少无援，蒋班与焦彝率先背叛诸葛诞向司马昭投降。甘露三年（258）正月，诸葛诞与文钦等人制造进攻器械，企图突围，但被司马昭打退。诸葛诞军粮用尽，又与文钦产生矛盾将其斩杀，致使文钦二子投降司马昭。司马昭利用文钦的两个儿子来劝降诸葛诞的人马，一时城中人心骚动。诸葛诞走投无路，亲自率兵出城突围，结果被魏将胡奋斩于马下，人头被送往京城，灭门三族。唐咨及王祚等人全部投降，诸葛诞之乱被司马昭平定。 新手上路 成长任务编辑入门编辑规则本人编辑 我有疑问 内容质疑在线客服官方贴吧意见反馈 投诉建议 举报不良信息未通过词条申诉投诉侵权信息封禁查询与解封 ©2025\\xa0Baidu\\xa0使用百度前必读\\xa0|\\xa0百科协议\\xa0|\\xa0隐私政策\\xa0|\\xa0百度百科合作平台\\xa0|\\xa0京ICP证030173号\\xa0 京公网安备11000002000001号', name='search', id='473a6626-c9b8-4f13-8e18-fa2943635b5b', tool_call_id='call_fTu6iVkVKlYiMNjOCzvPx2B0'),\n",
       " AIMessage(content='诸葛亮的弟弟是诸葛均。', additional_kwargs={}, response_metadata={'finish_reason': 'stop', 'model_name': 'deepseek-chat', 'system_fingerprint': 'fp_3a5770e1b4'}, id='run-0650f025-6cb1-426d-b082-6e15ac31006a', usage_metadata={'input_tokens': 2914, 'output_tokens': 7, 'total_tokens': 2921, 'input_token_details': {}, 'output_token_details': {}}),\n",
       " HumanMessage(content='司马懿有几个儿子？都叫什么名字？', additional_kwargs={}, response_metadata={}, id='66740d71-cf6a-4583-abc2-ea2268588db1'),\n",
       " AIMessage(content='', additional_kwargs={'tool_calls': [{'index': 0, 'id': 'call_yu4rKUFpYdIt0Uint2XK3QQW', 'function': {'arguments': '{\"query\":\"司马懿有几个儿子？都叫什么名字？\"}', 'name': 'retrieve'}, 'type': 'function'}]}, response_metadata={'finish_reason': 'stop', 'model_name': 'gpt-4o-2024-11-20', 'system_fingerprint': 'fp_ec7eab8ec3'}, id='run-7adeb234-7bac-45a5-ab01-25831781ce97', tool_calls=[{'name': 'retrieve', 'args': {'query': '司马懿有几个儿子？都叫什么名字？'}, 'id': 'call_yu4rKUFpYdIt0Uint2XK3QQW', 'type': 'tool_call'}], usage_metadata={'input_tokens': 3796, 'output_tokens': 17, 'total_tokens': 3813, 'input_token_details': {'audio': 0, 'cache_read': 0}, 'output_token_details': {'audio': 0, 'reasoning': 0}}),\n",
       " ToolMessage(content='Content: 不久，司马懿查出了曹爽造反篡位的罪证，便将曹爽兄弟三人和手下一千人全部杀了。魏王封司马懿为丞相，加九锡，父子三人同执掌国家大权。\\n\\nContent: 司马懿领兵平息了公孙渊的反兵，斩了公孙渊。\\n曹睿在许昌得了重病，便把后事托给了曹爽和司马懿，要他们同心辅助才八岁的太子曹芳。\\n曹睿不久便去世，曹芳当了皇帝。', name='retrieve', id='69d5465d-89e4-4e0b-b5ec-a4285d67186c', tool_call_id='call_yu4rKUFpYdIt0Uint2XK3QQW'),\n",
       " AIMessage(content='司马懿有两个儿子，分别是司马师和司马昭。', additional_kwargs={}, response_metadata={'finish_reason': 'stop', 'model_name': 'deepseek-chat', 'system_fingerprint': 'fp_3a5770e1b4'}, id='run-835333ac-8dda-44ec-85ed-1ae6df858556', usage_metadata={'input_tokens': 186, 'output_tokens': 12, 'total_tokens': 198, 'input_token_details': {}, 'output_token_details': {}}),\n",
       " HumanMessage(content='徐晃在哪个阵营？', additional_kwargs={}, response_metadata={}, id='6d9f41a7-f8d1-4cce-b4e6-606031d5f983'),\n",
       " AIMessage(content='', additional_kwargs={'tool_calls': [{'index': 0, 'id': 'call_GbOnrZFJigPHwzUuWBe5CSbr', 'function': {'arguments': '{\"query\":\"徐晃在哪个阵营\"}', 'name': 'retrieve'}, 'type': 'function'}]}, response_metadata={'finish_reason': 'stop', 'model_name': 'gpt-4o-2024-11-20', 'system_fingerprint': 'fp_ec7eab8ec3'}, id='run-2ce290e7-2827-4b34-a024-052dfc3d5cd9', tool_calls=[{'name': 'retrieve', 'args': {'query': '徐晃在哪个阵营'}, 'id': 'call_GbOnrZFJigPHwzUuWBe5CSbr', 'type': 'tool_call'}], usage_metadata={'input_tokens': 4010, 'output_tokens': 11, 'total_tokens': 4021, 'input_token_details': {'audio': 0, 'cache_read': 3712}, 'output_token_details': {'audio': 0, 'reasoning': 0}}),\n",
       " ToolMessage(content='', name='retrieve', id='844cc7e0-0296-4418-81f8-d4a71866f0fd', tool_call_id='call_GbOnrZFJigPHwzUuWBe5CSbr'),\n",
       " AIMessage(content='', additional_kwargs={'tool_calls': [{'index': 0, 'id': 'call_aBLLlyOFviKnVdY3AMzTbLK0', 'function': {'arguments': '{\"query\":\"徐晃 三国 阵营\"}', 'name': 'search'}, 'type': 'function'}]}, response_metadata={'finish_reason': 'stop', 'model_name': 'gpt-4o-2024-11-20', 'system_fingerprint': 'fp_ec7eab8ec3'}, id='run-fb619b59-1f36-4fd1-894c-a8db0dbca43e', tool_calls=[{'name': 'search', 'args': {'query': '徐晃 三国 阵营'}, 'id': 'call_aBLLlyOFviKnVdY3AMzTbLK0', 'type': 'tool_call'}], usage_metadata={'input_tokens': 4036, 'output_tokens': 11, 'total_tokens': 4047, 'input_token_details': {'audio': 0, 'cache_read': 3968}, 'output_token_details': {'audio': 0, 'reasoning': 0}}),\n",
       " ToolMessage(content='Content: 徐晃是《三国志·战略版》中魏阵营五星级6御武将，擅长统率和武力，适合带盾兵，战法\"长驱直入\"能提升伤害并降低全队伤害，推荐阵容曹操+徐晃+曹仁或徐晃+曹彰+郭淮，缘分\"五子良将\"提升速度和会心几率。\\n\\nContent: 大家好，本期奉孝，将为大家带来徐晃的武将介绍及其阵容搭配推荐。一、武将基础信息品质：橙 阵营：魏 兵种：盾兵徐晃的武力属性尤为突出，属于强攻输出型武将。自带战法能够对敌军施加\"技穷\"，还有机会造', name='search', id='9c678078-6c49-4830-87c5-fade80b7dd84', tool_call_id='call_aBLLlyOFviKnVdY3AMzTbLK0'),\n",
       " AIMessage(content='徐晃在魏阵营。', additional_kwargs={}, response_metadata={'finish_reason': 'stop', 'model_name': 'deepseek-chat', 'system_fingerprint': 'fp_3a5770e1b4'}, id='run-5ffed930-6832-4c30-b926-27869942d0a8', usage_metadata={'input_tokens': 246, 'output_tokens': 6, 'total_tokens': 252, 'input_token_details': {}, 'output_token_details': {}})]"
      ]
     },
     "execution_count": 134,
     "metadata": {},
     "output_type": "execute_result"
    }
   ],
   "source": [
    "graph.get_state(config=config).values[\"messages\"]"
   ]
  },
  {
   "cell_type": "code",
   "execution_count": null,
   "metadata": {},
   "outputs": [],
   "source": []
  }
 ],
 "metadata": {
  "kernelspec": {
   "display_name": "lclg",
   "language": "python",
   "name": "python3"
  },
  "language_info": {
   "codemirror_mode": {
    "name": "ipython",
    "version": 3
   },
   "file_extension": ".py",
   "mimetype": "text/x-python",
   "name": "python",
   "nbconvert_exporter": "python",
   "pygments_lexer": "ipython3",
   "version": "3.11.0"
  }
 },
 "nbformat": 4,
 "nbformat_minor": 2
}
