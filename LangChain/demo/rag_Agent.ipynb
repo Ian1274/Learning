{
 "cells": [
  {
   "cell_type": "markdown",
   "metadata": {},
   "source": [
    "# 导入模型"
   ]
  },
  {
   "cell_type": "code",
   "execution_count": 142,
   "metadata": {},
   "outputs": [],
   "source": [
    "import os\n",
    "from dotenv import load_dotenv\n",
    "from langchain_openai import ChatOpenAI\n",
    "from langchain_ollama import ChatOllama\n",
    "from langchain_huggingface import HuggingFaceEmbeddings  # HuggingFace嵌入\n",
    "\n",
    "load_dotenv(dotenv_path=r\"E:\\Workplace\\GitHub\\Learning\\LangChain\\.env\", override=True)\n",
    "\n",
    "model_ds = ChatOpenAI(\n",
    "                    temperature=0,\n",
    "                    max_tokens=2048,\n",
    "                    presence_penalty=1.2,\n",
    "                    model='deepseek-chat',\n",
    "                    openai_api_key=os.getenv('DEEPSEEK_API_KEY'),\n",
    "                    openai_api_base=\"https://api.deepseek.com/v1\",\n",
    "                    # model='gpt-4o-mini',\n",
    "                    # openai_api_key=os.getenv('CLOSEAI_API_KEY'),\n",
    "                    # openai_api_base=\"https://api.openai-proxy.org/v1\",\n",
    "                    # model='yi-large-fc',\n",
    "                    # openai_api_key=os.getenv('YI_API_KEY'),\n",
    "                    # openai_api_base=\"https://api.lingyiwanwu.com/v1\",\n",
    "                )\n",
    "\n",
    "model_yi = ChatOpenAI(\n",
    "                    # temperature=0.1,\n",
    "                    # max_tokens=2048,\n",
    "                    # presence_penalty=1.2,\n",
    "                    # model='deepseek-chat',\n",
    "                    # openai_api_key=os.getenv('DEEPSEEK_API_KEY'),\n",
    "                    # openai_api_base=\"https://api.deepseek.com/v1\",\n",
    "                    # model='gpt-4o-mini',\n",
    "                    # openai_api_key=os.getenv('CLOSEAI_API_KEY'),\n",
    "                    # openai_api_base=\"https://api.openai-proxy.org/v1\",\n",
    "                    model='yi-large-fc',\n",
    "                    openai_api_key=os.getenv('YI_API_KEY'),\n",
    "                    openai_api_base=\"https://api.lingyiwanwu.com/v1\",\n",
    "                )\n",
    "\n",
    "model_gpt = ChatOpenAI(\n",
    "                    # temperature=0.1,\n",
    "                    # max_tokens=2048,\n",
    "                    # presence_penalty=1.2,\n",
    "                    # model='deepseek-chat',\n",
    "                    # openai_api_key=os.getenv('DEEPSEEK_API_KEY'),\n",
    "                    # openai_api_base=\"https://api.deepseek.com/v1\",\n",
    "                    # model='gpt-4o-2024-11-20',\n",
    "                    model='gpt-4o',\n",
    "                    openai_api_key=os.getenv('CLOSEAI_API_KEY'),\n",
    "                    openai_api_base=\"https://api.openai-proxy.org/v1\",\n",
    "                    # model='yi-large-fc',\n",
    "                    # openai_api_key=os.getenv('YI_API_KEY'),\n",
    "                    # openai_api_base=\"https://api.lingyiwanwu.com/v1\",\n",
    "                )\n",
    "\n",
    "# model = ChatOllama(\n",
    "#                     temperature=0,\n",
    "#                     num_predict=4096,\n",
    "#                     repeat_penalty=1.2,\n",
    "#                     model=\"llama3.2:3b\"\n",
    "#                 )\n",
    "\n",
    "embeddings = HuggingFaceEmbeddings(\n",
    "            model_name=r\"E:/Workplace/GitHub/Embedding/maidalun/bce-embedding-base_v1\",\n",
    "            model_kwargs={\"device\": \"cuda\",\n",
    "                          \"trust_remote_code\": True},\n",
    "            encode_kwargs={\"normalize_embeddings\": True},\n",
    "        )"
   ]
  },
  {
   "cell_type": "markdown",
   "metadata": {},
   "source": [
    "# 构建RAG系统"
   ]
  },
  {
   "cell_type": "code",
   "execution_count": 143,
   "metadata": {},
   "outputs": [
    {
     "name": "stdout",
     "output_type": "stream",
     "text": [
      "117\n"
     ]
    }
   ],
   "source": [
    "from langchain_core.prompts import ChatPromptTemplate\n",
    "from langchain_core.messages import BaseMessage, AnyMessage, HumanMessage, AIMessage, trim_messages\n",
    "from langchain_community.document_loaders import TextLoader\n",
    "from langchain_text_splitters import RecursiveCharacterTextSplitter\n",
    "from langchain_milvus.vectorstores.milvus import Milvus\n",
    "\n",
    "\n",
    "loader = TextLoader(\n",
    "    file_path=\"比亚迪电动车维修手册.md\",\n",
    "    autodetect_encoding=True,\n",
    ")\n",
    "\n",
    "docs = loader.load()\n",
    "\n",
    "splitter = RecursiveCharacterTextSplitter(\n",
    "    separators=[\"。|！|？\", \"\\.\\s|\\!\\s|\\?\\s\", \"；|;\\s\", \"，|,\\s\"],  # 定义分割符\n",
    "    keep_separator=\"end\",\n",
    "    is_separator_regex=True,\n",
    "    chunk_size=200,  # 每块大小\n",
    "    chunk_overlap=0,  # 重叠大小\n",
    ")\n",
    "\n",
    "chunks = splitter.split_documents(docs)\n",
    "\n",
    "print(len(chunks))\n",
    "\n",
    "db = Milvus(\n",
    "        embedding_function=embeddings,\n",
    "        collection_name=\"sg\",\n",
    "        connection_args={\"uri\": \"https://in05-e9b7822ca8ff8bb.serverless.ali-cn-hangzhou.cloud.zilliz.com.cn\",\n",
    "                         \"token\": \"7dc031089e6d2095e90ddb01b22837bb68f444658e6efdb726899623178d777b307be7a264fb8014b445786993ce898d7e93e486\"},\n",
    "        drop_old=True,\n",
    "        auto_id=True,\n",
    "        enable_dynamic_field=True\n",
    "    )\n",
    "db.add_documents(chunks)\n",
    "\n",
    "# prompt = ChatPromptTemplate(\n",
    "#     [\n",
    "#         (\n",
    "#             \"user\",\n",
    "#             \"You are an assistant for question-answering tasks. Use the following pieces of retrieved context to answer the question. If you don't know the answer, just say that you don't know. Use three sentences maximum and keep the answer concise.\\nQuestion: {question} \\nContext: {context} \\nAnswer:\",\n",
    "#         )\n",
    "#     ]\n",
    "# )\n",
    "\n",
    "trimmer = trim_messages(strategy=\"last\", max_tokens=6, token_counter=len)\n"
   ]
  },
  {
   "cell_type": "markdown",
   "metadata": {},
   "source": [
    "# LangGraph Agent实现"
   ]
  },
  {
   "cell_type": "code",
   "execution_count": 147,
   "metadata": {},
   "outputs": [],
   "source": [
    "from langchain_core.messages import AIMessageChunk, SystemMessage\n",
    "from langchain_core.tools import tool\n",
    "from langchain_community.tools.tavily_search import TavilySearchResults\n",
    "\n",
    "from langgraph.graph import START, END, MessagesState, StateGraph\n",
    "from langgraph.checkpoint.memory import MemorySaver\n",
    "from langgraph.prebuilt import ToolNode, tools_condition, create_react_agent\n",
    "\n",
    "\n",
    "\n",
    "@tool\n",
    "def retrieve(query: str):\n",
    "    \"\"\"根据 query 从知识库中检索相关文档。\"\"\"\n",
    "    try:\n",
    "        # 解码Unicode字符串\n",
    "        if \"\\\\u\" in query:\n",
    "            import json\n",
    "            query = json.loads(f'\"{query}\"')\n",
    "\n",
    "        retrieved_docs = db.similarity_search_with_relevance_scores(query, k=4, score_threshold=0.8)\n",
    "        if not retrieved_docs:\n",
    "            return \"\"  # 如果没有检索到相关文档，返回空字符串\n",
    "            \n",
    "        serialized = \"\\n\\n\".join(\n",
    "            (f\"Content: {doc.page_content}\")\n",
    "            for doc, score in retrieved_docs if score >= 0.8  # 确保分数达标\n",
    "        )\n",
    "        return serialized\n",
    "    except Exception as e:\n",
    "        print(f\"检索出错: {e}\")\n",
    "        return \"\"\n",
    "\n",
    "@tool\n",
    "def search(query: str):\n",
    "    \"\"\"根据 query 从网络上搜索相关信息。\"\"\"\n",
    "    try:\n",
    "        # 解码Unicode字符串\n",
    "        if \"\\\\u\" in query:\n",
    "            import json\n",
    "            query = json.loads(f'\"{query}\"')\n",
    "            \n",
    "        searcher = TavilySearchResults(max_results=2)\n",
    "        search_results = searcher.invoke(query)\n",
    "        if not search_results:\n",
    "            return \"\"\n",
    "            \n",
    "        serialized = \"\\n\\n\".join(\n",
    "            (f\"Content: {result['content']}\")\n",
    "            for result in search_results if result.get('content')\n",
    "        )\n",
    "        return serialized\n",
    "    except Exception as e:\n",
    "        print(f\"搜索出错: {e}\")\n",
    "        return \"\"\n",
    "\n",
    "graph_builder = StateGraph(MessagesState)\n",
    "\n",
    "def query_or_respond(state: MessagesState):\n",
    "    \"\"\"Generate tool call for retrieval or respond.\"\"\"\n",
    "    llm_with_tool_retrieve = model_gpt.bind_tools(\n",
    "        tools=[retrieve, search],\n",
    "        tool_choice={\n",
    "            \"type\": \"function\",\n",
    "            \"function\": {\"name\": \"retrieve\"}\n",
    "        },\n",
    "        strict=True  # 确保输出严格匹配工具定义\n",
    "    )       \n",
    "    response = llm_with_tool_retrieve.invoke(state[\"messages\"])\n",
    "    # MessagesState appends messages to state instead of overwriting\n",
    "    return {\"messages\": [response]}\n",
    "\n",
    "def select_query_or_respond(\n",
    "    state: MessagesState,\n",
    "):\n",
    "    if isinstance(state, list):\n",
    "        ai_message = state[-1]\n",
    "    elif messages := state.get(\"messages\", []):\n",
    "        ai_message = messages[-1]\n",
    "    else:\n",
    "        raise ValueError(f\"No messages found in input state to tool_edge: {state}\")\n",
    "    if hasattr(ai_message, \"tool_calls\") and len(ai_message.tool_calls) > 0:\n",
    "        return \"tool_retrieve\"\n",
    "    return END\n",
    "\n",
    "    \n",
    "tool_retrieve = ToolNode(tools=[retrieve], \n",
    "                         name=\"tool_retrieve\")\n",
    "\n",
    "def search_or_generate(state: MessagesState):\n",
    "    # 确保state中有messages且不为空\n",
    "    if not state.get(\"messages\"):\n",
    "        return {\"messages\": []}\n",
    "    \n",
    "    last_message = state[\"messages\"][-1]\n",
    "    \n",
    "    # 处理工具消息\n",
    "    if last_message.type == \"tool\":\n",
    "        if not last_message.content:  # 如果工具返回空内容\n",
    "            llm_with_tool_search = model_gpt.bind_tools(\n",
    "                tools=[retrieve, search],\n",
    "                tool_choice={\n",
    "                    \"type\": \"function\",\n",
    "                    \"function\": {\"name\": \"search\"}\n",
    "                },\n",
    "                strict=True\n",
    "            )\n",
    "            response = llm_with_tool_search.invoke(state[\"messages\"])\n",
    "            return {\"messages\": [response]}\n",
    "        else:\n",
    "            # 如果工具返回了内容，直接返回当前状态\n",
    "            return state\n",
    "    \n",
    "    # 处理AI消息且包含工具调用\n",
    "    elif last_message.type == \"ai\" and hasattr(last_message, \"tool_calls\"):\n",
    "        llm_with_tool_search = model_gpt.bind_tools(\n",
    "            tools=[retrieve, search],\n",
    "            tool_choice={\n",
    "                \"type\": \"function\",\n",
    "                \"function\": {\"name\": \"search\"}\n",
    "            },\n",
    "            strict=True\n",
    "        )\n",
    "        response = llm_with_tool_search.invoke(state[\"messages\"])\n",
    "        return {\"messages\": [response]}\n",
    "    \n",
    "    # 处理其他情况\n",
    "    return state\n",
    "\n",
    "\n",
    "def select_search_or_generate(state: MessagesState):\n",
    "    if isinstance(state, list):\n",
    "        last_message = state[-1]\n",
    "    elif messages := state.get(\"messages\", []):\n",
    "        last_message = messages[-1]\n",
    "    else:\n",
    "        raise ValueError(f\"No messages found in input state to tool_edge: {state}\")\n",
    "    \n",
    "    # 确保总是返回一个有效的节点名称\n",
    "    if last_message.type == \"tool\":\n",
    "        if last_message.content == \"\":  # 如果工具返回空内容\n",
    "            return \"tool_webSearch\"\n",
    "        return \"generate\"\n",
    "    elif last_message.type == \"ai\" and last_message.tool_calls:\n",
    "        return \"tool_webSearch\"\n",
    "    return \"generate\"  # 默认返回generate节点\n",
    "\n",
    "tool_webSearch = ToolNode(tools=[search], \n",
    "                         name=\"tool_webSearch\")\n",
    "\n",
    "def generate(state: MessagesState):\n",
    "    \"\"\"Generate answer.\"\"\"\n",
    "    try:\n",
    "        # Get generated ToolMessages\n",
    "        recent_tool_messages = []\n",
    "        for message in reversed(state[\"messages\"]):\n",
    "            if message.type == \"tool\":\n",
    "                recent_tool_messages.append(message)\n",
    "            else:\n",
    "                break\n",
    "                \n",
    "        if not recent_tool_messages:\n",
    "            return {\"messages\": [AIMessage(content=\"抱歉，没有找到相关信息。\")]}\n",
    "            \n",
    "        tool_messages = recent_tool_messages[::-1]\n",
    "\n",
    "        # Format into prompt\n",
    "        docs_content = \"\\n\\n\".join(doc.content for doc in tool_messages if doc.content)\n",
    "        if not docs_content:\n",
    "            return {\"messages\": [AIMessage(content=\"抱歉，没有找到相关信息。\")]}\n",
    "            \n",
    "        system_message_content = (\n",
    "            \"You are a professional question answering assistant. Use the content retrieved below to answer the questions.\"\n",
    "            \"If there is an image link in the search results, you must answer the original image link and cannot make any changes to the format of the image link.\"\n",
    "            \"Retain the original content and format of the answers.\"\n",
    "            \"\\n\\n\"\n",
    "            f\"{docs_content}\"\n",
    "        )\n",
    "        \n",
    "        conversation_messages = [\n",
    "            message\n",
    "            for message in state[\"messages\"]\n",
    "            if message.type in (\"human\", \"system\")\n",
    "            or (message.type == \"ai\" and not message.tool_calls)\n",
    "        ]\n",
    "        \n",
    "        trimmed_conversation_messages = trimmer.invoke(conversation_messages)\n",
    "        prompt = [SystemMessage(system_message_content)] + trimmed_conversation_messages\n",
    "        \n",
    "        # Run\n",
    "        response = model_ds.invoke(prompt)\n",
    "        return {\"messages\": [response]}\n",
    "        \n",
    "    except Exception as e:\n",
    "        print(f\"生成回答时出错: {e}\")\n",
    "        return {\"messages\": [AIMessage(content=\"抱歉，处理您的请求时出现错误。\")]}\n",
    "\n",
    "\n",
    "\n",
    "graph_builder.add_node(\"query_or_respond\", query_or_respond)\n",
    "graph_builder.add_node(\"tool_retrieve\", tool_retrieve)\n",
    "graph_builder.add_node(\"search_or_generate\", search_or_generate)\n",
    "graph_builder.add_node(\"tool_webSearch\", tool_webSearch)\n",
    "graph_builder.add_node(\"generate\", generate)\n",
    "\n",
    "graph_builder.add_edge(START, \"query_or_respond\")\n",
    "graph_builder.add_conditional_edges(\n",
    "    \"query_or_respond\",\n",
    "    select_query_or_respond,\n",
    "    {\"tool_retrieve\": \"tool_retrieve\", END: END},\n",
    ")\n",
    "graph_builder.add_edge(\"tool_retrieve\", \"search_or_generate\")\n",
    "graph_builder.add_conditional_edges(\n",
    "    \"search_or_generate\",\n",
    "    select_search_or_generate,\n",
    "    {\"tool_webSearch\": \"tool_webSearch\", \"generate\": \"generate\"},\n",
    ")\n",
    "graph_builder.add_edge(\"tool_webSearch\", \"generate\")\n",
    "graph_builder.add_edge(\"generate\", END)\n",
    "\n",
    "memory = MemorySaver()\n",
    "graph = graph_builder.compile(checkpointer=memory)\n"
   ]
  },
  {
   "cell_type": "code",
   "execution_count": 16,
   "metadata": {},
   "outputs": [
    {
     "data": {
      "image/png": "[encoded data removed]",
      "text/plain": [
       "<langgraph.graph.state.CompiledStateGraph object at 0x000001C1245E4D90>"
      ]
     },
     "execution_count": 16,
     "metadata": {},
     "output_type": "execute_result"
    }
   ],
   "source": [
    "graph"
   ]
  },
  {
   "cell_type": "code",
   "execution_count": 151,
   "metadata": {},
   "outputs": [
    {
     "name": "stderr",
     "output_type": "stream",
     "text": [
      "No relevant docs were retrieved using the relevance score threshold 0.8\n"
     ]
    },
    {
     "data": {
      "text/plain": [
       "[]"
      ]
     },
     "execution_count": 151,
     "metadata": {},
     "output_type": "execute_result"
    }
   ],
   "source": [
    "retrieved_docs = db.similarity_search_with_relevance_scores(\"怎么添加玻璃水？\", k=4, score_threshold=0.8)\n",
    "retrieved_docs"
   ]
  },
  {
   "cell_type": "code",
   "execution_count": 152,
   "metadata": {},
   "outputs": [
    {
     "data": {
      "text/plain": [
       "[{'url': 'https://www.icauto.com.cn/zdm/65/659173.html',\n",
       "  'content': '如何加玻璃水. 玻璃水分两种：固体玻璃水和液体玻璃水。不同状态下的玻璃水有不同的加注方式。 固态玻璃水： 首先打开引擎盖，引擎盖开关一般在主驾驶的左脚边，打开之后可以看到一个蓝色塑料标志的盖子，那便是玻璃水箱，将固态玻璃水放入其中，加入清水，需要注意的是，一般汽车的'},\n",
       " {'url': 'https://chejiahao.autohome.com.cn/info/9219895',\n",
       "  'content': '其实加玻璃水还是非常简单的，今天我就来分享一下如何正确的加玻璃水。首先打开发动机舱盖，看准这个玻璃水的标志，一定要记得是这种，像一个雨伞类型的，或者说是一个喷水状的，就是加玻璃水的位置，有一些盖子它可能是黑色的，但是这个标志是不会变的，打开盖子就可以往里面加玻璃水'}]"
      ]
     },
     "execution_count": 152,
     "metadata": {},
     "output_type": "execute_result"
    }
   ],
   "source": [
    "searcher = TavilySearchResults(max_results=2)\n",
    "search_results = searcher.invoke(\"怎么添加玻璃水？\")\n",
    "search_results"
   ]
  },
  {
   "cell_type": "code",
   "execution_count": 149,
   "metadata": {},
   "outputs": [
    {
     "name": "stderr",
     "output_type": "stream",
     "text": [
      "No relevant docs were retrieved using the relevance score threshold 0.8\n"
     ]
    },
    {
     "name": "stdout",
     "output_type": "stream",
     "text": [
      "==================================\u001b[1m Ai Message \u001b[0m==================================\n",
      "\n",
      "添加玻璃水的步骤如下：\n",
      "\n",
      "1. **打开引擎盖**：首先，找到方向盘左下角的扣板并拉动，引擎盖会弹开。确认仪表盘上的提示，确保引擎盖已打开。\n",
      "\n",
      "2. **找到玻璃水加注口**：在发动机舱内寻找玻璃水的标志，通常是一个雨伞形状或喷水状的图标。这个标志可能位于一个黑色或其他颜色的盖子上。\n",
      "\n",
      "3. **打开盖子**：找到玻璃水加注口后，打开盖子。\n",
      "\n",
      "4. **添加玻璃水**：将玻璃水倒入加注口，直到液面接近加注口的顶部。注意不要溢出。\n",
      "\n",
      "5. **关闭盖子**：加完玻璃水后，确保盖子紧密关闭。\n",
      "\n",
      "6. **关闭引擎盖**：最后，将引擎盖轻轻放下并确保其完全锁紧。\n",
      "\n",
      "这样，你就完成了玻璃水的添加。\n"
     ]
    }
   ],
   "source": [
    "# input_message = \"诸葛亮的哥哥是谁？\"\n",
    "# input_message = \"他的哥哥在哪个阵营？参加过什么战役？\"\n",
    "# input_message = \"他的弟弟的官职最高是什么？\"\n",
    "input_message = \"怎么添加玻璃水？\"\n",
    "\n",
    "config = {\"configurable\": {\"thread_id\": \"1\"}}\n",
    "\n",
    "for step in graph.stream(\n",
    "    {\"messages\": [{\"role\": \"user\", \"content\": input_message}]},\n",
    "    config=config,\n",
    "    stream_mode=\"values\",\n",
    "):\n",
    "    final_result = step\n",
    "\n",
    "final_result[\"messages\"][-1].pretty_print()"
   ]
  },
  {
   "cell_type": "code",
   "execution_count": 150,
   "metadata": {},
   "outputs": [
    {
     "data": {
      "text/plain": [
       "[HumanMessage(content='进气系统简介', additional_kwargs={}, response_metadata={}, id='78fbfd25-7329-4051-8a51-2d4a6a418860'),\n",
       " AIMessage(content='', additional_kwargs={'tool_calls': [{'id': 'call_mtVKtBt6efEbYh12E6R2QwRu', 'function': {'arguments': '{\"query\":\"进气系统简介\"}', 'name': 'retrieve'}, 'type': 'function'}], 'refusal': None}, response_metadata={'token_usage': {'completion_tokens': 9, 'prompt_tokens': 82, 'total_tokens': 91, 'completion_tokens_details': {'accepted_prediction_tokens': 0, 'audio_tokens': 0, 'reasoning_tokens': 0, 'rejected_prediction_tokens': 0}, 'prompt_tokens_details': {'audio_tokens': 0, 'cached_tokens': 0}}, 'model_name': 'gpt-4o-2024-08-06', 'system_fingerprint': 'fp_b7d65f1a5b', 'finish_reason': 'stop', 'logprobs': None}, id='run-21a94167-027f-49bd-b896-4e0278271e9e-0', tool_calls=[{'name': 'retrieve', 'args': {'query': '进气系统简介'}, 'id': 'call_mtVKtBt6efEbYh12E6R2QwRu', 'type': 'tool_call'}], usage_metadata={'input_tokens': 82, 'output_tokens': 9, 'total_tokens': 91, 'input_token_details': {'audio': 0, 'cache_read': 0}, 'output_token_details': {'audio': 0, 'reasoning': 0}}),\n",
       " ToolMessage(content='Content: 进气歧管（Intake Manifold）：\\n\\n将空气分配到发动机的各个气缸。\\n\\n根据发动机的设计，进气歧管可以是单层或多层。\\n\\n节气门（Throttle）：\\n\\n控制空气进入发动机的量，从而控制发动机的转速和功率输出。\\n\\n驾驶员通过加速踏板控制节气门的开度。\\n\\n进气门（Intake Valves）：\\n\\n位于发动机气缸的顶部，控制空气和燃料混合物进入燃烧室。\\n\\nContent: 进气系统的设计和配置会根据发动机类型（如自然吸气、涡轮增压等）和车辆用途（如轿车、卡车等）有所不同。现代汽车的进气系统越来越依赖于电子控制技术，以实现更高的效率和性能。\\n\\nContent: ![Image](../files_imgs/比亚迪电动车维修手册(全)/image_1.png)\\n\\n### 1.2 排气系统简介\\n\\n汽车排气系统的主要功能是将发动机燃烧后产生的废气排出车外，同时降低噪音和减少对环境的污染。以下是汽车排气系统的一些基本组成部分和功能：\\n\\n排气歧管（Exhaust Manifold）：\\n\\n收集各个气缸燃烧后的废气，并将其引导至排气系统。\\n\\nContent: 比亚迪G6维修手册\\n\\n# 第一章 进气和排气系统\\n\\n## 第一节 组件位置索引\\n\\n### 1.1 进气系统简介\\n\\n汽车进气系统是发动机的重要组成部分，它负责将空气引入发动机燃烧室，以供燃料燃烧。以下是汽车进气系统的一些基本组成部分和功能：\\n\\n空气滤清器（Air Filter）：\\n\\n过滤进入发动机的空气，防止灰尘和杂质进入，保护发动机。', name='retrieve', id='fffd0cf5-6082-40fc-81e0-b2cec44f147c', tool_call_id='call_mtVKtBt6efEbYh12E6R2QwRu'),\n",
       " AIMessage(content='汽车进气系统是发动机的重要组成部分，它负责将空气引入发动机燃烧室，以供燃料燃烧。以下是汽车进气系统的一些基本组成部分和功能：\\n\\n1. **空气滤清器（Air Filter）**：过滤进入发动机的空气，防止灰尘和杂质进入，保护发动机。\\n2. **进气歧管（Intake Manifold）**：将空气分配到发动机的各个气缸。根据发动机的设计，进气歧管可以是单层或多层。\\n3. **节气门（Throttle）**：控制空气进入发动机的量，从而控制发动机的转速和功率输出。驾驶员通过加速踏板控制节气门的开度。\\n4. **进气门（Intake Valves）**：位于发动机气缸的顶部，控制空气和燃料混合物进入燃烧室。\\n\\n进气系统的设计和配置会根据发动机类型（如自然吸气、涡轮增压等）和车辆用途（如轿车、卡车等）有所不同。现代汽车的进气系统越来越依赖于电子控制技术，以实现更高的效率和性能。', additional_kwargs={'refusal': None}, response_metadata={'token_usage': {'completion_tokens': 201, 'prompt_tokens': 377, 'total_tokens': 578, 'completion_tokens_details': None, 'prompt_tokens_details': None, 'prompt_cache_hit_tokens': 0, 'prompt_cache_miss_tokens': 377}, 'model_name': 'deepseek-chat', 'system_fingerprint': 'fp_3a5770e1b4', 'finish_reason': 'stop', 'logprobs': None}, id='run-815d4c5d-1ccd-4e7f-9137-ea3ab2962fdd-0', usage_metadata={'input_tokens': 377, 'output_tokens': 201, 'total_tokens': 578, 'input_token_details': {}, 'output_token_details': {}}),\n",
       " HumanMessage(content='怎么添加玻璃水？', additional_kwargs={}, response_metadata={}, id='bb72c904-6ba4-45d8-bce7-29b9c03a9ed7'),\n",
       " AIMessage(content='', additional_kwargs={'tool_calls': [{'id': 'call_2QF5TvUxwDyOCubsMSSnpiDB', 'function': {'arguments': '{\"query\":\"如何添加玻璃水\"}', 'name': 'retrieve'}, 'type': 'function'}], 'refusal': None}, response_metadata={'token_usage': {'completion_tokens': 10, 'prompt_tokens': 811, 'total_tokens': 821, 'completion_tokens_details': {'accepted_prediction_tokens': 0, 'audio_tokens': 0, 'reasoning_tokens': 0, 'rejected_prediction_tokens': 0}, 'prompt_tokens_details': {'audio_tokens': 0, 'cached_tokens': 0}}, 'model_name': 'gpt-4o-2024-08-06', 'system_fingerprint': 'fp_b7d65f1a5b', 'finish_reason': 'stop', 'logprobs': None}, id='run-58b4a91a-ff32-4314-9571-5792c29f88a2-0', tool_calls=[{'name': 'retrieve', 'args': {'query': '如何添加玻璃水'}, 'id': 'call_2QF5TvUxwDyOCubsMSSnpiDB', 'type': 'tool_call'}], usage_metadata={'input_tokens': 811, 'output_tokens': 10, 'total_tokens': 821, 'input_token_details': {'audio': 0, 'cache_read': 0}, 'output_token_details': {'audio': 0, 'reasoning': 0}}),\n",
       " ToolMessage(content='', name='retrieve', id='92ccb336-1f3f-4fa2-a12e-08d26bc79260', tool_call_id='call_2QF5TvUxwDyOCubsMSSnpiDB'),\n",
       " AIMessage(content='', additional_kwargs={'tool_calls': [{'id': 'call_y7zFgYyPSIxqVYA2pTNYPC6F', 'function': {'arguments': '{\"query\":\"如何添加玻璃水\"}', 'name': 'search'}, 'type': 'function'}], 'refusal': None}, response_metadata={'token_usage': {'completion_tokens': 10, 'prompt_tokens': 835, 'total_tokens': 845, 'completion_tokens_details': {'accepted_prediction_tokens': 0, 'audio_tokens': 0, 'reasoning_tokens': 0, 'rejected_prediction_tokens': 0}, 'prompt_tokens_details': {'audio_tokens': 0, 'cached_tokens': 0}}, 'model_name': 'gpt-4o-2024-08-06', 'system_fingerprint': 'fp_b7d65f1a5b', 'finish_reason': 'stop', 'logprobs': None}, id='run-799fa562-f5d7-415b-88a6-56322bfb2a3e-0', tool_calls=[{'name': 'search', 'args': {'query': '如何添加玻璃水'}, 'id': 'call_y7zFgYyPSIxqVYA2pTNYPC6F', 'type': 'tool_call'}], usage_metadata={'input_tokens': 835, 'output_tokens': 10, 'total_tokens': 845, 'input_token_details': {'audio': 0, 'cache_read': 0}, 'output_token_details': {'audio': 0, 'reasoning': 0}}),\n",
       " ToolMessage(content='Content: 如何添加玻璃水呢，以埃安Yplus举例，正常汽车的玻璃添加口都在前引擎盖那，具体要看自己车型。首先我们打开引擎盖，方向盘左下角通常有个扣板可以拉动，往外一拉，引擎盖就弹开了，这个时候看看仪表盘，可以确认引擎盖有没有打开，打开只有有一个锁扣，需要我们把它打开，引擎盖就可以\\n\\nContent: 其实加玻璃水还是非常简单的，今天我就来分享一下如何正确的加玻璃水。首先打开发动机舱盖，看准这个玻璃水的标志，一定要记得是这种，像一个雨伞类型的，或者说是一个喷水状的，就是加玻璃水的位置，有一些盖子它可能是黑色的，但是这个标志是不会变的，打开盖子就可以往里面加玻璃水', name='search', id='8a00983a-92ae-4221-aee2-0ccc01f68970', tool_call_id='call_y7zFgYyPSIxqVYA2pTNYPC6F'),\n",
       " AIMessage(content='添加玻璃水的步骤如下：\\n\\n1. **打开引擎盖**：首先，找到方向盘左下角的扣板并拉动，引擎盖会弹开。确认仪表盘上的提示，确保引擎盖已打开。\\n\\n2. **找到玻璃水加注口**：在发动机舱内寻找玻璃水的标志，通常是一个雨伞形状或喷水状的图标。这个标志可能位于一个黑色或其他颜色的盖子上。\\n\\n3. **打开盖子**：找到玻璃水加注口后，打开盖子。\\n\\n4. **添加玻璃水**：将玻璃水倒入加注口，直到液面接近加注口的顶部。注意不要溢出。\\n\\n5. **关闭盖子**：加完玻璃水后，确保盖子紧密关闭。\\n\\n6. **关闭引擎盖**：最后，将引擎盖轻轻放下并确保其完全锁紧。\\n\\n这样，你就完成了玻璃水的添加。', additional_kwargs={'refusal': None}, response_metadata={'token_usage': {'completion_tokens': 179, 'prompt_tokens': 433, 'total_tokens': 612, 'completion_tokens_details': None, 'prompt_tokens_details': None, 'prompt_cache_hit_tokens': 0, 'prompt_cache_miss_tokens': 433}, 'model_name': 'deepseek-chat', 'system_fingerprint': 'fp_3a5770e1b4', 'finish_reason': 'stop', 'logprobs': None}, id='run-ddea72bb-c7df-4a1d-bec3-2cc1cbeb92d3-0', usage_metadata={'input_tokens': 433, 'output_tokens': 179, 'total_tokens': 612, 'input_token_details': {}, 'output_token_details': {}})]"
      ]
     },
     "execution_count": 150,
     "metadata": {},
     "output_type": "execute_result"
    }
   ],
   "source": [
    "graph.get_state(config=config).values[\"messages\"]"
   ]
  },
  {
   "cell_type": "markdown",
   "metadata": {},
   "source": [
    "# Stream"
   ]
  },
  {
   "cell_type": "code",
   "execution_count": 130,
   "metadata": {},
   "outputs": [],
   "source": [
    "config = {\"configurable\": {\"thread_id\": \"2\"}}"
   ]
  },
  {
   "cell_type": "code",
   "execution_count": 133,
   "metadata": {},
   "outputs": [
    {
     "name": "stderr",
     "output_type": "stream",
     "text": [
      "No relevant docs were retrieved using the relevance score threshold 0.8\n"
     ]
    },
    {
     "name": "stdout",
     "output_type": "stream",
     "text": [
      "徐晃在魏阵营。"
     ]
    }
   ],
   "source": [
    "# input_message = \"诸葛亮的弟弟是谁？\"\n",
    "# input_message = \"司马懿有几个儿子？都叫什么名字？\"\n",
    "input_message = \"徐晃在哪个阵营？\"\n",
    "# input_message = \"西游记是谁写的？\"\n",
    "\n",
    "async for msg, metadata in graph.astream({\"messages\": [(\"user\", input_message)]}, \n",
    "                                         config=config,\n",
    "                                         stream_mode=\"messages\"):\n",
    "    if isinstance(msg, AIMessageChunk) and msg.content and not isinstance(msg, HumanMessage):\n",
    "        print(msg.content, end=\"\", flush=True)\n",
    "    # print(msg)"
   ]
  },
  {
   "cell_type": "code",
   "execution_count": 134,
   "metadata": {},
   "outputs": [
    {
     "data": {
      "text/plain": [
       "[HumanMessage(content='诸葛亮的弟弟是谁？', additional_kwargs={}, response_metadata={}, id='c0d0d406-b705-4fbf-b72e-867e987ecd40'),\n",
       " AIMessage(content='', additional_kwargs={'tool_calls': [{'index': 0, 'id': 'call_6eFESTnTbvLUxOr2vT5e57rD', 'function': {'arguments': '{\"query\":\"诸葛亮的弟弟是谁\"}', 'name': 'retrieve'}, 'type': 'function'}]}, response_metadata={'finish_reason': 'stop', 'model_name': 'gpt-4o-2024-11-20', 'system_fingerprint': 'fp_ec7eab8ec3'}, id='run-e7f4c969-a072-4fd6-aee3-d5d05ef51d33', tool_calls=[{'name': 'retrieve', 'args': {'query': '诸葛亮的弟弟是谁'}, 'id': 'call_6eFESTnTbvLUxOr2vT5e57rD', 'type': 'tool_call'}], usage_metadata={'input_tokens': 86, 'output_tokens': 11, 'total_tokens': 97, 'input_token_details': {'audio': 0, 'cache_read': 0}, 'output_token_details': {'audio': 0, 'reasoning': 0}}),\n",
       " ToolMessage(content='', name='retrieve', id='a9bf29e5-0690-4bd9-b1e9-f8c8f0a4c43e', tool_call_id='call_6eFESTnTbvLUxOr2vT5e57rD'),\n",
       " AIMessage(content='', additional_kwargs={'tool_calls': [{'index': 0, 'id': 'call_fTu6iVkVKlYiMNjOCzvPx2B0', 'function': {'arguments': '{\"query\":\"诸葛亮的弟弟是谁\"}', 'name': 'search'}, 'type': 'function'}]}, response_metadata={'finish_reason': 'stop', 'model_name': 'gpt-4o-2024-11-20', 'system_fingerprint': 'fp_ec7eab8ec3'}, id='run-7a23c5c4-6c79-451f-aab0-ef870f856514', tool_calls=[{'name': 'search', 'args': {'query': '诸葛亮的弟弟是谁'}, 'id': 'call_fTu6iVkVKlYiMNjOCzvPx2B0', 'type': 'tool_call'}], usage_metadata={'input_tokens': 112, 'output_tokens': 11, 'total_tokens': 123, 'input_token_details': {'audio': 0, 'cache_read': 0}, 'output_token_details': {'audio': 0, 'reasoning': 0}}),\n",
       " ToolMessage(content='Content: 诸葛亮他家兄弟姐妹一共4人：哥哥诸葛瑾，大诸葛亮7岁，弟弟诸葛均，大姐嫁于蒯祺，二姐嫁于庞山民。 诸葛亮于汉灵帝光和四年（181年）出生在琅琊郡阳都县的一个官吏之家，诸葛氏是琅琊的望族，先祖诸葛丰曾在西汉元帝时做过司隶校尉，诸葛亮的父亲诸葛珪在东汉末年做过泰山郡丞。\\n\\nContent: 诸葛三兄弟_百度百科 网页新闻贴吧知道网盘图片视频地图文库资讯采购百科 百度首页 登录 注册 进入词条全站搜索帮助 首页 秒懂百科 特色百科 知识专题 加入百科 百科团队 权威合作 个人中心 诸葛三兄弟 播报讨论上传视频 诸葛亮、诸葛瑾、诸葛诞 收藏 查看我的收藏 0有用+1 三国时期，诸葛氏中有三兄弟被史家称为“龙虎狗”。《太平御览·人事部·品藻中》记载：“诸葛瑾弟亮及从弟诞，并有盛名，各在一国。于时以为蜀得其龙，吴得其虎，魏得其狗。诞在魏，与夏侯玄齐名。瑾在吴，吴朝服其弘雅。” 这三兄弟分别是弟弟诸葛亮、哥哥诸葛瑾以及从弟诸葛诞。三人虽同出一氏，却分投三国：其中诸葛亮被刘备重用，为蜀汉丞相，是龙；诸葛瑾报效东吴，被孙权信任重用，为东吴大将军，是虎；诸葛诞投奔了曹丕，拜曹魏大将军，是狗。其中称诸葛诞为狗并非讽刺，狗意指“功狗”，为有功的战将。 中文名 诸葛三兄弟 人\\xa0\\xa0\\xa0\\xa0物 诸葛亮、诸葛瑾、诸葛诞 诸葛亮 蜀汉丞相 诸葛瑾 东吴大将军、豫州牧 诸葛诞 曹魏征东大将军 目录 1诸葛亮 ▪人物介绍 ▪履历 2诸葛瑾 ▪人物介绍 ▪履历 3诸葛诞 ▪人物介绍 ▪履历 诸葛亮 播报 编辑 人物介绍 诸葛亮 诸葛亮（公元181——公元234年），三国时期著名的政治家、军事家，字孔明，祖籍琅邪阳都（今山东沂南）。曾隐居于襄阳隆中（今襄阳县之西二十里），并读了大量的书籍，结交名士，品评时事，后称其为“卧龙”。207年，在徐庶推荐下，刘备“三顾茅庐”，请诸葛亮帮助自己，实现统一。诸葛亮为刘备提出了一个切实可行的计划，即著名的“隆中对策”，刘备的迅速崛起，都是与他的规劝和具体帮助分不开的。221年，刘备称帝，建立蜀汉政权，诸葛亮任丞相。223年，刘备死，刘禅即位，诸葛亮被加封为武乡侯，领益州牧，辅佐刘禅，治理蜀国，死后追谥忠武侯，后来东晋政权推崇诸葛亮军事才能，特追封他为武兴王。 履历 在执政初期，诸葛亮就主动派人到东吴会见孙权，蜀吴两国重新结盟，使蜀国得以全力对魏，而蜀吴两国始终保持着良好关系。在内政方面，诸葛亮首先从建立法治开始，科教严明，赏罚必信，无恶不惩，无善不显。他还注意选贤举能，不拘一格，任用一批有治国用兵之能的人才为官，做到了知人善用，对一些庸碌无能，贪污不法的官吏，则坚决罢掉。为了充实国力，安定人民生活，诸葛亮注意农业生产，“务农殖谷”，他还曾派1200名士兵去保护维修都江堰水利工程。在国家征发赋税徭役方面，他也主张“唯劝农业，无夺其时，唯薄赋敛，无尽民财。”对于手工业和商业的发展，也较重视，他设置司盐校尉，专门管理井盐生产，在各族人民的努力下，蜀国经济逐渐发展起来对西南少数民族，实行了“和抚”的方针，225年，他率军分几路南征，平定了南中的叛乱，对孟获七擒七纵，使其心悦诚服，从此蜀汉与少数民族的关系得到改善，这既免除了蜀国的后顾之忧，又促进了这一地区经济、文化的发展，加强了民族融合。在军事上，诸葛亮着重整顿军队纪律和训练部队，增强军队的战斗力，他发明制造了木牛流马，用此运送军粮，有利于山地运输，减轻了人力运输军粮的负担，他还改进了连弩箭，大大提高了旧式连弩的威力。在生活方面，比较俭朴、清廉，他不嗜享乐，取妻重才不重貌，虽身居相位，但家中“蓄财无余”，这在古代社会中是很可贵的。 诸葛亮为匡扶蜀汉政权，呕心沥血、鞠躬尽瘁、死而后已。其代表作有《前出师表》《后出师表》《诫子书》等。曾发明木牛流马等，并改造连弩，可一弩十矢俱发。于234年在宝鸡五丈原逝世。诸葛亮在后世受到极大的尊崇，成为后世忠臣楷模，智慧化身。 [1] 诸葛瑾 播报 编辑 人物介绍 诸葛瑾（174年－241年），字子瑜，祖籍琅琊阳都（今山东省沂南县）。东汉末年三国时期东吴重臣，官至大将军。诸葛瑾是蜀汉丞相诸葛亮的胞兄，其子诸葛恪也在东吴官至太傅。生于经学世家的诸葛瑾，治《毛诗》《尚书》及《左氏春秋》。 履历 诸葛瑾 诸葛瑾为避战乱迁到江东，经鲁肃推荐，为东吴效力，胸怀宽广，温厚诚信，深得孙权信赖。215年，诸葛瑾奉命出使，要刘备归还荆州。219年，他跟随孙权讨伐关羽。221年，他被派往蜀汉前去求和，在缓和蜀汉与东吴的关系上起到了很大的作用。建安二十五年（220年）吕蒙病逝，诸葛瑾代吕蒙领南郡太守，驻守公安。孙权称帝后，诸葛瑾官至大将军，领豫州牧。 建安五年（公元200年），由于孙权姊婿弘咨的推荐，诸葛瑾才正式成为孙权帐下的一员，从而迈上仕途。 215年，诸葛瑾奉命出使蜀汉，要求刘备归还荆州，最后以分界结束。219年，跟随讨伐关羽，封宣城侯、绥南将军，代吕蒙领南郡太守。黄初二年（221年），刘备东伐吴，吴王求和。诸葛瑾写信与刘备说和，有人以此上告孙权，权曰：“孤与子瑜有死生不易之誓，子瑜之不负孤，犹孤之不负子瑜也。” 222年，孙权受封吴王，封诸葛瑾左将军、督公安，假节，封宛陵侯。同年曹真、夏侯尚等围朱然于江陵，诸葛瑾派兵救援，渡江时被夏侯尚火烧船只，水陆同时进攻所击退。潘璋未知前来救援，而魏兵日渡不绝，并说：“魏势始盛，江水又浅，未可与战。”便将所领，到魏上流五十里，伐苇数百万束，缚作大筏，欲顺流放火，烧败浮桥。作筏适毕，伺水长当下，尚便引退。同年，孙权称王，封诸葛瑾为大将军、左都护，领豫州牧。 226年，孙权得知魏文帝去世后，于八月出兵攻，命吴左将军诸葛瑾部兵分两路进攻襄阳（今湖北襄阳），亲自率军进攻江夏郡（今湖北云梦西南）。孙权一路为魏军所败，遂撤兵而走。而诸葛瑾则被司马懿击败，并斩杀吴将张霸，斩首千余级。十二月，升任骠骑将军。236年，孙权北征，派右都督陆逊与中司马诸葛瑾攻襄阳。陆逊派亲戚韩扁怀揣奏疏上报朝廷，返回途中，在途中遇到敌人，敌人抓获了韩扁。 于是亲自来见陆逊。陆逊说：“敌人知道大驾已还，再不用为此筹谋，便专心对付我们。如今敌人已经守卫了要害之处，兵将已经出动，我们自己应当首先镇定自如以稳住部队，然后再巧施计谋，退出此地。如果今天就向敌人表明我们要走，敌人会以为我们害怕了，必然会来威逼我们，那就是必败之势了。”于是二人秘密定计，令诸葛瑾坐镇舟船，陆逊率领全部兵马向襄阳进发。敌人素来惧怕陆逊，见陆逊要攻襄阳，立即退回城中。诸葛瑾便引船而出，陆逊慢慢整顿好队伍，大张旗鼓地走上船。敌人不知究竟，反而不敢追击，于是陆逊全军安然退出。 241年四月，吴帝孙权分兵四路攻魏：卫将军全琮率军数万出淮南决芍陂（今安徽寿县南）之水，威北将军诸葛恪攻六安（今安徽六安东北），车骑将军朱然攻樊城（今湖北襄阳），大将军诸葛瑾攻祖中（今湖北南漳蛮河流域）。 五月，全琮入侵芍陂，朱然、孙伦围攻樊城，诸葛瑾、步骘侵掠柤中，司马懿自请出兵往讨。同年，诸葛瑾病故，死时六十八岁，死前命人葬礼应该简单进行。 诸葛诞 播报 编辑 人物介绍 诸葛诞（213～258）三国时期魏将，字公休，祖籍琅玡阳都（今山东沂南县），诸葛丰之后，诸葛亮和诸葛瑾的堂弟。初以尚书郎为荣阳令，累迁御史中丞尚书，是三国时曹魏后期的重要将领，官至征东大将军。与夏侯玄、邓飏、田畴友善，俱有声名，并称为四聪。 履历 诸葛诞 诸葛诞为汉代名医诸葛丰之后，正始初出任扬州刺史。从司马懿伐吴，平王凌之叛，随司马师讨毋丘俭，积功升至征东大将军、都督扬州。然诸葛诞与夏侯玄、邓飏交好，又见到王凌与毌丘俭叛乱而家族被诛，深感恐惧，于是倾尽家财来赈济百姓以收笼人心，又厚养归附者及扬州侠客几千人作为亲信力量。 甘露元年（256）冬天，东吴欲进攻徐堨（今安徽含山西南），诸葛诞力量足以应敌，但为保护自己，他请求朝廷派兵十万助守寿春，又要求加固沿淮的防御工事。朝廷暗中得知诸葛诞对朝廷心存戒惕，念其劳苦功高，便想调他入京任职，哪知诏书到，诸葛诞更加恐慌，遂举兵反叛。诸葛诞杀死不愿叛乱的扬州刺史乐綝，聚集淮南淮北十多万屯田官兵，又从东吴归降的农民挑出四五万人马，准备了可供一年的粮食闭城死守。另外，他还派长史吴纲率自己小儿子诸葛靓到东吴求援。东吴遂派全怿、全端、唐咨和王祚等人率兵三万，悄悄地与文钦一起接应诸葛诞，并任诸葛诞为左都护、大司徒、骠骑将军及青州刺史，封其为寿春侯。同年六月，司马昭与皇帝一起讨伐诸葛诞，进驻项县，将寿春城围了二层。文钦与吴将朱异多次进军，均被击败，朱异因此被主帅孙綝斩首。寿春城中粮少无援，蒋班与焦彝率先背叛诸葛诞向司马昭投降。甘露三年（258）正月，诸葛诞与文钦等人制造进攻器械，企图突围，但被司马昭打退。诸葛诞军粮用尽，又与文钦产生矛盾将其斩杀，致使文钦二子投降司马昭。司马昭利用文钦的两个儿子来劝降诸葛诞的人马，一时城中人心骚动。诸葛诞走投无路，亲自率兵出城突围，结果被魏将胡奋斩于马下，人头被送往京城，灭门三族。唐咨及王祚等人全部投降，诸葛诞之乱被司马昭平定。 新手上路 成长任务编辑入门编辑规则本人编辑 我有疑问 内容质疑在线客服官方贴吧意见反馈 投诉建议 举报不良信息未通过词条申诉投诉侵权信息封禁查询与解封 ©2025\\xa0Baidu\\xa0使用百度前必读\\xa0|\\xa0百科协议\\xa0|\\xa0隐私政策\\xa0|\\xa0百度百科合作平台\\xa0|\\xa0京ICP证030173号\\xa0 京公网安备11000002000001号', name='search', id='473a6626-c9b8-4f13-8e18-fa2943635b5b', tool_call_id='call_fTu6iVkVKlYiMNjOCzvPx2B0'),\n",
       " AIMessage(content='诸葛亮的弟弟是诸葛均。', additional_kwargs={}, response_metadata={'finish_reason': 'stop', 'model_name': 'deepseek-chat', 'system_fingerprint': 'fp_3a5770e1b4'}, id='run-0650f025-6cb1-426d-b082-6e15ac31006a', usage_metadata={'input_tokens': 2914, 'output_tokens': 7, 'total_tokens': 2921, 'input_token_details': {}, 'output_token_details': {}}),\n",
       " HumanMessage(content='司马懿有几个儿子？都叫什么名字？', additional_kwargs={}, response_metadata={}, id='66740d71-cf6a-4583-abc2-ea2268588db1'),\n",
       " AIMessage(content='', additional_kwargs={'tool_calls': [{'index': 0, 'id': 'call_yu4rKUFpYdIt0Uint2XK3QQW', 'function': {'arguments': '{\"query\":\"司马懿有几个儿子？都叫什么名字？\"}', 'name': 'retrieve'}, 'type': 'function'}]}, response_metadata={'finish_reason': 'stop', 'model_name': 'gpt-4o-2024-11-20', 'system_fingerprint': 'fp_ec7eab8ec3'}, id='run-7adeb234-7bac-45a5-ab01-25831781ce97', tool_calls=[{'name': 'retrieve', 'args': {'query': '司马懿有几个儿子？都叫什么名字？'}, 'id': 'call_yu4rKUFpYdIt0Uint2XK3QQW', 'type': 'tool_call'}], usage_metadata={'input_tokens': 3796, 'output_tokens': 17, 'total_tokens': 3813, 'input_token_details': {'audio': 0, 'cache_read': 0}, 'output_token_details': {'audio': 0, 'reasoning': 0}}),\n",
       " ToolMessage(content='Content: 不久，司马懿查出了曹爽造反篡位的罪证，便将曹爽兄弟三人和手下一千人全部杀了。魏王封司马懿为丞相，加九锡，父子三人同执掌国家大权。\\n\\nContent: 司马懿领兵平息了公孙渊的反兵，斩了公孙渊。\\n曹睿在许昌得了重病，便把后事托给了曹爽和司马懿，要他们同心辅助才八岁的太子曹芳。\\n曹睿不久便去世，曹芳当了皇帝。', name='retrieve', id='69d5465d-89e4-4e0b-b5ec-a4285d67186c', tool_call_id='call_yu4rKUFpYdIt0Uint2XK3QQW'),\n",
       " AIMessage(content='司马懿有两个儿子，分别是司马师和司马昭。', additional_kwargs={}, response_metadata={'finish_reason': 'stop', 'model_name': 'deepseek-chat', 'system_fingerprint': 'fp_3a5770e1b4'}, id='run-835333ac-8dda-44ec-85ed-1ae6df858556', usage_metadata={'input_tokens': 186, 'output_tokens': 12, 'total_tokens': 198, 'input_token_details': {}, 'output_token_details': {}}),\n",
       " HumanMessage(content='徐晃在哪个阵营？', additional_kwargs={}, response_metadata={}, id='6d9f41a7-f8d1-4cce-b4e6-606031d5f983'),\n",
       " AIMessage(content='', additional_kwargs={'tool_calls': [{'index': 0, 'id': 'call_GbOnrZFJigPHwzUuWBe5CSbr', 'function': {'arguments': '{\"query\":\"徐晃在哪个阵营\"}', 'name': 'retrieve'}, 'type': 'function'}]}, response_metadata={'finish_reason': 'stop', 'model_name': 'gpt-4o-2024-11-20', 'system_fingerprint': 'fp_ec7eab8ec3'}, id='run-2ce290e7-2827-4b34-a024-052dfc3d5cd9', tool_calls=[{'name': 'retrieve', 'args': {'query': '徐晃在哪个阵营'}, 'id': 'call_GbOnrZFJigPHwzUuWBe5CSbr', 'type': 'tool_call'}], usage_metadata={'input_tokens': 4010, 'output_tokens': 11, 'total_tokens': 4021, 'input_token_details': {'audio': 0, 'cache_read': 3712}, 'output_token_details': {'audio': 0, 'reasoning': 0}}),\n",
       " ToolMessage(content='', name='retrieve', id='844cc7e0-0296-4418-81f8-d4a71866f0fd', tool_call_id='call_GbOnrZFJigPHwzUuWBe5CSbr'),\n",
       " AIMessage(content='', additional_kwargs={'tool_calls': [{'index': 0, 'id': 'call_aBLLlyOFviKnVdY3AMzTbLK0', 'function': {'arguments': '{\"query\":\"徐晃 三国 阵营\"}', 'name': 'search'}, 'type': 'function'}]}, response_metadata={'finish_reason': 'stop', 'model_name': 'gpt-4o-2024-11-20', 'system_fingerprint': 'fp_ec7eab8ec3'}, id='run-fb619b59-1f36-4fd1-894c-a8db0dbca43e', tool_calls=[{'name': 'search', 'args': {'query': '徐晃 三国 阵营'}, 'id': 'call_aBLLlyOFviKnVdY3AMzTbLK0', 'type': 'tool_call'}], usage_metadata={'input_tokens': 4036, 'output_tokens': 11, 'total_tokens': 4047, 'input_token_details': {'audio': 0, 'cache_read': 3968}, 'output_token_details': {'audio': 0, 'reasoning': 0}}),\n",
       " ToolMessage(content='Content: 徐晃是《三国志·战略版》中魏阵营五星级6御武将，擅长统率和武力，适合带盾兵，战法\"长驱直入\"能提升伤害并降低全队伤害，推荐阵容曹操+徐晃+曹仁或徐晃+曹彰+郭淮，缘分\"五子良将\"提升速度和会心几率。\\n\\nContent: 大家好，本期奉孝，将为大家带来徐晃的武将介绍及其阵容搭配推荐。一、武将基础信息品质：橙 阵营：魏 兵种：盾兵徐晃的武力属性尤为突出，属于强攻输出型武将。自带战法能够对敌军施加\"技穷\"，还有机会造', name='search', id='9c678078-6c49-4830-87c5-fade80b7dd84', tool_call_id='call_aBLLlyOFviKnVdY3AMzTbLK0'),\n",
       " AIMessage(content='徐晃在魏阵营。', additional_kwargs={}, response_metadata={'finish_reason': 'stop', 'model_name': 'deepseek-chat', 'system_fingerprint': 'fp_3a5770e1b4'}, id='run-5ffed930-6832-4c30-b926-27869942d0a8', usage_metadata={'input_tokens': 246, 'output_tokens': 6, 'total_tokens': 252, 'input_token_details': {}, 'output_token_details': {}})]"
      ]
     },
     "execution_count": 134,
     "metadata": {},
     "output_type": "execute_result"
    }
   ],
   "source": [
    "graph.get_state(config=config).values[\"messages\"]"
   ]
  },
  {
   "cell_type": "code",
   "execution_count": null,
   "metadata": {},
   "outputs": [],
   "source": []
  }
 ],
 "metadata": {
  "kernelspec": {
   "display_name": "lclg",
   "language": "python",
   "name": "python3"
  },
  "language_info": {
   "codemirror_mode": {
    "name": "ipython",
    "version": 3
   },
   "file_extension": ".py",
   "mimetype": "text/x-python",
   "name": "python",
   "nbconvert_exporter": "python",
   "pygments_lexer": "ipython3",
   "version": "3.11.0"
  }
 },
 "nbformat": 4,
 "nbformat_minor": 2
}
