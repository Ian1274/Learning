{
 "cells": [
  {
   "cell_type": "code",
   "execution_count": 1,
   "metadata": {},
   "outputs": [
    {
     "name": "stderr",
     "output_type": "stream",
     "text": [
      "c:\\Users\\farben\\anaconda3\\envs\\lclg\\Lib\\site-packages\\tqdm\\auto.py:21: TqdmWarning: IProgress not found. Please update jupyter and ipywidgets. See https://ipywidgets.readthedocs.io/en/stable/user_install.html\n",
      "  from .autonotebook import tqdm as notebook_tqdm\n"
     ]
    }
   ],
   "source": [
    "import os\n",
    "from dotenv import load_dotenv\n",
    "from langchain_openai import ChatOpenAI\n",
    "from langchain_ollama import ChatOllama\n",
    "from langchain_huggingface import HuggingFaceEmbeddings  # HuggingFace嵌入\n",
    "\n",
    "load_dotenv(\"../.env\")\n",
    "\n",
    "model = ChatOpenAI(\n",
    "                    temperature=0,\n",
    "                    max_tokens=4096,\n",
    "                    presence_penalty=1.2,\n",
    "                    # model='deepseek-chat',\n",
    "                    # openai_api_key=os.getenv('DEEPSEEK_API_KEY'),\n",
    "                    # openai_api_base=\"https://api.deepseek.com/v1\",\n",
    "                    model='gpt-4o-mini',\n",
    "                    openai_api_key=os.getenv('CLOSEAI_API_KEY'),\n",
    "                    openai_api_base=\"https://api.openai-proxy.org/v1\",\n",
    "                )\n",
    "\n",
    "# model = ChatOllama(\n",
    "#                     temperature=0,\n",
    "#                     num_predict=4096,\n",
    "#                     repeat_penalty=1.2,\n",
    "#                     model=\"llama3.2:3b\"\n",
    "#                 )\n",
    "\n",
    "embedding = HuggingFaceEmbeddings(\n",
    "            model_name=\"../../../../Embedding/maidalun/bce-embedding-base_v1\",\n",
    "            model_kwargs={\"device\": \"cuda\",\n",
    "                          \"trust_remote_code\": True},\n",
    "            encode_kwargs={\"normalize_embeddings\": True},\n",
    "        )"
   ]
  },
  {
   "cell_type": "markdown",
   "metadata": {},
   "source": [
    "# Define and use the graph"
   ]
  },
  {
   "cell_type": "code",
   "execution_count": 2,
   "metadata": {},
   "outputs": [
    {
     "data": {
      "image/png": "[encoded data removed]",
      "text/plain": [
       "<langgraph.graph.state.CompiledStateGraph object at 0x000001FFC2739FD0>"
      ]
     },
     "execution_count": 2,
     "metadata": {},
     "output_type": "execute_result"
    }
   ],
   "source": [
    "from langgraph.graph import StateGraph, START, END\n",
    "from typing_extensions import TypedDict\n",
    "\n",
    "\n",
    "# The overall state of the graph (this is the public state shared across nodes)\n",
    "class OverallState(TypedDict):\n",
    "    a: str\n",
    "\n",
    "\n",
    "# Output from node_1 contains private data that is not part of the overall state\n",
    "class Node1Output(TypedDict):\n",
    "    private_data: str\n",
    "\n",
    "\n",
    "# The private data is only shared between node_1 and node_2\n",
    "def node_1(state: OverallState) -> Node1Output:\n",
    "    output = {\"private_data\": \"set by node_1\"}\n",
    "    print(f\"Entered node `node_1`:\\n\\tInput: {state}.\\n\\tReturned: {output}\")\n",
    "    return output\n",
    "\n",
    "\n",
    "# Node 2 input only requests the private data available after node_1\n",
    "class Node2Input(TypedDict):\n",
    "    private_data: str\n",
    "\n",
    "\n",
    "def node_2(state: Node2Input) -> OverallState:\n",
    "    output = {\"a\": \"set by node_2\"}\n",
    "    print(f\"Entered node `node_2`:\\n\\tInput: {state}.\\n\\tReturned: {output}\")\n",
    "    return output\n",
    "\n",
    "\n",
    "# Node 3 only has access to the overall state (no access to private data from node_1)\n",
    "def node_3(state: OverallState) -> OverallState:\n",
    "    output = {\"a\": \"set by node_3\"}\n",
    "    print(f\"Entered node `node_3`:\\n\\tInput: {state}.\\n\\tReturned: {output}\")\n",
    "    return output\n",
    "\n",
    "\n",
    "# Build the state graph\n",
    "builder = StateGraph(OverallState)\n",
    "builder.add_node(node_1)  # node_1 is the first node\n",
    "builder.add_node(\n",
    "    node_2\n",
    ")  # node_2 is the second node and accepts private data from node_1\n",
    "builder.add_node(node_3)  # node_3 is the third node and does not see the private data\n",
    "builder.add_edge(START, \"node_1\")  # Start the graph with node_1\n",
    "builder.add_edge(\"node_1\", \"node_2\")  # Pass from node_1 to node_2\n",
    "builder.add_edge(\n",
    "    \"node_2\", \"node_3\"\n",
    ")  # Pass from node_2 to node_3 (only overall state is shared)\n",
    "builder.add_edge(\"node_3\", END)  # End the graph after node_3\n",
    "graph = builder.compile()\n",
    "\n",
    "graph"
   ]
  },
  {
   "cell_type": "code",
   "execution_count": 3,
   "metadata": {},
   "outputs": [
    {
     "name": "stdout",
     "output_type": "stream",
     "text": [
      "Entered node `node_1`:\n",
      "\tInput: {'a': 'set at start'}.\n",
      "\tReturned: {'private_data': 'set by node_1'}\n",
      "Entered node `node_2`:\n",
      "\tInput: {'private_data': 'set by node_1'}.\n",
      "\tReturned: {'a': 'set by node_2'}\n",
      "Entered node `node_3`:\n",
      "\tInput: {'a': 'set by node_2'}.\n",
      "\tReturned: {'a': 'set by node_3'}\n",
      "\n",
      "Output of graph invocation: {'a': 'set by node_3'}\n"
     ]
    }
   ],
   "source": [
    "# Invoke the graph with the initial state\n",
    "response = graph.invoke(\n",
    "    {\n",
    "        \"a\": \"set at start\",\n",
    "    }\n",
    ")\n",
    "\n",
    "print()\n",
    "print(f\"Output of graph invocation: {response}\")"
   ]
  },
  {
   "cell_type": "code",
   "execution_count": null,
   "metadata": {},
   "outputs": [],
   "source": []
  }
 ],
 "metadata": {
  "kernelspec": {
   "display_name": "lclg",
   "language": "python",
   "name": "python3"
  },
  "language_info": {
   "codemirror_mode": {
    "name": "ipython",
    "version": 3
   },
   "file_extension": ".py",
   "mimetype": "text/x-python",
   "name": "python",
   "nbconvert_exporter": "python",
   "pygments_lexer": "ipython3",
   "version": "3.11.0"
  }
 },
 "nbformat": 4,
 "nbformat_minor": 2
}
