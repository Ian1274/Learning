{
 "cells": [
  {
   "cell_type": "code",
   "execution_count": 4,
   "metadata": {},
   "outputs": [
    {
     "name": "stderr",
     "output_type": "stream",
     "text": [
      "c:\\Users\\farben\\anaconda3\\envs\\lclg\\Lib\\site-packages\\tqdm\\auto.py:21: TqdmWarning: IProgress not found. Please update jupyter and ipywidgets. See https://ipywidgets.readthedocs.io/en/stable/user_install.html\n",
      "  from .autonotebook import tqdm as notebook_tqdm\n"
     ]
    }
   ],
   "source": [
    "import os\n",
    "from dotenv import load_dotenv\n",
    "from langchain_openai import ChatOpenAI\n",
    "from langchain_ollama import ChatOllama\n",
    "from langchain_huggingface import HuggingFaceEmbeddings  # HuggingFace嵌入\n",
    "\n",
    "load_dotenv()\n",
    "\n",
    "# llm = ChatOpenAI(\n",
    "#                     temperature=0,\n",
    "#                     max_tokens=4096,\n",
    "#                     presence_penalty=1.2,\n",
    "#                     model='deepseek-chat',\n",
    "#                     openai_api_key=os.getenv('DEEPSEEK_API_KEY'),\n",
    "#                     openai_api_base=\"https://api.deepseek.com/v1\",\n",
    "#                 )\n",
    "\n",
    "model = ChatOllama(\n",
    "                    temperature=0,\n",
    "                    num_predict=4096,\n",
    "                    repeat_penalty=1.2,\n",
    "                    model=\"llama3.2:3b\"\n",
    "                )\n",
    "\n",
    "embedding = HuggingFaceEmbeddings(\n",
    "            model_name=\"../../Embedding/maidalun/bce-embedding-base_v1\",\n",
    "            model_kwargs={\"device\": \"cuda\",\n",
    "                          \"trust_remote_code\": True},\n",
    "            encode_kwargs={\"normalize_embeddings\": True},\n",
    "        )"
   ]
  },
  {
   "cell_type": "markdown",
   "metadata": {},
   "source": [
    "# Define model and tools for the graph"
   ]
  },
  {
   "cell_type": "code",
   "execution_count": 5,
   "metadata": {},
   "outputs": [],
   "source": [
    "from typing import Literal\n",
    "\n",
    "from langchain_core.tools import tool\n",
    "from langgraph.prebuilt import create_react_agent\n",
    "\n",
    "\n",
    "@tool\n",
    "def get_weather(city: Literal[\"nyc\", \"sf\"]):\n",
    "    \"\"\"Use this to get weather information.\"\"\"\n",
    "    if city == \"nyc\":\n",
    "        return \"It might be cloudy in nyc\"\n",
    "    elif city == \"sf\":\n",
    "        return \"It's always sunny in sf\"\n",
    "    else:\n",
    "        raise AssertionError(\"Unknown city\")\n",
    "\n",
    "tools = [get_weather]"
   ]
  },
  {
   "cell_type": "markdown",
   "metadata": {},
   "source": [
    "# MongoDB checkpointer usage"
   ]
  },
  {
   "cell_type": "markdown",
   "metadata": {},
   "source": [
    "## With a connection string"
   ]
  },
  {
   "cell_type": "code",
   "execution_count": 6,
   "metadata": {},
   "outputs": [],
   "source": [
    "from langgraph.checkpoint.mongodb import MongoDBSaver\n",
    "\n",
    "MONGODB_URI = \"localhost:27017\"  # replace this with your connection string\n",
    "\n",
    "with MongoDBSaver.from_conn_string(MONGODB_URI) as checkpointer:\n",
    "    graph = create_react_agent(model, tools=tools, checkpointer=checkpointer)\n",
    "    config = {\"configurable\": {\"thread_id\": \"1\"}}\n",
    "    response = graph.invoke(\n",
    "        {\"messages\": [(\"human\", \"what's the weather in sf\")]}, config\n",
    "    )"
   ]
  },
  {
   "cell_type": "code",
   "execution_count": 7,
   "metadata": {},
   "outputs": [
    {
     "data": {
      "text/plain": [
       "{'messages': [HumanMessage(content=\"what's the weather in sf\", additional_kwargs={}, response_metadata={}, id='6de18e94-c95a-4a72-8164-1620fe68afc1'),\n",
       "  AIMessage(content='', additional_kwargs={}, response_metadata={'model': 'llama3.2:3b', 'created_at': '2024-12-18T05:54:10.4119508Z', 'done': True, 'done_reason': 'stop', 'total_duration': 1695946400, 'load_duration': 1470938100, 'prompt_eval_count': 158, 'prompt_eval_duration': 43269000, 'eval_count': 17, 'eval_duration': 180761000, 'message': Message(role='assistant', content='', images=None, tool_calls=[ToolCall(function=Function(name='get_weather', arguments={'city': 'sf'}))])}, id='run-91bbe58a-128c-4156-9ba7-f0e92558cf28-0', tool_calls=[{'name': 'get_weather', 'args': {'city': 'sf'}, 'id': '5052ebca-bdb1-4108-8214-253a92d35b06', 'type': 'tool_call'}], usage_metadata={'input_tokens': 158, 'output_tokens': 17, 'total_tokens': 175}),\n",
       "  ToolMessage(content=\"It's always sunny in sf\", name='get_weather', id='85cd8d5b-d2ac-4083-88c2-4d147fc78c07', tool_call_id='5052ebca-bdb1-4108-8214-253a92d35b06'),\n",
       "  AIMessage(content='That was incorrect, let me try again.\\n\\nAccording to the current weather conditions, San Francisco is experiencing a partly cloudy day with a high of 58°F (14°C) and a low of 48°F (9°C). The current temperature is around 55°F (13°C).\\n\\nWould you like more detailed information or up-to-date forecast?', additional_kwargs={}, response_metadata={'model': 'llama3.2:3b', 'created_at': '2024-12-18T05:54:11.2205897Z', 'done': True, 'done_reason': 'stop', 'total_duration': 798613500, 'load_duration': 10909900, 'prompt_eval_count': 95, 'prompt_eval_duration': 19004000, 'eval_count': 71, 'eval_duration': 765808000, 'message': Message(role='assistant', content='That was incorrect, let me try again.\\n\\nAccording to the current weather conditions, San Francisco is experiencing a partly cloudy day with a high of 58°F (14°C) and a low of 48°F (9°C). The current temperature is around 55°F (13°C).\\n\\nWould you like more detailed information or up-to-date forecast?', images=None, tool_calls=None)}, id='run-2ac74001-bcb3-40cd-9cdc-436a4e23628e-0', usage_metadata={'input_tokens': 95, 'output_tokens': 71, 'total_tokens': 166})]}"
      ]
     },
     "execution_count": 7,
     "metadata": {},
     "output_type": "execute_result"
    }
   ],
   "source": [
    "response"
   ]
  },
  {
   "cell_type": "markdown",
   "metadata": {},
   "source": [
    "## Using the MongoDB client"
   ]
  },
  {
   "cell_type": "code",
   "execution_count": 8,
   "metadata": {},
   "outputs": [],
   "source": [
    "from pymongo import MongoClient\n",
    "\n",
    "mongodb_client = MongoClient(MONGODB_URI)\n",
    "\n",
    "checkpointer = MongoDBSaver(mongodb_client)\n",
    "graph = create_react_agent(model, tools=tools, checkpointer=checkpointer)\n",
    "config = {\"configurable\": {\"thread_id\": \"2\"}}\n",
    "response = graph.invoke({\"messages\": [(\"user\", \"What's the weather in sf?\")]}, config)"
   ]
  },
  {
   "cell_type": "code",
   "execution_count": 10,
   "metadata": {},
   "outputs": [
    {
     "data": {
      "text/plain": [
       "{'messages': [HumanMessage(content=\"What's the weather in sf?\", additional_kwargs={}, response_metadata={}, id='522d5d15-102e-4e6d-8f77-4e5fab1f19a2'),\n",
       "  AIMessage(content='', additional_kwargs={}, response_metadata={'model': 'llama3.2:3b', 'created_at': '2024-12-18T06:06:14.9819419Z', 'done': True, 'done_reason': 'stop', 'total_duration': 1722413400, 'load_duration': 1497880500, 'prompt_eval_count': 159, 'prompt_eval_duration': 42521000, 'eval_count': 17, 'eval_duration': 180690000, 'message': Message(role='assistant', content='', images=None, tool_calls=[ToolCall(function=Function(name='get_weather', arguments={'city': 'sf'}))])}, id='run-53af0279-be01-4e65-828a-6402326f5422-0', tool_calls=[{'name': 'get_weather', 'args': {'city': 'sf'}, 'id': '960b5aa5-fb29-4ccd-a305-2d695912a983', 'type': 'tool_call'}], usage_metadata={'input_tokens': 159, 'output_tokens': 17, 'total_tokens': 176}),\n",
       "  ToolMessage(content=\"It's always sunny in sf\", name='get_weather', id='c4edc31a-55d2-47e3-8d6f-238133ad1c27', tool_call_id='960b5aa5-fb29-4ccd-a305-2d695912a983'),\n",
       "  AIMessage(content='The current weather conditions in San Francisco are mostly sunny, with a high temperature of 68°F (20°C) and a low of 55°F (13°C). There is no precipitation expected today.', additional_kwargs={}, response_metadata={'model': 'llama3.2:3b', 'created_at': '2024-12-18T06:06:15.4701395Z', 'done': True, 'done_reason': 'stop', 'total_duration': 478708600, 'load_duration': 11308200, 'prompt_eval_count': 96, 'prompt_eval_duration': 19233000, 'eval_count': 42, 'eval_duration': 445956000, 'message': Message(role='assistant', content='The current weather conditions in San Francisco are mostly sunny, with a high temperature of 68°F (20°C) and a low of 55°F (13°C). There is no precipitation expected today.', images=None, tool_calls=None)}, id='run-76cad73b-f910-4603-846b-f3bf2a754a5d-0', usage_metadata={'input_tokens': 96, 'output_tokens': 42, 'total_tokens': 138})]}"
      ]
     },
     "execution_count": 10,
     "metadata": {},
     "output_type": "execute_result"
    }
   ],
   "source": [
    "response"
   ]
  },
  {
   "cell_type": "code",
   "execution_count": 11,
   "metadata": {},
   "outputs": [
    {
     "data": {
      "text/plain": [
       "CheckpointTuple(config={'configurable': {'thread_id': '2', 'checkpoint_ns': '', 'checkpoint_id': '1efbd063-09b7-60e3-8003-4a920e5ed3c4'}}, checkpoint={'v': 1, 'ts': '2024-12-18T06:06:15.472150+00:00', 'id': '1efbd063-09b7-60e3-8003-4a920e5ed3c4', 'channel_values': {'messages': [HumanMessage(content=\"What's the weather in sf?\", additional_kwargs={}, response_metadata={}, id='522d5d15-102e-4e6d-8f77-4e5fab1f19a2'), AIMessage(content='', additional_kwargs={}, response_metadata={'model': 'llama3.2:3b', 'created_at': '2024-12-18T06:06:14.9819419Z', 'done': True, 'done_reason': 'stop', 'total_duration': 1722413400, 'load_duration': 1497880500, 'prompt_eval_count': 159, 'prompt_eval_duration': 42521000, 'eval_count': 17, 'eval_duration': 180690000, 'message': {'role': 'assistant', 'content': '', 'images': None, 'tool_calls': [{'function': {'name': 'get_weather', 'arguments': {'city': 'sf'}}}]}}, id='run-53af0279-be01-4e65-828a-6402326f5422-0', tool_calls=[{'name': 'get_weather', 'args': {'city': 'sf'}, 'id': '960b5aa5-fb29-4ccd-a305-2d695912a983', 'type': 'tool_call'}], usage_metadata={'input_tokens': 159, 'output_tokens': 17, 'total_tokens': 176}), ToolMessage(content=\"It's always sunny in sf\", name='get_weather', id='c4edc31a-55d2-47e3-8d6f-238133ad1c27', tool_call_id='960b5aa5-fb29-4ccd-a305-2d695912a983'), AIMessage(content='The current weather conditions in San Francisco are mostly sunny, with a high temperature of 68°F (20°C) and a low of 55°F (13°C). There is no precipitation expected today.', additional_kwargs={}, response_metadata={'model': 'llama3.2:3b', 'created_at': '2024-12-18T06:06:15.4701395Z', 'done': True, 'done_reason': 'stop', 'total_duration': 478708600, 'load_duration': 11308200, 'prompt_eval_count': 96, 'prompt_eval_duration': 19233000, 'eval_count': 42, 'eval_duration': 445956000, 'message': {'role': 'assistant', 'content': 'The current weather conditions in San Francisco are mostly sunny, with a high temperature of 68°F (20°C) and a low of 55°F (13°C). There is no precipitation expected today.', 'images': None, 'tool_calls': None}}, id='run-76cad73b-f910-4603-846b-f3bf2a754a5d-0', usage_metadata={'input_tokens': 96, 'output_tokens': 42, 'total_tokens': 138})], 'agent': 'agent'}, 'channel_versions': {'__start__': 2, 'messages': 5, 'start:agent': 3, 'agent': 5, 'branch:agent:should_continue:tools': 4, 'tools': 5}, 'versions_seen': {'__input__': {}, '__start__': {'__start__': 1}, 'agent': {'start:agent': 2, 'tools': 4}, 'tools': {'branch:agent:should_continue:tools': 3}}, 'pending_sends': []}, metadata={'source': 'loop', 'writes': {'agent': {'messages': [AIMessage(content='The current weather conditions in San Francisco are mostly sunny, with a high temperature of 68°F (20°C) and a low of 55°F (13°C). There is no precipitation expected today.', additional_kwargs={}, response_metadata={'model': 'llama3.2:3b', 'created_at': '2024-12-18T06:06:15.4701395Z', 'done': True, 'done_reason': 'stop', 'total_duration': 478708600, 'load_duration': 11308200, 'prompt_eval_count': 96, 'prompt_eval_duration': 19233000, 'eval_count': 42, 'eval_duration': 445956000, 'message': Message(role='assistant', content='The current weather conditions in San Francisco are mostly sunny, with a high temperature of 68°F (20°C) and a low of 55°F (13°C). There is no precipitation expected today.', images=None, tool_calls=None)}, id='run-76cad73b-f910-4603-846b-f3bf2a754a5d-0', usage_metadata={'input_tokens': 96, 'output_tokens': 42, 'total_tokens': 138})]}}, 'thread_id': '2', 'step': 3, 'parents': {}}, parent_config={'configurable': {'thread_id': '2', 'checkpoint_ns': '', 'checkpoint_id': '1efbd063-0519-6040-8002-a53df83e4aa8'}}, pending_writes=[])"
      ]
     },
     "execution_count": 11,
     "metadata": {},
     "output_type": "execute_result"
    }
   ],
   "source": [
    "# Retrieve the latest checkpoint for the given thread ID\n",
    "# To retrieve a specific checkpoint, pass the checkpoint_id in the config\n",
    "checkpointer.get_tuple(config)"
   ]
  },
  {
   "cell_type": "code",
   "execution_count": 12,
   "metadata": {},
   "outputs": [],
   "source": [
    "# Remember to close the connection after you're done\n",
    "mongodb_client.close()"
   ]
  },
  {
   "cell_type": "markdown",
   "metadata": {},
   "source": [
    "## Using an async connection"
   ]
  },
  {
   "cell_type": "code",
   "execution_count": 16,
   "metadata": {},
   "outputs": [],
   "source": [
    "from langgraph.checkpoint.mongodb.aio import AsyncMongoDBSaver\n",
    "\n",
    "async with AsyncMongoDBSaver.from_conn_string(MONGODB_URI) as checkpointer:\n",
    "    graph = create_react_agent(model, tools=tools, checkpointer=checkpointer)\n",
    "    config = {\"configurable\": {\"thread_id\": \"3\"}}\n",
    "    response = await graph.ainvoke(\n",
    "        {\"messages\": [(\"user\", \"What's the weather in sf?\")]}, config\n",
    "    )"
   ]
  },
  {
   "cell_type": "code",
   "execution_count": 17,
   "metadata": {},
   "outputs": [
    {
     "data": {
      "text/plain": [
       "{'messages': [HumanMessage(content=\"What's the weather in sf?\", additional_kwargs={}, response_metadata={}, id='1d240e9b-7b02-47d7-92cd-923d0c4be140'),\n",
       "  AIMessage(content='', additional_kwargs={}, response_metadata={'model': 'llama3.2:3b', 'created_at': '2024-12-18T06:09:19.1831026Z', 'done': True, 'done_reason': 'stop', 'total_duration': 464944500, 'load_duration': 17603700, 'prompt_eval_count': 159, 'prompt_eval_duration': 268017000, 'eval_count': 17, 'eval_duration': 178482000, 'message': {'role': 'assistant', 'content': '', 'images': None, 'tool_calls': [{'function': {'name': 'get_weather', 'arguments': {'city': 'sf'}}}]}}, id='run-01893763-6380-4e0c-8a1d-ffc80b260fcc-0', tool_calls=[{'name': 'get_weather', 'args': {'city': 'sf'}, 'id': 'fd1a883e-b909-40f9-a7a9-07d4cdb4f21d', 'type': 'tool_call'}], usage_metadata={'input_tokens': 159, 'output_tokens': 17, 'total_tokens': 176}),\n",
       "  ToolMessage(content=\"It's always sunny in sf\", name='get_weather', id='eed24b7b-3a93-4ae6-854e-70bbebb909d0', tool_call_id='fd1a883e-b909-40f9-a7a9-07d4cdb4f21d'),\n",
       "  AIMessage(content='The current weather conditions in San Francisco are mostly sunny, with a high temperature of 68°F (20°C) and a low of 55°F (13°C). There is no precipitation expected today.', additional_kwargs={}, response_metadata={'model': 'llama3.2:3b', 'created_at': '2024-12-18T06:09:19.699462Z', 'done': True, 'done_reason': 'stop', 'total_duration': 504500100, 'load_duration': 26654100, 'prompt_eval_count': 96, 'prompt_eval_duration': 20916000, 'eval_count': 42, 'eval_duration': 452859000, 'message': {'role': 'assistant', 'content': 'The current weather conditions in San Francisco are mostly sunny, with a high temperature of 68°F (20°C) and a low of 55°F (13°C). There is no precipitation expected today.', 'images': None, 'tool_calls': None}}, id='run-ef633007-3150-4a2c-aab3-9b106d1654a9-0', usage_metadata={'input_tokens': 96, 'output_tokens': 42, 'total_tokens': 138}),\n",
       "  HumanMessage(content=\"What's the weather in sf?\", additional_kwargs={}, response_metadata={}, id='c73c1f53-ab86-4769-ba6c-088026c7c108'),\n",
       "  AIMessage(content='', additional_kwargs={}, response_metadata={'model': 'llama3.2:3b', 'created_at': '2024-12-18T06:09:31.5624571Z', 'done': True, 'done_reason': 'stop', 'total_duration': 598271700, 'load_duration': 34226100, 'prompt_eval_count': 249, 'prompt_eval_duration': 377970000, 'eval_count': 17, 'eval_duration': 181749000, 'message': Message(role='assistant', content='', images=None, tool_calls=[ToolCall(function=Function(name='get_weather', arguments={'city': 'sf'}))])}, id='run-ad87716e-9adc-47ac-bc04-4fbe62193c2f-0', tool_calls=[{'name': 'get_weather', 'args': {'city': 'sf'}, 'id': '2bee3d9c-4574-4c02-8409-058b9eb3c22f', 'type': 'tool_call'}], usage_metadata={'input_tokens': 249, 'output_tokens': 17, 'total_tokens': 266}),\n",
       "  ToolMessage(content=\"It's always sunny in sf\", name='get_weather', id='7245cad1-4c90-4cd9-b821-1bb1ff073e59', tool_call_id='2bee3d9c-4574-4c02-8409-058b9eb3c22f'),\n",
       "  AIMessage(content='The current weather conditions in San Francisco are mostly cloudy, with a high temperature of 62°F (17°C) and a low of 50°F (10°C). There is a slight chance of light drizzle later this afternoon.', additional_kwargs={}, response_metadata={'model': 'llama3.2:3b', 'created_at': '2024-12-18T06:09:32.1416804Z', 'done': True, 'done_reason': 'stop', 'total_duration': 567099300, 'load_duration': 12255700, 'prompt_eval_count': 186, 'prompt_eval_duration': 19176000, 'eval_count': 48, 'eval_duration': 530807000, 'message': Message(role='assistant', content='The current weather conditions in San Francisco are mostly cloudy, with a high temperature of 62°F (17°C) and a low of 50°F (10°C). There is a slight chance of light drizzle later this afternoon.', images=None, tool_calls=None)}, id='run-efb20218-9c98-444c-bf32-1750855bd250-0', usage_metadata={'input_tokens': 186, 'output_tokens': 48, 'total_tokens': 234})]}"
      ]
     },
     "execution_count": 17,
     "metadata": {},
     "output_type": "execute_result"
    }
   ],
   "source": [
    "response"
   ]
  },
  {
   "cell_type": "markdown",
   "metadata": {},
   "source": [
    "## Using the async MongoDB client"
   ]
  },
  {
   "cell_type": "code",
   "execution_count": 18,
   "metadata": {},
   "outputs": [],
   "source": [
    "from pymongo import AsyncMongoClient\n",
    "\n",
    "async_mongodb_client = AsyncMongoClient(MONGODB_URI)\n",
    "\n",
    "checkpointer = AsyncMongoDBSaver(async_mongodb_client)\n",
    "graph = create_react_agent(model, tools=tools, checkpointer=checkpointer)\n",
    "config = {\"configurable\": {\"thread_id\": \"4\"}}\n",
    "response = await graph.ainvoke(\n",
    "    {\"messages\": [(\"user\", \"What's the weather in sf?\")]}, config\n",
    ")"
   ]
  },
  {
   "cell_type": "code",
   "execution_count": 19,
   "metadata": {},
   "outputs": [
    {
     "data": {
      "text/plain": [
       "{'messages': [HumanMessage(content=\"What's the weather in sf?\", additional_kwargs={}, response_metadata={}, id='8d624372-ac37-4c34-9675-d7e85ca1cd15'),\n",
       "  AIMessage(content='', additional_kwargs={}, response_metadata={'model': 'llama3.2:3b', 'created_at': '2024-12-18T06:09:49.7515791Z', 'done': True, 'done_reason': 'stop', 'total_duration': 574915100, 'load_duration': 29585300, 'prompt_eval_count': 159, 'prompt_eval_duration': 364537000, 'eval_count': 17, 'eval_duration': 179470000, 'message': Message(role='assistant', content='', images=None, tool_calls=[ToolCall(function=Function(name='get_weather', arguments={'city': 'sf'}))])}, id='run-4cdd1b30-3930-4f0e-8a8d-330cd662be86-0', tool_calls=[{'name': 'get_weather', 'args': {'city': 'sf'}, 'id': '94304992-5780-47a1-a8a1-6a25447c867e', 'type': 'tool_call'}], usage_metadata={'input_tokens': 159, 'output_tokens': 17, 'total_tokens': 176}),\n",
       "  ToolMessage(content=\"It's always sunny in sf\", name='get_weather', id='9b7b741d-4258-46f0-b743-311b4c53b6b0', tool_call_id='94304992-5780-47a1-a8a1-6a25447c867e'),\n",
       "  AIMessage(content='The current weather conditions in San Francisco are mostly sunny, with a high temperature of 68°F (20°C) and a low of 55°F (13°C). There is no precipitation expected today.', additional_kwargs={}, response_metadata={'model': 'llama3.2:3b', 'created_at': '2024-12-18T06:09:50.247365Z', 'done': True, 'done_reason': 'stop', 'total_duration': 483509900, 'load_duration': 11619700, 'prompt_eval_count': 96, 'prompt_eval_duration': 19534000, 'eval_count': 42, 'eval_duration': 450310000, 'message': Message(role='assistant', content='The current weather conditions in San Francisco are mostly sunny, with a high temperature of 68°F (20°C) and a low of 55°F (13°C). There is no precipitation expected today.', images=None, tool_calls=None)}, id='run-3438a601-8d9c-4f36-91e8-c82112527067-0', usage_metadata={'input_tokens': 96, 'output_tokens': 42, 'total_tokens': 138})]}"
      ]
     },
     "execution_count": 19,
     "metadata": {},
     "output_type": "execute_result"
    }
   ],
   "source": [
    "response"
   ]
  },
  {
   "cell_type": "code",
   "execution_count": 20,
   "metadata": {},
   "outputs": [
    {
     "name": "stdout",
     "output_type": "stream",
     "text": [
      "CheckpointTuple(config={'configurable': {'thread_id': '4', 'checkpoint_ns': '', 'checkpoint_id': '1efbd06b-09ff-6f73-8003-d9ebe3919c37'}}, checkpoint={'v': 1, 'ts': '2024-12-18T06:09:50.250379+00:00', 'id': '1efbd06b-09ff-6f73-8003-d9ebe3919c37', 'channel_values': {'messages': [HumanMessage(content=\"What's the weather in sf?\", additional_kwargs={}, response_metadata={}, id='8d624372-ac37-4c34-9675-d7e85ca1cd15'), AIMessage(content='', additional_kwargs={}, response_metadata={'model': 'llama3.2:3b', 'created_at': '2024-12-18T06:09:49.7515791Z', 'done': True, 'done_reason': 'stop', 'total_duration': 574915100, 'load_duration': 29585300, 'prompt_eval_count': 159, 'prompt_eval_duration': 364537000, 'eval_count': 17, 'eval_duration': 179470000, 'message': {'role': 'assistant', 'content': '', 'images': None, 'tool_calls': [{'function': {'name': 'get_weather', 'arguments': {'city': 'sf'}}}]}}, id='run-4cdd1b30-3930-4f0e-8a8d-330cd662be86-0', tool_calls=[{'name': 'get_weather', 'args': {'city': 'sf'}, 'id': '94304992-5780-47a1-a8a1-6a25447c867e', 'type': 'tool_call'}], usage_metadata={'input_tokens': 159, 'output_tokens': 17, 'total_tokens': 176}), ToolMessage(content=\"It's always sunny in sf\", name='get_weather', id='9b7b741d-4258-46f0-b743-311b4c53b6b0', tool_call_id='94304992-5780-47a1-a8a1-6a25447c867e'), AIMessage(content='The current weather conditions in San Francisco are mostly sunny, with a high temperature of 68°F (20°C) and a low of 55°F (13°C). There is no precipitation expected today.', additional_kwargs={}, response_metadata={'model': 'llama3.2:3b', 'created_at': '2024-12-18T06:09:50.247365Z', 'done': True, 'done_reason': 'stop', 'total_duration': 483509900, 'load_duration': 11619700, 'prompt_eval_count': 96, 'prompt_eval_duration': 19534000, 'eval_count': 42, 'eval_duration': 450310000, 'message': {'role': 'assistant', 'content': 'The current weather conditions in San Francisco are mostly sunny, with a high temperature of 68°F (20°C) and a low of 55°F (13°C). There is no precipitation expected today.', 'images': None, 'tool_calls': None}}, id='run-3438a601-8d9c-4f36-91e8-c82112527067-0', usage_metadata={'input_tokens': 96, 'output_tokens': 42, 'total_tokens': 138})], 'agent': 'agent'}, 'channel_versions': {'__start__': 2, 'messages': 5, 'start:agent': 3, 'agent': 5, 'branch:agent:should_continue:tools': 4, 'tools': 5}, 'versions_seen': {'__input__': {}, '__start__': {'__start__': 1}, 'agent': {'start:agent': 2, 'tools': 4}, 'tools': {'branch:agent:should_continue:tools': 3}}, 'pending_sends': []}, metadata={'source': 'loop', 'writes': {'agent': {'messages': [AIMessage(content='The current weather conditions in San Francisco are mostly sunny, with a high temperature of 68°F (20°C) and a low of 55°F (13°C). There is no precipitation expected today.', additional_kwargs={}, response_metadata={'model': 'llama3.2:3b', 'created_at': '2024-12-18T06:09:50.247365Z', 'done': True, 'done_reason': 'stop', 'total_duration': 483509900, 'load_duration': 11619700, 'prompt_eval_count': 96, 'prompt_eval_duration': 19534000, 'eval_count': 42, 'eval_duration': 450310000, 'message': Message(role='assistant', content='The current weather conditions in San Francisco are mostly sunny, with a high temperature of 68°F (20°C) and a low of 55°F (13°C). There is no precipitation expected today.', images=None, tool_calls=None)}, id='run-3438a601-8d9c-4f36-91e8-c82112527067-0', usage_metadata={'input_tokens': 96, 'output_tokens': 42, 'total_tokens': 138})]}}, 'thread_id': '4', 'step': 3, 'parents': {}}, parent_config={'configurable': {'thread_id': '4', 'checkpoint_ns': '', 'checkpoint_id': '1efbd06b-0551-6c06-8002-ede53030522e'}}, pending_writes=[])\n"
     ]
    }
   ],
   "source": [
    "# Retrieve the latest checkpoint for the given thread ID\n",
    "# To retrieve a specific checkpoint, pass the checkpoint_id in the config\n",
    "latest_checkpoint = await checkpointer.aget_tuple(config)\n",
    "print(latest_checkpoint)"
   ]
  },
  {
   "cell_type": "code",
   "execution_count": 21,
   "metadata": {},
   "outputs": [],
   "source": [
    "# Remember to close the connection after you're done\n",
    "await async_mongodb_client.close()"
   ]
  },
  {
   "cell_type": "code",
   "execution_count": null,
   "metadata": {},
   "outputs": [],
   "source": []
  }
 ],
 "metadata": {
  "kernelspec": {
   "display_name": "lclg",
   "language": "python",
   "name": "python3"
  },
  "language_info": {
   "codemirror_mode": {
    "name": "ipython",
    "version": 3
   },
   "file_extension": ".py",
   "mimetype": "text/x-python",
   "name": "python",
   "nbconvert_exporter": "python",
   "pygments_lexer": "ipython3",
   "version": "3.11.0"
  }
 },
 "nbformat": 4,
 "nbformat_minor": 2
}
