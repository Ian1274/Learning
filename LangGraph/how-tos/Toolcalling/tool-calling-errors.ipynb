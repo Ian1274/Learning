{
 "cells": [
  {
   "cell_type": "code",
   "execution_count": 1,
   "metadata": {},
   "outputs": [
    {
     "name": "stderr",
     "output_type": "stream",
     "text": [
      "c:\\Users\\farben\\anaconda3\\envs\\lclg\\Lib\\site-packages\\tqdm\\auto.py:21: TqdmWarning: IProgress not found. Please update jupyter and ipywidgets. See https://ipywidgets.readthedocs.io/en/stable/user_install.html\n",
      "  from .autonotebook import tqdm as notebook_tqdm\n"
     ]
    }
   ],
   "source": [
    "import os\n",
    "from dotenv import load_dotenv\n",
    "from langchain_openai import ChatOpenAI\n",
    "from langchain_ollama import ChatOllama\n",
    "from langchain_huggingface import HuggingFaceEmbeddings  # HuggingFace嵌入\n",
    "\n",
    "load_dotenv(\"../.env\")\n",
    "\n",
    "model = ChatOpenAI(\n",
    "                    temperature=0,\n",
    "                    max_tokens=4096,\n",
    "                    presence_penalty=1.2,\n",
    "                    # model='deepseek-chat',\n",
    "                    # openai_api_key=os.getenv('DEEPSEEK_API_KEY'),\n",
    "                    # openai_api_base=\"https://api.deepseek.com/v1\",\n",
    "                    model='gpt-4o-mini',\n",
    "                    openai_api_key=os.getenv('CLOSEAI_API_KEY'),\n",
    "                    openai_api_base=\"https://api.openai-proxy.org/v1\",\n",
    "                )\n",
    "\n",
    "# model = ChatOllama(\n",
    "#                     temperature=0,\n",
    "#                     num_predict=4096,\n",
    "#                     repeat_penalty=1.2,\n",
    "#                     model=\"llama3.2:3b\"\n",
    "#                 )\n",
    "\n",
    "embedding = HuggingFaceEmbeddings(\n",
    "            model_name=\"../../../../Embedding/maidalun/bce-embedding-base_v1\",\n",
    "            model_kwargs={\"device\": \"cuda\",\n",
    "                          \"trust_remote_code\": True},\n",
    "            encode_kwargs={\"normalize_embeddings\": True},\n",
    "        )"
   ]
  },
  {
   "cell_type": "markdown",
   "metadata": {},
   "source": [
    "# Using the prebuilt ToolNode"
   ]
  },
  {
   "cell_type": "code",
   "execution_count": 2,
   "metadata": {},
   "outputs": [],
   "source": [
    "from langchain_core.tools import tool\n",
    "\n",
    "\n",
    "@tool\n",
    "def get_weather(location: str):\n",
    "    \"\"\"Call to get the current weather.\"\"\"\n",
    "    if location == \"san francisco\":\n",
    "        raise ValueError(\"Input queries must be proper nouns\")\n",
    "    elif location == \"San Francisco\":\n",
    "        return \"It's 60 degrees and foggy.\"\n",
    "    else:\n",
    "        raise ValueError(\"Invalid input.\")"
   ]
  },
  {
   "cell_type": "code",
   "execution_count": 3,
   "metadata": {},
   "outputs": [
    {
     "data": {
      "image/png": "[encoded data removed]",
      "text/plain": [
       "<langgraph.graph.state.CompiledStateGraph object at 0x000001EE1ED45E10>"
      ]
     },
     "execution_count": 3,
     "metadata": {},
     "output_type": "execute_result"
    }
   ],
   "source": [
    "from typing import Literal\n",
    "\n",
    "from langgraph.graph import StateGraph, MessagesState, START, END\n",
    "from langgraph.prebuilt import ToolNode\n",
    "\n",
    "tool_node = ToolNode([get_weather])\n",
    "\n",
    "model_with_tools = model.bind_tools([get_weather])\n",
    "\n",
    "\n",
    "def should_continue(state: MessagesState):\n",
    "    messages = state[\"messages\"]\n",
    "    last_message = messages[-1]\n",
    "    if last_message.tool_calls:\n",
    "        return \"tools\"\n",
    "    return END\n",
    "\n",
    "\n",
    "def call_model(state: MessagesState):\n",
    "    messages = state[\"messages\"]\n",
    "    response = model_with_tools.invoke(messages)\n",
    "    return {\"messages\": [response]}\n",
    "\n",
    "\n",
    "workflow = StateGraph(MessagesState)\n",
    "\n",
    "# Define the two nodes we will cycle between\n",
    "workflow.add_node(\"agent\", call_model)\n",
    "workflow.add_node(\"tools\", tool_node)\n",
    "\n",
    "workflow.add_edge(START, \"agent\")\n",
    "workflow.add_conditional_edges(\"agent\", should_continue, [\"tools\", END])\n",
    "workflow.add_edge(\"tools\", \"agent\")\n",
    "\n",
    "app = workflow.compile()\n",
    "\n",
    "app"
   ]
  },
  {
   "cell_type": "code",
   "execution_count": 4,
   "metadata": {},
   "outputs": [
    {
     "name": "stdout",
     "output_type": "stream",
     "text": [
      "HUMAN: what is the weather in san francisco?\n",
      "\n",
      "AI: \n",
      "\n",
      "TOOL: It's 60 degrees and foggy.\n",
      "\n",
      "AI: The weather in San Francisco is currently 60 degrees and foggy.\n",
      "\n"
     ]
    }
   ],
   "source": [
    "response = app.invoke(\n",
    "    {\"messages\": [(\"human\", \"what is the weather in san francisco?\")]},\n",
    ")\n",
    "\n",
    "for message in response[\"messages\"]:\n",
    "    string_representation = f\"{message.type.upper()}: {message.content}\\n\"\n",
    "    print(string_representation)"
   ]
  },
  {
   "cell_type": "markdown",
   "metadata": {},
   "source": [
    "# Custom strategies"
   ]
  },
  {
   "cell_type": "code",
   "execution_count": 6,
   "metadata": {},
   "outputs": [
    {
     "data": {
      "image/png": "[encoded data removed]",
      "text/plain": [
       "<langgraph.graph.state.CompiledStateGraph object at 0x000001EE8003EFD0>"
      ]
     },
     "execution_count": 6,
     "metadata": {},
     "output_type": "execute_result"
    }
   ],
   "source": [
    "from langchain_core.output_parsers import StrOutputParser\n",
    "from pydantic import BaseModel, Field\n",
    "\n",
    "\n",
    "class HaikuRequest(BaseModel):\n",
    "    topic: list[str] = Field(\n",
    "        max_length=3,\n",
    "        min_length=3,\n",
    "    )\n",
    "\n",
    "\n",
    "@tool\n",
    "def master_haiku_generator(request: HaikuRequest):\n",
    "    \"\"\"Generates a haiku based on the provided topics.\"\"\"\n",
    "    chain = model | StrOutputParser()\n",
    "    topics = \", \".join(request.topic)\n",
    "    haiku = chain.invoke(f\"Write a haiku about {topics}\")\n",
    "    return haiku\n",
    "\n",
    "\n",
    "tool_node = ToolNode([master_haiku_generator])\n",
    "\n",
    "model_with_tools = model.bind_tools([master_haiku_generator])\n",
    "\n",
    "\n",
    "def should_continue(state: MessagesState):\n",
    "    messages = state[\"messages\"]\n",
    "    last_message = messages[-1]\n",
    "    if last_message.tool_calls:\n",
    "        return \"tools\"\n",
    "    return END\n",
    "\n",
    "\n",
    "def call_model(state: MessagesState):\n",
    "    messages = state[\"messages\"]\n",
    "    response = model_with_tools.invoke(messages)\n",
    "    return {\"messages\": [response]}\n",
    "\n",
    "\n",
    "workflow = StateGraph(MessagesState)\n",
    "\n",
    "# Define the two nodes we will cycle between\n",
    "workflow.add_node(\"agent\", call_model)\n",
    "workflow.add_node(\"tools\", tool_node)\n",
    "\n",
    "workflow.add_edge(START, \"agent\")\n",
    "workflow.add_conditional_edges(\"agent\", should_continue, [\"tools\", END])\n",
    "workflow.add_edge(\"tools\", \"agent\")\n",
    "\n",
    "app = workflow.compile()\n",
    "\n",
    "app\n",
    "\n"
   ]
  },
  {
   "cell_type": "code",
   "execution_count": 7,
   "metadata": {},
   "outputs": [
    {
     "name": "stdout",
     "output_type": "stream",
     "text": [
      "HUMAN: Write me an incredible haiku about water.\n",
      "\n",
      "AI: \n",
      "\n",
      "TOOL: Gentle streams whisper,  \n",
      "Nature's breath in liquid dance,  \n",
      "Life flows, pure and free.\n",
      "\n",
      "AI: Here’s an incredible haiku about water:\n",
      "\n",
      "Gentle streams whisper,  \n",
      "Nature's breath in liquid dance,  \n",
      "Life flows, pure and free.\n",
      "\n"
     ]
    }
   ],
   "source": [
    "response = app.invoke(\n",
    "    {\"messages\": [(\"human\", \"Write me an incredible haiku about water.\")]},\n",
    "    {\"recursion_limit\": 10},\n",
    ")\n",
    "\n",
    "for message in response[\"messages\"]:\n",
    "    string_representation = f\"{message.type.upper()}: {message.content}\\n\"\n",
    "    print(string_representation)"
   ]
  },
  {
   "cell_type": "code",
   "execution_count": 8,
   "metadata": {},
   "outputs": [
    {
     "data": {
      "image/png": "[encoded data removed]",
      "text/plain": [
       "<langgraph.graph.state.CompiledStateGraph object at 0x000001EE809C9590>"
      ]
     },
     "execution_count": 8,
     "metadata": {},
     "output_type": "execute_result"
    }
   ],
   "source": [
    "import json\n",
    "\n",
    "from langchain_core.messages import AIMessage, ToolMessage\n",
    "from langchain_core.messages.modifier import RemoveMessage\n",
    "\n",
    "\n",
    "@tool\n",
    "def master_haiku_generator(request: HaikuRequest):\n",
    "    \"\"\"Generates a haiku based on the provided topics.\"\"\"\n",
    "    chain = model | StrOutputParser()\n",
    "    topics = \", \".join(request.topic)\n",
    "    haiku = chain.invoke(f\"Write a haiku about {topics}\")\n",
    "    return haiku\n",
    "\n",
    "\n",
    "def call_tool(state: MessagesState):\n",
    "    tools_by_name = {master_haiku_generator.name: master_haiku_generator}\n",
    "    messages = state[\"messages\"]\n",
    "    last_message = messages[-1]\n",
    "    output_messages = []\n",
    "    for tool_call in last_message.tool_calls:\n",
    "        try:\n",
    "            tool_result = tools_by_name[tool_call[\"name\"]].invoke(tool_call[\"args\"])\n",
    "            output_messages.append(\n",
    "                ToolMessage(\n",
    "                    content=json.dumps(tool_result),\n",
    "                    name=tool_call[\"name\"],\n",
    "                    tool_call_id=tool_call[\"id\"],\n",
    "                )\n",
    "            )\n",
    "        except Exception as e:\n",
    "            # Return the error if the tool call fails\n",
    "            output_messages.append(\n",
    "                ToolMessage(\n",
    "                    content=\"\",\n",
    "                    name=tool_call[\"name\"],\n",
    "                    tool_call_id=tool_call[\"id\"],\n",
    "                    additional_kwargs={\"error\": e},\n",
    "                )\n",
    "            )\n",
    "    return {\"messages\": output_messages}\n",
    "\n",
    "\n",
    "model_with_tools = model.bind_tools([master_haiku_generator])\n",
    "\n",
    "better_model = model = ChatOpenAI(\n",
    "                    temperature=0,\n",
    "                    max_tokens=4096,\n",
    "                    presence_penalty=1.2,\n",
    "                    model='deepseek-chat',\n",
    "                    openai_api_key=os.getenv('DEEPSEEK_API_KEY'),\n",
    "                    openai_api_base=\"https://api.deepseek.com/v1\",\n",
    "                    # model='gpt-4o-mini',\n",
    "                    # openai_api_key=os.getenv('CLOSEAI_API_KEY'),\n",
    "                    # openai_api_base=\"https://api.openai-proxy.org/v1\",\n",
    "                )\n",
    "better_model_with_tools = better_model.bind_tools([master_haiku_generator])\n",
    "\n",
    "\n",
    "def should_continue(state: MessagesState):\n",
    "    messages = state[\"messages\"]\n",
    "    last_message = messages[-1]\n",
    "    if last_message.tool_calls:\n",
    "        return \"tools\"\n",
    "    return END\n",
    "\n",
    "\n",
    "def should_fallback(\n",
    "    state: MessagesState,\n",
    ") -> Literal[\"agent\", \"remove_failed_tool_call_attempt\"]:\n",
    "    messages = state[\"messages\"]\n",
    "    failed_tool_messages = [\n",
    "        msg\n",
    "        for msg in messages\n",
    "        if isinstance(msg, ToolMessage)\n",
    "        and msg.additional_kwargs.get(\"error\") is not None\n",
    "    ]\n",
    "    if failed_tool_messages:\n",
    "        return \"remove_failed_tool_call_attempt\"\n",
    "    return \"agent\"\n",
    "\n",
    "\n",
    "def call_model(state: MessagesState):\n",
    "    messages = state[\"messages\"]\n",
    "    response = model_with_tools.invoke(messages)\n",
    "    return {\"messages\": [response]}\n",
    "\n",
    "\n",
    "def remove_failed_tool_call_attempt(state: MessagesState):\n",
    "    messages = state[\"messages\"]\n",
    "    # Remove all messages from the most recent\n",
    "    # instance of AIMessage onwards.\n",
    "    last_ai_message_index = next(\n",
    "        i\n",
    "        for i, msg in reversed(list(enumerate(messages)))\n",
    "        if isinstance(msg, AIMessage)\n",
    "    )\n",
    "    messages_to_remove = messages[last_ai_message_index:]\n",
    "    return {\"messages\": [RemoveMessage(id=m.id) for m in messages_to_remove]}\n",
    "\n",
    "\n",
    "# Fallback to a better model if a tool call fails\n",
    "def call_fallback_model(state: MessagesState):\n",
    "    messages = state[\"messages\"]\n",
    "    response = better_model_with_tools.invoke(messages)\n",
    "    return {\"messages\": [response]}\n",
    "\n",
    "\n",
    "workflow = StateGraph(MessagesState)\n",
    "\n",
    "workflow.add_node(\"agent\", call_model)\n",
    "workflow.add_node(\"tools\", call_tool)\n",
    "workflow.add_node(\"remove_failed_tool_call_attempt\", remove_failed_tool_call_attempt)\n",
    "workflow.add_node(\"fallback_agent\", call_fallback_model)\n",
    "\n",
    "workflow.add_edge(START, \"agent\")\n",
    "workflow.add_conditional_edges(\"agent\", should_continue, [\"tools\", END])\n",
    "workflow.add_conditional_edges(\"tools\", should_fallback)\n",
    "workflow.add_edge(\"remove_failed_tool_call_attempt\", \"fallback_agent\")\n",
    "workflow.add_edge(\"fallback_agent\", \"tools\")\n",
    "\n",
    "app = workflow.compile()\n",
    "\n",
    "app"
   ]
  },
  {
   "cell_type": "code",
   "execution_count": 10,
   "metadata": {},
   "outputs": [
    {
     "name": "stderr",
     "output_type": "stream",
     "text": [
      "Failed to use model_dump to serialize <class 'langchain_core.messages.tool.ToolMessage'> to JSON: PydanticSerializationError(Unable to serialize unknown type: <class 'NameError'>)\n",
      "Failed to use model_dump to serialize <class 'langchain_core.messages.tool.ToolMessage'> to JSON: PydanticSerializationError(Unable to serialize unknown type: <class 'NameError'>)\n",
      "Failed to use model_dump to serialize <class 'langchain_core.messages.tool.ToolMessage'> to JSON: PydanticSerializationError(Unable to serialize unknown type: <class 'NameError'>)\n",
      "Failed to use model_dump to serialize <class 'langchain_core.messages.tool.ToolMessage'> to JSON: PydanticSerializationError(Unable to serialize unknown type: <class 'NameError'>)\n",
      "Failed to use model_dump to serialize <class 'langchain_core.messages.tool.ToolMessage'> to JSON: PydanticSerializationError(Unable to serialize unknown type: <class 'NameError'>)\n",
      "Failed to use model_dump to serialize <class 'langchain_core.messages.tool.ToolMessage'> to JSON: PydanticSerializationError(Unable to serialize unknown type: <class 'NameError'>)\n",
      "Failed to use model_dump to serialize <class 'langchain_core.messages.tool.ToolMessage'> to JSON: PydanticSerializationError(Unable to serialize unknown type: <class 'NameError'>)\n",
      "Failed to use model_dump to serialize <class 'langchain_core.messages.tool.ToolMessage'> to JSON: PydanticSerializationError(Unable to serialize unknown type: <class 'NameError'>)\n"
     ]
    },
    {
     "name": "stdout",
     "output_type": "stream",
     "text": [
      "{'agent': {'messages': [AIMessage(content='', additional_kwargs={'tool_calls': [{'id': 'call_zVuXm3SyYHUaXPbD3ki9zgM5', 'function': {'arguments': '{\"request\":{\"topic\":[\"water\",\"nature\",\"flow\"]}}', 'name': 'master_haiku_generator'}, 'type': 'function'}], 'refusal': None}, response_metadata={'token_usage': {'completion_tokens': 25, 'prompt_tokens': 77, 'total_tokens': 102, 'completion_tokens_details': {'accepted_prediction_tokens': 0, 'audio_tokens': 0, 'reasoning_tokens': 0, 'rejected_prediction_tokens': 0}, 'prompt_tokens_details': {'audio_tokens': 0, 'cached_tokens': 0}}, 'model_name': 'gpt-4o-mini-2024-07-18', 'system_fingerprint': 'fp_d02d531b47', 'finish_reason': 'tool_calls', 'logprobs': None}, id='run-3dac7959-d923-497b-820b-11123ca3e3cf-0', tool_calls=[{'name': 'master_haiku_generator', 'args': {'request': {'topic': ['water', 'nature', 'flow']}}, 'id': 'call_zVuXm3SyYHUaXPbD3ki9zgM5', 'type': 'tool_call'}], usage_metadata={'input_tokens': 77, 'output_tokens': 25, 'total_tokens': 102, 'input_token_details': {'audio': 0, 'cache_read': 0}, 'output_token_details': {'audio': 0, 'reasoning': 0}})]}}\n",
      "{'tools': {'messages': [ToolMessage(content='', name='master_haiku_generator', id='428dab2d-eb5c-4be6-9ec9-0a3a373d1493', tool_call_id='call_zVuXm3SyYHUaXPbD3ki9zgM5')]}}\n",
      "{'remove_failed_tool_call_attempt': {'messages': [RemoveMessage(content='', additional_kwargs={}, response_metadata={}, id='run-3dac7959-d923-497b-820b-11123ca3e3cf-0'), RemoveMessage(content='', additional_kwargs={}, response_metadata={}, id='428dab2d-eb5c-4be6-9ec9-0a3a373d1493')]}}\n"
     ]
    },
    {
     "name": "stderr",
     "output_type": "stream",
     "text": [
      "Failed to use model_dump to serialize <class 'langchain_core.messages.tool.ToolMessage'> to JSON: PydanticSerializationError(Unable to serialize unknown type: <class 'NameError'>)\n",
      "Failed to use model_dump to serialize <class 'langchain_core.messages.tool.ToolMessage'> to JSON: PydanticSerializationError(Unable to serialize unknown type: <class 'NameError'>)\n",
      "Failed to use model_dump to serialize <class 'langchain_core.messages.tool.ToolMessage'> to JSON: PydanticSerializationError(Unable to serialize unknown type: <class 'NameError'>)\n",
      "Failed to use model_dump to serialize <class 'langchain_core.messages.tool.ToolMessage'> to JSON: PydanticSerializationError(Unable to serialize unknown type: <class 'NameError'>)\n",
      "Failed to use model_dump to serialize <class 'langchain_core.messages.tool.ToolMessage'> to JSON: PydanticSerializationError(Unable to serialize unknown type: <class 'NameError'>)\n",
      "Failed to use model_dump to serialize <class 'langchain_core.messages.tool.ToolMessage'> to JSON: PydanticSerializationError(Unable to serialize unknown type: <class 'NameError'>)\n",
      "Failed to use model_dump to serialize <class 'langchain_core.messages.tool.ToolMessage'> to JSON: PydanticSerializationError(Unable to serialize unknown type: <class 'NameError'>)\n",
      "Failed to use model_dump to serialize <class 'langchain_core.messages.tool.ToolMessage'> to JSON: PydanticSerializationError(Unable to serialize unknown type: <class 'NameError'>)\n"
     ]
    },
    {
     "name": "stdout",
     "output_type": "stream",
     "text": [
      "{'fallback_agent': {'messages': [AIMessage(content='', additional_kwargs={'tool_calls': [{'id': 'call_0_e935cf10-a393-4ef9-9bb4-0ab2cfd8ec51', 'function': {'arguments': '{\"request\":{\"topic\":[\"water\",\"nature\",\"flow\"]}}', 'name': 'master_haiku_generator'}, 'type': 'function', 'index': 0}], 'refusal': None}, response_metadata={'token_usage': {'completion_tokens': 30, 'prompt_tokens': 183, 'total_tokens': 213, 'completion_tokens_details': None, 'prompt_tokens_details': None, 'prompt_cache_hit_tokens': 0, 'prompt_cache_miss_tokens': 183}, 'model_name': 'deepseek-chat', 'system_fingerprint': 'fp_f1afce2943', 'finish_reason': 'tool_calls', 'logprobs': None}, id='run-69b0057b-5959-4c1b-8969-8dfc4848b03d-0', tool_calls=[{'name': 'master_haiku_generator', 'args': {'request': {'topic': ['water', 'nature', 'flow']}}, 'id': 'call_0_e935cf10-a393-4ef9-9bb4-0ab2cfd8ec51', 'type': 'tool_call'}], usage_metadata={'input_tokens': 183, 'output_tokens': 30, 'total_tokens': 213, 'input_token_details': {}, 'output_token_details': {}})]}}\n",
      "{'tools': {'messages': [ToolMessage(content='', name='master_haiku_generator', id='867c1101-624f-44bc-b000-14b2e48d37ac', tool_call_id='call_0_e935cf10-a393-4ef9-9bb4-0ab2cfd8ec51')]}}\n",
      "{'remove_failed_tool_call_attempt': {'messages': [RemoveMessage(content='', additional_kwargs={}, response_metadata={}, id='run-69b0057b-5959-4c1b-8969-8dfc4848b03d-0'), RemoveMessage(content='', additional_kwargs={}, response_metadata={}, id='867c1101-624f-44bc-b000-14b2e48d37ac')]}}\n"
     ]
    },
    {
     "name": "stderr",
     "output_type": "stream",
     "text": [
      "Failed to use model_dump to serialize <class 'langchain_core.messages.tool.ToolMessage'> to JSON: PydanticSerializationError(Unable to serialize unknown type: <class 'NameError'>)\n",
      "Failed to use model_dump to serialize <class 'langchain_core.messages.tool.ToolMessage'> to JSON: PydanticSerializationError(Unable to serialize unknown type: <class 'NameError'>)\n",
      "Failed to use model_dump to serialize <class 'langchain_core.messages.tool.ToolMessage'> to JSON: PydanticSerializationError(Unable to serialize unknown type: <class 'NameError'>)\n",
      "Failed to use model_dump to serialize <class 'langchain_core.messages.tool.ToolMessage'> to JSON: PydanticSerializationError(Unable to serialize unknown type: <class 'NameError'>)\n",
      "Failed to use model_dump to serialize <class 'langchain_core.messages.tool.ToolMessage'> to JSON: PydanticSerializationError(Unable to serialize unknown type: <class 'NameError'>)\n",
      "Failed to use model_dump to serialize <class 'langchain_core.messages.tool.ToolMessage'> to JSON: PydanticSerializationError(Unable to serialize unknown type: <class 'NameError'>)\n",
      "Failed to use model_dump to serialize <class 'langchain_core.messages.tool.ToolMessage'> to JSON: PydanticSerializationError(Unable to serialize unknown type: <class 'NameError'>)\n",
      "Failed to use model_dump to serialize <class 'langchain_core.messages.tool.ToolMessage'> to JSON: PydanticSerializationError(Unable to serialize unknown type: <class 'NameError'>)\n"
     ]
    },
    {
     "name": "stdout",
     "output_type": "stream",
     "text": [
      "{'fallback_agent': {'messages': [AIMessage(content='', additional_kwargs={'tool_calls': [{'id': 'call_0_4868fbe4-6831-4d6d-8a80-61e403569630', 'function': {'arguments': '{\"request\":{\"topic\":[\"water\",\"nature\",\"flow\"]}}', 'name': 'master_haiku_generator'}, 'type': 'function', 'index': 0}], 'refusal': None}, response_metadata={'token_usage': {'completion_tokens': 30, 'prompt_tokens': 183, 'total_tokens': 213, 'completion_tokens_details': None, 'prompt_tokens_details': None, 'prompt_cache_hit_tokens': 128, 'prompt_cache_miss_tokens': 55}, 'model_name': 'deepseek-chat', 'system_fingerprint': 'fp_f1afce2943', 'finish_reason': 'tool_calls', 'logprobs': None}, id='run-92c1554b-1540-45a8-82d4-a64665a6fa6a-0', tool_calls=[{'name': 'master_haiku_generator', 'args': {'request': {'topic': ['water', 'nature', 'flow']}}, 'id': 'call_0_4868fbe4-6831-4d6d-8a80-61e403569630', 'type': 'tool_call'}], usage_metadata={'input_tokens': 183, 'output_tokens': 30, 'total_tokens': 213, 'input_token_details': {}, 'output_token_details': {}})]}}\n",
      "{'tools': {'messages': [ToolMessage(content='', name='master_haiku_generator', id='2c395186-7cb4-4837-8cbb-31e0e1f76ac3', tool_call_id='call_0_4868fbe4-6831-4d6d-8a80-61e403569630')]}}\n",
      "{'remove_failed_tool_call_attempt': {'messages': [RemoveMessage(content='', additional_kwargs={}, response_metadata={}, id='run-92c1554b-1540-45a8-82d4-a64665a6fa6a-0'), RemoveMessage(content='', additional_kwargs={}, response_metadata={}, id='2c395186-7cb4-4837-8cbb-31e0e1f76ac3')]}}\n",
      "{'fallback_agent': {'messages': [AIMessage(content='', additional_kwargs={'tool_calls': [{'id': 'call_0_c11bc908-dd68-4dda-891e-fd7dc746a2a7', 'function': {'arguments': '{\"request\":{\"topic\":[\"water\",\"flow\",\"calm\"]}}', 'name': 'master_haiku_generator'}, 'type': 'function', 'index': 0}], 'refusal': None}, response_metadata={'token_usage': {'completion_tokens': 31, 'prompt_tokens': 183, 'total_tokens': 214, 'completion_tokens_details': None, 'prompt_tokens_details': None, 'prompt_cache_hit_tokens': 128, 'prompt_cache_miss_tokens': 55}, 'model_name': 'deepseek-chat', 'system_fingerprint': 'fp_f1afce2943', 'finish_reason': 'tool_calls', 'logprobs': None}, id='run-a667576b-273b-4066-bd19-c47862ea23d6-0', tool_calls=[{'name': 'master_haiku_generator', 'args': {'request': {'topic': ['water', 'flow', 'calm']}}, 'id': 'call_0_c11bc908-dd68-4dda-891e-fd7dc746a2a7', 'type': 'tool_call'}], usage_metadata={'input_tokens': 183, 'output_tokens': 31, 'total_tokens': 214, 'input_token_details': {}, 'output_token_details': {}})]}}\n"
     ]
    },
    {
     "ename": "GraphRecursionError",
     "evalue": "Recursion limit of 10 reached without hitting a stop condition. You can increase the limit by setting the `recursion_limit` config key.\nFor troubleshooting, visit: https://python.langchain.com/docs/troubleshooting/errors/GRAPH_RECURSION_LIMIT",
     "output_type": "error",
     "traceback": [
      "\u001b[1;31m---------------------------------------------------------------------------\u001b[0m",
      "\u001b[1;31mGraphRecursionError\u001b[0m                       Traceback (most recent call last)",
      "Cell \u001b[1;32mIn[10], line 6\u001b[0m\n\u001b[0;32m      1\u001b[0m stream \u001b[38;5;241m=\u001b[39m app\u001b[38;5;241m.\u001b[39mstream(\n\u001b[0;32m      2\u001b[0m     {\u001b[38;5;124m\"\u001b[39m\u001b[38;5;124mmessages\u001b[39m\u001b[38;5;124m\"\u001b[39m: [(\u001b[38;5;124m\"\u001b[39m\u001b[38;5;124mhuman\u001b[39m\u001b[38;5;124m\"\u001b[39m, \u001b[38;5;124m\"\u001b[39m\u001b[38;5;124mWrite me an incredible haiku about water.\u001b[39m\u001b[38;5;124m\"\u001b[39m)]},\n\u001b[0;32m      3\u001b[0m     {\u001b[38;5;124m\"\u001b[39m\u001b[38;5;124mrecursion_limit\u001b[39m\u001b[38;5;124m\"\u001b[39m: \u001b[38;5;241m10\u001b[39m},\n\u001b[0;32m      4\u001b[0m )\n\u001b[1;32m----> 6\u001b[0m \u001b[38;5;28;43;01mfor\u001b[39;49;00m\u001b[43m \u001b[49m\u001b[43mchunk\u001b[49m\u001b[43m \u001b[49m\u001b[38;5;129;43;01min\u001b[39;49;00m\u001b[43m \u001b[49m\u001b[43mstream\u001b[49m\u001b[43m:\u001b[49m\n\u001b[0;32m      7\u001b[0m \u001b[43m    \u001b[49m\u001b[38;5;28;43mprint\u001b[39;49m\u001b[43m(\u001b[49m\u001b[43mchunk\u001b[49m\u001b[43m)\u001b[49m\n",
      "File \u001b[1;32mc:\\Users\\farben\\anaconda3\\envs\\lclg\\Lib\\site-packages\\langgraph\\pregel\\__init__.py:1676\u001b[0m, in \u001b[0;36mPregel.stream\u001b[1;34m(self, input, config, stream_mode, output_keys, interrupt_before, interrupt_after, debug, subgraphs)\u001b[0m\n\u001b[0;32m   1667\u001b[0m \u001b[38;5;28;01mif\u001b[39;00m loop\u001b[38;5;241m.\u001b[39mstatus \u001b[38;5;241m==\u001b[39m \u001b[38;5;124m\"\u001b[39m\u001b[38;5;124mout_of_steps\u001b[39m\u001b[38;5;124m\"\u001b[39m:\n\u001b[0;32m   1668\u001b[0m     msg \u001b[38;5;241m=\u001b[39m create_error_message(\n\u001b[0;32m   1669\u001b[0m         message\u001b[38;5;241m=\u001b[39m(\n\u001b[0;32m   1670\u001b[0m             \u001b[38;5;124mf\u001b[39m\u001b[38;5;124m\"\u001b[39m\u001b[38;5;124mRecursion limit of \u001b[39m\u001b[38;5;132;01m{\u001b[39;00mconfig[\u001b[38;5;124m'\u001b[39m\u001b[38;5;124mrecursion_limit\u001b[39m\u001b[38;5;124m'\u001b[39m]\u001b[38;5;132;01m}\u001b[39;00m\u001b[38;5;124m reached \u001b[39m\u001b[38;5;124m\"\u001b[39m\n\u001b[1;32m   (...)\u001b[0m\n\u001b[0;32m   1674\u001b[0m         error_code\u001b[38;5;241m=\u001b[39mErrorCode\u001b[38;5;241m.\u001b[39mGRAPH_RECURSION_LIMIT,\n\u001b[0;32m   1675\u001b[0m     )\n\u001b[1;32m-> 1676\u001b[0m     \u001b[38;5;28;01mraise\u001b[39;00m GraphRecursionError(msg)\n\u001b[0;32m   1677\u001b[0m \u001b[38;5;66;03m# set final channel values as run output\u001b[39;00m\n\u001b[0;32m   1678\u001b[0m run_manager\u001b[38;5;241m.\u001b[39mon_chain_end(loop\u001b[38;5;241m.\u001b[39moutput)\n",
      "\u001b[1;31mGraphRecursionError\u001b[0m: Recursion limit of 10 reached without hitting a stop condition. You can increase the limit by setting the `recursion_limit` config key.\nFor troubleshooting, visit: https://python.langchain.com/docs/troubleshooting/errors/GRAPH_RECURSION_LIMIT"
     ]
    }
   ],
   "source": [
    "stream = app.stream(\n",
    "    {\"messages\": [(\"human\", \"Write me an incredible haiku about water.\")]},\n",
    "    {\"recursion_limit\": 10},\n",
    ")\n",
    "\n",
    "for chunk in stream:\n",
    "    print(chunk)"
   ]
  },
  {
   "cell_type": "code",
   "execution_count": null,
   "metadata": {},
   "outputs": [],
   "source": []
  }
 ],
 "metadata": {
  "kernelspec": {
   "display_name": "lclg",
   "language": "python",
   "name": "python3"
  },
  "language_info": {
   "codemirror_mode": {
    "name": "ipython",
    "version": 3
   },
   "file_extension": ".py",
   "mimetype": "text/x-python",
   "name": "python",
   "nbconvert_exporter": "python",
   "pygments_lexer": "ipython3",
   "version": "3.11.0"
  }
 },
 "nbformat": 4,
 "nbformat_minor": 2
}
