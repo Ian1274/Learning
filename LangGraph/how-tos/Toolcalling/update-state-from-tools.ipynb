{
 "cells": [
  {
   "cell_type": "code",
   "execution_count": 4,
   "metadata": {},
   "outputs": [],
   "source": [
    "import os\n",
    "from dotenv import load_dotenv\n",
    "from langchain_openai import ChatOpenAI\n",
    "from langchain_ollama import ChatOllama\n",
    "from langchain_huggingface import HuggingFaceEmbeddings  # HuggingFace嵌入\n",
    "\n",
    "load_dotenv(\"../.env\")\n",
    "\n",
    "model = ChatOpenAI(\n",
    "                    temperature=0,\n",
    "                    max_tokens=4096,\n",
    "                    presence_penalty=1.2,\n",
    "                    # model='deepseek-chat',\n",
    "                    # openai_api_key=os.getenv('DEEPSEEK_API_KEY'),\n",
    "                    # openai_api_base=\"https://api.deepseek.com/v1\",\n",
    "                    model='gpt-4o-mini',\n",
    "                    openai_api_key=os.getenv('CLOSEAI_API_KEY'),\n",
    "                    openai_api_base=\"https://api.openai-proxy.org/v1\",\n",
    "                )\n",
    "\n",
    "# model = ChatOllama(\n",
    "#                     temperature=0,\n",
    "#                     num_predict=4096,\n",
    "#                     repeat_penalty=1.2,\n",
    "#                     model=\"llama3.2:3b\"\n",
    "#                 )\n",
    "\n",
    "embedding = HuggingFaceEmbeddings(\n",
    "            model_name=\"../../../../Embedding/maidalun/bce-embedding-base_v1\",\n",
    "            model_kwargs={\"device\": \"cuda\",\n",
    "                          \"trust_remote_code\": True},\n",
    "            encode_kwargs={\"normalize_embeddings\": True},\n",
    "        )"
   ]
  },
  {
   "cell_type": "code",
   "execution_count": null,
   "metadata": {},
   "outputs": [],
   "source": []
  },
  {
   "cell_type": "markdown",
   "metadata": {},
   "source": [
    "# Define tool"
   ]
  },
  {
   "cell_type": "code",
   "execution_count": 5,
   "metadata": {},
   "outputs": [],
   "source": [
    "USER_INFO = [\n",
    "    {\"user_id\": \"1\", \"name\": \"Bob Dylan\", \"location\": \"New York, NY\"},\n",
    "    {\"user_id\": \"2\", \"name\": \"Taylor Swift\", \"location\": \"Beverly Hills, CA\"},\n",
    "]\n",
    "\n",
    "USER_ID_TO_USER_INFO = {info[\"user_id\"]: info for info in USER_INFO}"
   ]
  },
  {
   "cell_type": "code",
   "execution_count": 6,
   "metadata": {},
   "outputs": [],
   "source": [
    "from langgraph.prebuilt.chat_agent_executor import AgentState\n",
    "from langgraph.types import Command\n",
    "from langchain_core.tools import tool\n",
    "from langchain_core.tools.base import InjectedToolCallId\n",
    "from langchain_core.messages import ToolMessage\n",
    "from langchain_core.runnables import RunnableConfig\n",
    "\n",
    "from typing_extensions import Any, Annotated\n",
    "\n",
    "\n",
    "class State(AgentState):\n",
    "    # updated by the tool\n",
    "    user_info: dict[str, Any]\n",
    "\n",
    "\n",
    "@tool\n",
    "def lookup_user_info(\n",
    "    tool_call_id: Annotated[str, InjectedToolCallId], config: RunnableConfig\n",
    "):\n",
    "    \"\"\"Use this to look up user information to better assist them with their questions.\"\"\"\n",
    "    user_id = config.get(\"configurable\", {}).get(\"user_id\")\n",
    "    if user_id is None:\n",
    "        raise ValueError(\"Please provide user ID\")\n",
    "\n",
    "    if user_id not in USER_ID_TO_USER_INFO:\n",
    "        raise ValueError(f\"User '{user_id}' not found\")\n",
    "\n",
    "    user_info = USER_ID_TO_USER_INFO[user_id]\n",
    "    return Command(\n",
    "        update={\n",
    "            # update the state keys\n",
    "            \"user_info\": user_info,\n",
    "            # update the message history\n",
    "            \"messages\": [\n",
    "                ToolMessage(\n",
    "                    \"Successfully looked up user information\", tool_call_id=tool_call_id\n",
    "                )\n",
    "            ],\n",
    "        }\n",
    "    )"
   ]
  },
  {
   "cell_type": "markdown",
   "metadata": {},
   "source": [
    "# Define prompt"
   ]
  },
  {
   "cell_type": "code",
   "execution_count": 7,
   "metadata": {},
   "outputs": [],
   "source": [
    "def state_modifier(state: State):\n",
    "    user_info = state.get(\"user_info\")\n",
    "    if user_info is None:\n",
    "        return state[\"messages\"]\n",
    "\n",
    "    system_msg = (\n",
    "        f\"User name is {user_info['name']}. User lives in {user_info['location']}\"\n",
    "    )\n",
    "    return [{\"role\": \"system\", \"content\": system_msg}] + state[\"messages\"]"
   ]
  },
  {
   "cell_type": "markdown",
   "metadata": {},
   "source": [
    "# Define graph"
   ]
  },
  {
   "cell_type": "code",
   "execution_count": 8,
   "metadata": {},
   "outputs": [],
   "source": [
    "from langgraph.prebuilt import create_react_agent\n",
    "\n",
    "agent = create_react_agent(\n",
    "    model,\n",
    "    # pass the tool that can update state\n",
    "    [lookup_user_info],\n",
    "    state_schema=State,\n",
    "    # pass dynamic prompt function\n",
    "    state_modifier=state_modifier,\n",
    ")"
   ]
  },
  {
   "cell_type": "markdown",
   "metadata": {},
   "source": [
    "# Use it!"
   ]
  },
  {
   "cell_type": "code",
   "execution_count": 11,
   "metadata": {},
   "outputs": [
    {
     "name": "stdout",
     "output_type": "stream",
     "text": [
      "{'agent': {'messages': [AIMessage(content='', additional_kwargs={'tool_calls': [{'id': 'call_KkYjzSRVE3oawbPEvOLi1KDT', 'function': {'arguments': '{}', 'name': 'lookup_user_info'}, 'type': 'function'}], 'refusal': None}, response_metadata={'token_usage': {'completion_tokens': 12, 'prompt_tokens': 56, 'total_tokens': 68, 'completion_tokens_details': {'accepted_prediction_tokens': 0, 'audio_tokens': 0, 'reasoning_tokens': 0, 'rejected_prediction_tokens': 0}, 'prompt_tokens_details': {'audio_tokens': 0, 'cached_tokens': 0}}, 'model_name': 'gpt-4o-mini-2024-07-18', 'system_fingerprint': 'fp_d02d531b47', 'finish_reason': 'tool_calls', 'logprobs': None}, id='run-119d3994-0556-461f-b460-dd8ad7e0e866-0', tool_calls=[{'name': 'lookup_user_info', 'args': {}, 'id': 'call_KkYjzSRVE3oawbPEvOLi1KDT', 'type': 'tool_call'}], usage_metadata={'input_tokens': 56, 'output_tokens': 12, 'total_tokens': 68, 'input_token_details': {'audio': 0, 'cache_read': 0}, 'output_token_details': {'audio': 0, 'reasoning': 0}})]}}\n",
      "\n",
      "\n",
      "{'tools': {'user_info': {'user_id': '1', 'name': 'Bob Dylan', 'location': 'New York, NY'}, 'messages': [ToolMessage(content='Successfully looked up user information', name='lookup_user_info', id='6c5924cb-63e1-4faf-8550-17b3386d6fae', tool_call_id='call_KkYjzSRVE3oawbPEvOLi1KDT')]}}\n",
      "\n",
      "\n",
      "{'agent': {'messages': [AIMessage(content=\"Since you're in New York, NY, here are some ideas for things to do this weekend:\\n\\n1. **Visit a Museum**: Check out the Metropolitan Museum of Art or the Museum of Modern Art (MoMA) for some incredible art exhibits.\\n\\n2. **Explore Central Park**: Take a stroll, have a picnic, or rent a bike to explore the park's beautiful scenery.\\n\\n3. **Catch a Show**: Look for Broadway or Off-Broadway shows that interest you. There are often last-minute tickets available.\\n\\n4. **Food Tour**: Explore different neighborhoods and try local cuisines. Consider a food tour in areas like Chinatown or Little Italy.\\n\\n5. **Live Music**: Check out local venues for live music performances. You might find something that resonates with your taste.\\n\\n6. **Brooklyn Bridge Walk**: Walk across the Brooklyn Bridge and enjoy stunning views of the Manhattan skyline.\\n\\n7. **Visit a Farmers Market**: Spend some time at a local farmers market to enjoy fresh produce and artisanal goods.\\n\\n8. **Attend a Sports Event**: If you're a sports fan, see if there are any games happening this weekend.\\n\\nLet me know if you'd like more specific recommendations!\", additional_kwargs={'refusal': None}, response_metadata={'token_usage': {'completion_tokens': 246, 'prompt_tokens': 95, 'total_tokens': 341, 'completion_tokens_details': {'accepted_prediction_tokens': 0, 'audio_tokens': 0, 'reasoning_tokens': 0, 'rejected_prediction_tokens': 0}, 'prompt_tokens_details': {'audio_tokens': 0, 'cached_tokens': 0}}, 'model_name': 'gpt-4o-mini-2024-07-18', 'system_fingerprint': 'fp_d02d531b47', 'finish_reason': 'stop', 'logprobs': None}, id='run-76e10ac0-5e76-4af0-b0ef-258d6e1cb6fd-0', usage_metadata={'input_tokens': 95, 'output_tokens': 246, 'total_tokens': 341, 'input_token_details': {'audio': 0, 'cache_read': 0}, 'output_token_details': {'audio': 0, 'reasoning': 0}})]}}\n",
      "\n",
      "\n"
     ]
    }
   ],
   "source": [
    "for chunk in agent.stream(\n",
    "    {\"messages\": [(\"user\", \"hi, what should i do this weekend?\")]},\n",
    "    # provide user ID in the config\n",
    "    {\"configurable\": {\"user_id\": \"1\"}},\n",
    "):\n",
    "    print(chunk)\n",
    "    print(\"\\n\")"
   ]
  },
  {
   "cell_type": "code",
   "execution_count": 12,
   "metadata": {},
   "outputs": [
    {
     "name": "stdout",
     "output_type": "stream",
     "text": [
      "{'agent': {'messages': [AIMessage(content='', additional_kwargs={'tool_calls': [{'id': 'call_tJ4d9D8MY4gcmGGX229JNaMR', 'function': {'arguments': '{}', 'name': 'lookup_user_info'}, 'type': 'function'}], 'refusal': None}, response_metadata={'token_usage': {'completion_tokens': 12, 'prompt_tokens': 56, 'total_tokens': 68, 'completion_tokens_details': {'accepted_prediction_tokens': 0, 'audio_tokens': 0, 'reasoning_tokens': 0, 'rejected_prediction_tokens': 0}, 'prompt_tokens_details': {'audio_tokens': 0, 'cached_tokens': 0}}, 'model_name': 'gpt-4o-mini-2024-07-18', 'system_fingerprint': 'fp_0aa8d3e20b', 'finish_reason': 'tool_calls', 'logprobs': None}, id='run-b34ec5ce-28d0-4662-8577-33c2bf074e8b-0', tool_calls=[{'name': 'lookup_user_info', 'args': {}, 'id': 'call_tJ4d9D8MY4gcmGGX229JNaMR', 'type': 'tool_call'}], usage_metadata={'input_tokens': 56, 'output_tokens': 12, 'total_tokens': 68, 'input_token_details': {'audio': 0, 'cache_read': 0}, 'output_token_details': {'audio': 0, 'reasoning': 0}})]}}\n",
      "\n",
      "\n",
      "{'tools': {'user_info': {'user_id': '2', 'name': 'Taylor Swift', 'location': 'Beverly Hills, CA'}, 'messages': [ToolMessage(content='Successfully looked up user information', name='lookup_user_info', id='f294d9e4-cd59-47a4-8192-6081403c0244', tool_call_id='call_tJ4d9D8MY4gcmGGX229JNaMR')]}}\n",
      "\n",
      "\n",
      "{'agent': {'messages': [AIMessage(content=\"Here are some fun ideas for your weekend in Beverly Hills:\\n\\n1. **Explore Rodeo Drive**: Go shopping or window shopping at the luxury boutiques.\\n2. **Visit Greystone Mansion and Park**: Enjoy a stroll through the beautiful gardens and explore the historic mansion.\\n3. **Check out local art galleries**: Spend some time appreciating art at nearby galleries.\\n4. **Dine at a trendy restaurant**: Treat yourself to a nice meal at one of Beverly Hills' upscale restaurants.\\n5. **Catch a movie**: See what's playing at a local theater for a relaxing night out.\\n\\nLet me know if you want more specific recommendations!\", additional_kwargs={'refusal': None}, response_metadata={'token_usage': {'completion_tokens': 133, 'prompt_tokens': 95, 'total_tokens': 228, 'completion_tokens_details': {'accepted_prediction_tokens': 0, 'audio_tokens': 0, 'reasoning_tokens': 0, 'rejected_prediction_tokens': 0}, 'prompt_tokens_details': {'audio_tokens': 0, 'cached_tokens': 0}}, 'model_name': 'gpt-4o-mini-2024-07-18', 'system_fingerprint': 'fp_0aa8d3e20b', 'finish_reason': 'stop', 'logprobs': None}, id='run-be0d2868-4775-4845-b5be-0177502bf485-0', usage_metadata={'input_tokens': 95, 'output_tokens': 133, 'total_tokens': 228, 'input_token_details': {'audio': 0, 'cache_read': 0}, 'output_token_details': {'audio': 0, 'reasoning': 0}})]}}\n",
      "\n",
      "\n"
     ]
    }
   ],
   "source": [
    "for chunk in agent.stream(\n",
    "    {\"messages\": [(\"user\", \"hi, what should i do this weekend?\")]},\n",
    "    {\"configurable\": {\"user_id\": \"2\"}},\n",
    "):\n",
    "    print(chunk)\n",
    "    print(\"\\n\")"
   ]
  },
  {
   "cell_type": "code",
   "execution_count": null,
   "metadata": {},
   "outputs": [],
   "source": []
  }
 ],
 "metadata": {
  "kernelspec": {
   "display_name": "lclg",
   "language": "python",
   "name": "python3"
  },
  "language_info": {
   "codemirror_mode": {
    "name": "ipython",
    "version": 3
   },
   "file_extension": ".py",
   "mimetype": "text/x-python",
   "name": "python",
   "nbconvert_exporter": "python",
   "pygments_lexer": "ipython3",
   "version": "3.11.0"
  }
 },
 "nbformat": 4,
 "nbformat_minor": 2
}
