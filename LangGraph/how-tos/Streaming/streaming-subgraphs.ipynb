{
 "cells": [
  {
   "cell_type": "code",
   "execution_count": 1,
   "metadata": {},
   "outputs": [],
   "source": [
    "import os\n",
    "from dotenv import load_dotenv\n",
    "from langchain_openai import ChatOpenAI\n",
    "from langchain_ollama import ChatOllama\n",
    "from langchain_huggingface import HuggingFaceEmbeddings  # HuggingFace嵌入\n",
    "\n",
    "load_dotenv(\"../.env\")\n",
    "\n",
    "model = ChatOpenAI(\n",
    "                    temperature=0,\n",
    "                    max_tokens=4096,\n",
    "                    presence_penalty=1.2,\n",
    "                    # model='deepseek-chat',\n",
    "                    # openai_api_key=os.getenv('DEEPSEEK_API_KEY'),\n",
    "                    # openai_api_base=\"https://api.deepseek.com/v1\",\n",
    "                    model='gpt-4o-mini',\n",
    "                    openai_api_key=os.getenv('CLOSEAI_API_KEY'),\n",
    "                    openai_api_base=\"https://api.openai-proxy.org/v1\",\n",
    "                )\n",
    "\n",
    "# model = ChatOllama(\n",
    "#                     temperature=0,\n",
    "#                     num_predict=4096,\n",
    "#                     repeat_penalty=1.2,\n",
    "#                     model=\"llama3.2:3b\"\n",
    "#                 )\n",
    "\n",
    "# embedding = HuggingFaceEmbeddings(\n",
    "#             model_name=\"../../Embedding/maidalun/bce-embedding-base_v1\",\n",
    "#             model_kwargs={\"device\": \"cuda\",\n",
    "#                           \"trust_remote_code\": True},\n",
    "#             encode_kwargs={\"normalize_embeddings\": True},\n",
    "#         )"
   ]
  },
  {
   "cell_type": "markdown",
   "metadata": {},
   "source": [
    "# Define subgraphs"
   ]
  },
  {
   "cell_type": "code",
   "execution_count": 2,
   "metadata": {},
   "outputs": [
    {
     "data": {
      "text/plain": [
       "<langgraph.graph.state.StateGraph at 0x26b283706d0>"
      ]
     },
     "execution_count": 2,
     "metadata": {},
     "output_type": "execute_result"
    }
   ],
   "source": [
    "from typing import Optional, Annotated\n",
    "from typing_extensions import TypedDict\n",
    "from langgraph.checkpoint.memory import MemorySaver\n",
    "from langgraph.graph import StateGraph, START, END\n",
    "\n",
    "\n",
    "# The structure of the logs\n",
    "class Logs(TypedDict):\n",
    "    id: str\n",
    "    question: str\n",
    "    answer: str\n",
    "    grade: Optional[int]\n",
    "    feedback: Optional[str]\n",
    "\n",
    "\n",
    "# Define custom reducer (see more on this in the \"Custom reducer\" section below)\n",
    "def add_logs(left: list[Logs], right: list[Logs]) -> list[Logs]:\n",
    "    if not left:\n",
    "        left = []\n",
    "\n",
    "    if not right:\n",
    "        right = []\n",
    "\n",
    "    logs = left.copy()\n",
    "    left_id_to_idx = {log[\"id\"]: idx for idx, log in enumerate(logs)}\n",
    "    # update if the new logs are already in the state, otherwise append\n",
    "    for log in right:\n",
    "        idx = left_id_to_idx.get(log[\"id\"])\n",
    "        if idx is not None:\n",
    "            logs[idx] = log\n",
    "        else:\n",
    "            logs.append(log)\n",
    "    return logs\n",
    "\n",
    "\n",
    "# Failure Analysis Subgraph\n",
    "class FailureAnalysisState(TypedDict):\n",
    "    # keys shared with the parent graph (EntryGraphState)\n",
    "    logs: Annotated[list[Logs], add_logs]\n",
    "    failure_report: str\n",
    "    # subgraph key\n",
    "    failures: list[Logs]\n",
    "\n",
    "\n",
    "def get_failures(state: FailureAnalysisState):\n",
    "    failures = [log for log in state[\"logs\"] if log[\"grade\"] == 0]\n",
    "    return {\"failures\": failures}\n",
    "\n",
    "\n",
    "def generate_summary(state: FailureAnalysisState):\n",
    "    failures = state[\"failures\"]\n",
    "    # NOTE: you can implement custom summarization logic here\n",
    "    failure_ids = [log[\"id\"] for log in failures]\n",
    "    fa_summary = f\"Poor quality of retrieval for document IDs: {', '.join(failure_ids)}\"\n",
    "    return {\"failure_report\": fa_summary}\n",
    "\n",
    "\n",
    "fa_builder = StateGraph(FailureAnalysisState)\n",
    "fa_builder.add_node(\"get_failures\", get_failures)\n",
    "fa_builder.add_node(\"generate_summary\", generate_summary)\n",
    "fa_builder.add_edge(START, \"get_failures\")\n",
    "fa_builder.add_edge(\"get_failures\", \"generate_summary\")\n",
    "fa_builder.add_edge(\"generate_summary\", END)\n",
    "\n",
    "\n",
    "# Summarization subgraph\n",
    "class QuestionSummarizationState(TypedDict):\n",
    "    # keys that are shared with the parent graph (EntryGraphState)\n",
    "    summary_report: str\n",
    "    logs: Annotated[list[Logs], add_logs]\n",
    "    # subgraph keys\n",
    "    summary: str\n",
    "\n",
    "\n",
    "def generate_summary(state: QuestionSummarizationState):\n",
    "    docs = state[\"logs\"]\n",
    "    # NOTE: you can implement custom summarization logic here\n",
    "    summary = \"Questions focused on usage of ChatOllama and Chroma vector store.\"\n",
    "    return {\"summary\": summary}\n",
    "\n",
    "\n",
    "def send_to_slack(state: QuestionSummarizationState):\n",
    "    summary = state[\"summary\"]\n",
    "    # NOTE: you can implement custom logic here, for example sending the summary generated in the previous step to Slack\n",
    "    return {\"summary_report\": summary}\n",
    "\n",
    "\n",
    "qs_builder = StateGraph(QuestionSummarizationState)\n",
    "qs_builder.add_node(\"generate_summary\", generate_summary)\n",
    "qs_builder.add_node(\"send_to_slack\", send_to_slack)\n",
    "qs_builder.add_edge(START, \"generate_summary\")\n",
    "qs_builder.add_edge(\"generate_summary\", \"send_to_slack\")\n",
    "qs_builder.add_edge(\"send_to_slack\", END)"
   ]
  },
  {
   "cell_type": "markdown",
   "metadata": {},
   "source": [
    "# Define parent graph"
   ]
  },
  {
   "cell_type": "code",
   "execution_count": 3,
   "metadata": {},
   "outputs": [
    {
     "data": {
      "image/png": "[encoded data removed]",
      "text/plain": [
       "<IPython.core.display.Image object>"
      ]
     },
     "metadata": {},
     "output_type": "display_data"
    }
   ],
   "source": [
    "# Entry Graph\n",
    "class EntryGraphState(TypedDict):\n",
    "    raw_logs: Annotated[list[Logs], add_logs]\n",
    "    logs: Annotated[list[Logs], add_logs]  # This will be used in subgraphs\n",
    "    failure_report: str  # This will be generated in the FA subgraph\n",
    "    summary_report: str  # This will be generated in the QS subgraph\n",
    "\n",
    "\n",
    "def select_logs(state):\n",
    "    return {\"logs\": [log for log in state[\"raw_logs\"] if \"grade\" in log]}\n",
    "\n",
    "\n",
    "entry_builder = StateGraph(EntryGraphState)\n",
    "entry_builder.add_node(\"select_logs\", select_logs)\n",
    "entry_builder.add_node(\"question_summarization\", qs_builder.compile())\n",
    "entry_builder.add_node(\"failure_analysis\", fa_builder.compile())\n",
    "\n",
    "entry_builder.add_edge(START, \"select_logs\")\n",
    "entry_builder.add_edge(\"select_logs\", \"failure_analysis\")\n",
    "entry_builder.add_edge(\"select_logs\", \"question_summarization\")\n",
    "entry_builder.add_edge(\"failure_analysis\", END)\n",
    "entry_builder.add_edge(\"question_summarization\", END)\n",
    "\n",
    "graph = entry_builder.compile()\n",
    "\n",
    "from IPython.display import Image, display\n",
    "\n",
    "# Setting xray to 1 will show the internal structure of the nested graph\n",
    "display(Image(graph.get_graph(xray=1).draw_mermaid_png()))"
   ]
  },
  {
   "cell_type": "markdown",
   "metadata": {},
   "source": [
    "# Stream"
   ]
  },
  {
   "cell_type": "markdown",
   "metadata": {},
   "source": [
    "## Define input"
   ]
  },
  {
   "cell_type": "code",
   "execution_count": 4,
   "metadata": {},
   "outputs": [],
   "source": [
    "# Dummy logs\n",
    "dummy_logs = [\n",
    "    Logs(\n",
    "        id=\"1\",\n",
    "        question=\"How can I import ChatOllama?\",\n",
    "        grade=1,\n",
    "        answer=\"To import ChatOllama, use: 'from langchain_community.chat_models import ChatOllama.'\",\n",
    "    ),\n",
    "    Logs(\n",
    "        id=\"2\",\n",
    "        question=\"How can I use Chroma vector store?\",\n",
    "        answer=\"To use Chroma, define: rag_chain = create_retrieval_chain(retriever, question_answer_chain).\",\n",
    "        grade=0,\n",
    "        feedback=\"The retrieved documents discuss vector stores in general, but not Chroma specifically\",\n",
    "    ),\n",
    "    Logs(\n",
    "        id=\"3\",\n",
    "        question=\"How do I create react agent in langgraph?\",\n",
    "        answer=\"from langgraph.prebuilt import create_react_agent\",\n",
    "    ),\n",
    "]\n",
    "\n",
    "input = {\"raw_logs\": dummy_logs}"
   ]
  },
  {
   "cell_type": "markdown",
   "metadata": {},
   "source": [
    "## Stream normally"
   ]
  },
  {
   "cell_type": "code",
   "execution_count": 5,
   "metadata": {},
   "outputs": [
    {
     "name": "stdout",
     "output_type": "stream",
     "text": [
      "---------- Update from node select_logs ---------\n",
      "{'logs': [{'id': '1', 'question': 'How can I import ChatOllama?', 'grade': 1, 'answer': \"To import ChatOllama, use: 'from langchain_community.chat_models import ChatOllama.'\"}, {'id': '2', 'question': 'How can I use Chroma vector store?', 'answer': 'To use Chroma, define: rag_chain = create_retrieval_chain(retriever, question_answer_chain).', 'grade': 0, 'feedback': 'The retrieved documents discuss vector stores in general, but not Chroma specifically'}]}\n",
      "---------- Update from node question_summarization ---------\n",
      "{'summary_report': 'Questions focused on usage of ChatOllama and Chroma vector store.', 'logs': [{'id': '1', 'question': 'How can I import ChatOllama?', 'grade': 1, 'answer': \"To import ChatOllama, use: 'from langchain_community.chat_models import ChatOllama.'\"}, {'id': '2', 'question': 'How can I use Chroma vector store?', 'answer': 'To use Chroma, define: rag_chain = create_retrieval_chain(retriever, question_answer_chain).', 'grade': 0, 'feedback': 'The retrieved documents discuss vector stores in general, but not Chroma specifically'}]}\n",
      "---------- Update from node failure_analysis ---------\n",
      "{'logs': [{'id': '1', 'question': 'How can I import ChatOllama?', 'grade': 1, 'answer': \"To import ChatOllama, use: 'from langchain_community.chat_models import ChatOllama.'\"}, {'id': '2', 'question': 'How can I use Chroma vector store?', 'answer': 'To use Chroma, define: rag_chain = create_retrieval_chain(retriever, question_answer_chain).', 'grade': 0, 'feedback': 'The retrieved documents discuss vector stores in general, but not Chroma specifically'}], 'failure_report': 'Poor quality of retrieval for document IDs: 2'}\n"
     ]
    }
   ],
   "source": [
    "for chunk in graph.stream(input, stream_mode=\"updates\"):\n",
    "    node_name = list(chunk.keys())[0]\n",
    "    print(f\"---------- Update from node {node_name} ---------\")\n",
    "    print(chunk[node_name])"
   ]
  },
  {
   "cell_type": "markdown",
   "metadata": {},
   "source": [
    "## Stream subgraph"
   ]
  },
  {
   "cell_type": "code",
   "execution_count": 6,
   "metadata": {},
   "outputs": [
    {
     "name": "stdout",
     "output_type": "stream",
     "text": [
      "---------- Update from node select_logs in parent graph ---------\n",
      "{'logs': [{'id': '1', 'question': 'How can I import ChatOllama?', 'grade': 1, 'answer': \"To import ChatOllama, use: 'from langchain_community.chat_models import ChatOllama.'\"}, {'id': '2', 'question': 'How can I use Chroma vector store?', 'answer': 'To use Chroma, define: rag_chain = create_retrieval_chain(retriever, question_answer_chain).', 'grade': 0, 'feedback': 'The retrieved documents discuss vector stores in general, but not Chroma specifically'}]}\n",
      "---------- Update from node generate_summary in question_summarization subgraph ---------\n",
      "{'summary': 'Questions focused on usage of ChatOllama and Chroma vector store.'}\n",
      "---------- Update from node send_to_slack in question_summarization subgraph ---------\n",
      "{'summary_report': 'Questions focused on usage of ChatOllama and Chroma vector store.'}\n",
      "---------- Update from node question_summarization in parent graph ---------\n",
      "{'summary_report': 'Questions focused on usage of ChatOllama and Chroma vector store.', 'logs': [{'id': '1', 'question': 'How can I import ChatOllama?', 'grade': 1, 'answer': \"To import ChatOllama, use: 'from langchain_community.chat_models import ChatOllama.'\"}, {'id': '2', 'question': 'How can I use Chroma vector store?', 'answer': 'To use Chroma, define: rag_chain = create_retrieval_chain(retriever, question_answer_chain).', 'grade': 0, 'feedback': 'The retrieved documents discuss vector stores in general, but not Chroma specifically'}]}\n",
      "---------- Update from node get_failures in failure_analysis subgraph ---------\n",
      "{'failures': [{'id': '2', 'question': 'How can I use Chroma vector store?', 'answer': 'To use Chroma, define: rag_chain = create_retrieval_chain(retriever, question_answer_chain).', 'grade': 0, 'feedback': 'The retrieved documents discuss vector stores in general, but not Chroma specifically'}]}\n",
      "---------- Update from node generate_summary in failure_analysis subgraph ---------\n",
      "{'failure_report': 'Poor quality of retrieval for document IDs: 2'}\n",
      "---------- Update from node failure_analysis in parent graph ---------\n",
      "{'logs': [{'id': '1', 'question': 'How can I import ChatOllama?', 'grade': 1, 'answer': \"To import ChatOllama, use: 'from langchain_community.chat_models import ChatOllama.'\"}, {'id': '2', 'question': 'How can I use Chroma vector store?', 'answer': 'To use Chroma, define: rag_chain = create_retrieval_chain(retriever, question_answer_chain).', 'grade': 0, 'feedback': 'The retrieved documents discuss vector stores in general, but not Chroma specifically'}], 'failure_report': 'Poor quality of retrieval for document IDs: 2'}\n"
     ]
    }
   ],
   "source": [
    "# Format the namespace slightly nicer\n",
    "def format_namespace(namespace):\n",
    "    return (\n",
    "        namespace[-1].split(\":\")[0] + \" subgraph\"\n",
    "        if len(namespace) > 0\n",
    "        else \"parent graph\"\n",
    "    )\n",
    "\n",
    "\n",
    "for namespace, chunk in graph.stream(input, stream_mode=\"updates\", subgraphs=True):\n",
    "    node_name = list(chunk.keys())[0]\n",
    "    print(\n",
    "        f\"---------- Update from node {node_name} in {format_namespace(namespace)} ---------\"\n",
    "    )\n",
    "    print(chunk[node_name])"
   ]
  },
  {
   "cell_type": "code",
   "execution_count": null,
   "metadata": {},
   "outputs": [],
   "source": []
  }
 ],
 "metadata": {
  "kernelspec": {
   "display_name": "lclg",
   "language": "python",
   "name": "python3"
  },
  "language_info": {
   "codemirror_mode": {
    "name": "ipython",
    "version": 3
   },
   "file_extension": ".py",
   "mimetype": "text/x-python",
   "name": "python",
   "nbconvert_exporter": "python",
   "pygments_lexer": "ipython3",
   "version": "3.11.0"
  }
 },
 "nbformat": 4,
 "nbformat_minor": 2
}
