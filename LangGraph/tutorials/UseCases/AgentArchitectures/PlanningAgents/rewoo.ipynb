{
 "cells": [
  {
   "cell_type": "code",
   "execution_count": 5,
   "metadata": {},
   "outputs": [],
   "source": [
    "import os\n",
    "from dotenv import load_dotenv\n",
    "from langchain_openai import ChatOpenAI\n",
    "from langchain_ollama import ChatOllama\n",
    "from langchain_huggingface import HuggingFaceEmbeddings  # HuggingFace嵌入\n",
    "\n",
    "load_dotenv()\n",
    "\n",
    "model = ChatOpenAI(\n",
    "                    model='deepseek-chat',\n",
    "                    openai_api_key=os.getenv('DEEPSEEK_API_KEY'),\n",
    "                    openai_api_base=\"https://api.deepseek.com/v1\",\n",
    "                    # model='gpt-4o-mini',\n",
    "                    # openai_api_key=os.getenv('CLOSEAI_API_KEY'),\n",
    "                    # openai_api_base=\"https://api.openai-proxy.org/v1\",\n",
    "                )\n",
    "\n",
    "# llm = ChatOllama(\n",
    "#                     model=\"llama3.2:3b\"\n",
    "#                 )\n",
    "\n",
    "embedding = HuggingFaceEmbeddings(\n",
    "            model_name=r\"E:/Workplace/GitHub/Embedding/maidalun/bce-embedding-base_v1\",\n",
    "            model_kwargs={\"device\": \"cuda\",\n",
    "                          \"trust_remote_code\": True},\n",
    "            encode_kwargs={\"normalize_embeddings\": True},\n",
    "        )"
   ]
  },
  {
   "cell_type": "markdown",
   "metadata": {},
   "source": [
    "# Define graph state"
   ]
  },
  {
   "cell_type": "code",
   "execution_count": 2,
   "metadata": {},
   "outputs": [],
   "source": [
    "from typing import List\n",
    "from typing_extensions import TypedDict\n",
    "\n",
    "\n",
    "class ReWOO(TypedDict):\n",
    "    task: str\n",
    "    plan_string: str\n",
    "    steps: List\n",
    "    results: dict\n",
    "    result: str"
   ]
  },
  {
   "cell_type": "markdown",
   "metadata": {},
   "source": [
    "# Planner"
   ]
  },
  {
   "cell_type": "code",
   "execution_count": 3,
   "metadata": {},
   "outputs": [],
   "source": [
    "prompt = \"\"\"For the following task, make plans that can solve the problem step by step. For each plan, indicate \\\n",
    "which external tool together with tool input to retrieve evidence. You can store the evidence into a \\\n",
    "variable #E that can be called by later tools. (Plan, #E1, Plan, #E2, Plan, ...)\n",
    "\n",
    "Tools can be one of the following:\n",
    "(1) Google[input]: Worker that searches results from Google. Useful when you need to find short\n",
    "and succinct answers about a specific topic. The input should be a search query.\n",
    "(2) LLM[input]: A pretrained LLM like yourself. Useful when you need to act with general\n",
    "world knowledge and common sense. Prioritize it when you are confident in solving the problem\n",
    "yourself. Input can be any instruction.\n",
    "\n",
    "For example,\n",
    "Task: Thomas, Toby, and Rebecca worked a total of 157 hours in one week. Thomas worked x\n",
    "hours. Toby worked 10 hours less than twice what Thomas worked, and Rebecca worked 8 hours\n",
    "less than Toby. How many hours did Rebecca work?\n",
    "Plan: Given Thomas worked x hours, translate the problem into algebraic expressions and solve\n",
    "with Wolfram Alpha. #E1 = WolframAlpha[Solve x + (2x − 10) + ((2x − 10) − 8) = 157]\n",
    "Plan: Find out the number of hours Thomas worked. #E2 = LLM[What is x, given #E1]\n",
    "Plan: Calculate the number of hours Rebecca worked. #E3 = Calculator[(2 ∗ #E2 − 10) − 8]\n",
    "\n",
    "Begin! \n",
    "Describe your plans with rich details. Each Plan should be followed by only one #E.\n",
    "\n",
    "Task: {task}\"\"\""
   ]
  },
  {
   "cell_type": "code",
   "execution_count": 4,
   "metadata": {},
   "outputs": [],
   "source": [
    "task = \"what is the exact hometown of the 2024 mens australian open winner\""
   ]
  },
  {
   "cell_type": "code",
   "execution_count": 6,
   "metadata": {},
   "outputs": [],
   "source": [
    "result = model.invoke(prompt.format(task=task))"
   ]
  },
  {
   "cell_type": "code",
   "execution_count": 7,
   "metadata": {},
   "outputs": [
    {
     "data": {
      "text/plain": [
       "AIMessage(content=\"Plan: Identify the winner of the 2024 Men's Australian Open. Since the task is about a future event (as of October 2023), the winner is not yet known. However, we can assume the task is hypothetical or based on a prediction. Use Google to search for the most likely winner of the 2024 Men's Australian Open based on current rankings or predictions.  \\n#E1 = Google[2024 Men's Australian Open winner prediction or likely winner]\\n\\nPlan: Retrieve the exact hometown of the winner identified in #E1. Use Google to search for the hometown of the player mentioned in #E1.  \\n#E2 = Google[Exact hometown of [winner from #E1]]\\n\\nPlan: Verify the hometown information using an LLM to ensure accuracy and consistency. Provide the player's name and the hometown retrieved from #E2 to the LLM for confirmation.  \\n#E3 = LLM[Confirm if [winner from #E1]'s exact hometown is [hometown from #E2]]\\n\\nPlan: Present the final answer based on the verified information from #E3.  \\n#E4 = LLM[Provide the exact hometown of the 2024 Men's Australian Open winner based on #E3]\", additional_kwargs={'refusal': None}, response_metadata={'token_usage': {'completion_tokens': 256, 'prompt_tokens': 376, 'total_tokens': 632, 'completion_tokens_details': None, 'prompt_tokens_details': None, 'prompt_cache_hit_tokens': 0, 'prompt_cache_miss_tokens': 376}, 'model_name': 'deepseek-chat', 'system_fingerprint': 'fp_3a5770e1b4', 'finish_reason': 'stop', 'logprobs': None}, id='run-e2064d1f-a137-4b1a-a7bf-534bee6834ab-0', usage_metadata={'input_tokens': 376, 'output_tokens': 256, 'total_tokens': 632, 'input_token_details': {}, 'output_token_details': {}})"
      ]
     },
     "execution_count": 7,
     "metadata": {},
     "output_type": "execute_result"
    }
   ],
   "source": [
    "result"
   ]
  },
  {
   "cell_type": "code",
   "execution_count": 8,
   "metadata": {},
   "outputs": [
    {
     "name": "stdout",
     "output_type": "stream",
     "text": [
      "Plan: Identify the winner of the 2024 Men's Australian Open. Since the task is about a future event (as of October 2023), the winner is not yet known. However, we can assume the task is hypothetical or based on a prediction. Use Google to search for the most likely winner of the 2024 Men's Australian Open based on current rankings or predictions.  \n",
      "#E1 = Google[2024 Men's Australian Open winner prediction or likely winner]\n",
      "\n",
      "Plan: Retrieve the exact hometown of the winner identified in #E1. Use Google to search for the hometown of the player mentioned in #E1.  \n",
      "#E2 = Google[Exact hometown of [winner from #E1]]\n",
      "\n",
      "Plan: Verify the hometown information using an LLM to ensure accuracy and consistency. Provide the player's name and the hometown retrieved from #E2 to the LLM for confirmation.  \n",
      "#E3 = LLM[Confirm if [winner from #E1]'s exact hometown is [hometown from #E2]]\n",
      "\n",
      "Plan: Present the final answer based on the verified information from #E3.  \n",
      "#E4 = LLM[Provide the exact hometown of the 2024 Men's Australian Open winner based on #E3]\n"
     ]
    }
   ],
   "source": [
    "print(result.content)"
   ]
  },
  {
   "cell_type": "markdown",
   "metadata": {},
   "source": [
    "## Planner Node"
   ]
  },
  {
   "cell_type": "code",
   "execution_count": 9,
   "metadata": {},
   "outputs": [],
   "source": [
    "import re\n",
    "\n",
    "from langchain_core.prompts import ChatPromptTemplate\n",
    "\n",
    "# Regex to match expressions of the form E#... = ...[...]\n",
    "regex_pattern = r\"Plan:\\s*(.+)\\s*(#E\\d+)\\s*=\\s*(\\w+)\\s*\\[([^\\]]+)\\]\"\n",
    "prompt_template = ChatPromptTemplate.from_messages([(\"user\", prompt)])\n",
    "planner = prompt_template | model\n",
    "\n",
    "\n",
    "def get_plan(state: ReWOO):\n",
    "    task = state[\"task\"]\n",
    "    result = planner.invoke({\"task\": task})\n",
    "    # Find all matches in the sample text\n",
    "    matches = re.findall(regex_pattern, result.content)\n",
    "    return {\"steps\": matches, \"plan_string\": result.content}"
   ]
  },
  {
   "cell_type": "markdown",
   "metadata": {},
   "source": [
    "# Executor"
   ]
  },
  {
   "cell_type": "code",
   "execution_count": 10,
   "metadata": {},
   "outputs": [],
   "source": [
    "from langchain_community.tools.tavily_search import TavilySearchResults\n",
    "\n",
    "search = TavilySearchResults()"
   ]
  },
  {
   "cell_type": "code",
   "execution_count": 11,
   "metadata": {},
   "outputs": [
    {
     "data": {
      "text/plain": [
       "[{'url': 'https://www.zhihu.com/tardis/bd/art/409390451',\n",
       "  'content': '中国朝代顺序完整表（建议收藏） 中国朝代顺序完整表（建议收藏） 2148 赞同 200 评论 8217 收藏 中国上下5000千年历史朝代顺序为：夏朝、商朝、西周、东周、秦朝、西楚、西汉、新朝、玄汉、东汉、三国、曹魏、蜀汉、孙吴、西晋、东晋、十六国、南朝、刘宋、南齐、南梁、南陈、北朝、北魏、东魏、北齐、西魏、北周、隋朝、唐朝、武周、唐朝中后期、五代、后梁、后唐、后晋、后汉、后周、十国、南吴、南唐、前属、后属、南汉、南楚、吴越、闽国、荆国、北汉、北宋、南宋、辽朝、西夏、金朝、元朝、明朝、清朝。 可以用口诀来进行辅助记忆，如： 三皇五帝始，尧舜禹相传； 夏商与西周，东周分两段； 春秋和战国，一统秦两汉； 三分魏蜀吴，二晋前后沿； 南北朝并立，隋唐五代传； 宋元明清后，皇朝至此完。 中国历史朝代主要有夏、商、周、秦、汉、三国、晋、南北朝、隋、唐、五代、十国、宋、辽、西夏、金、元、明、清、中华民国、中华人民共和国。 具体朝代年份如下： 夏朝：约公元前2029年-约公元前1559年，共计：471年 商朝：约公元前1559年-约公元前1046年，共计：438年 周朝：约公元前1046年-公元前256年，分为西周、东周，东周又分为春秋、战国，共计：867年 秦朝：公元前221-公元前206年，前221年秦王嬴政统一六国，首称皇帝，共计：16年 西楚：公元前206年-公元前202年，西楚霸王项羽，共计：5年 西汉：公元前202年-公元8年，汉高祖刘邦，共计：210年 新朝：公元8年腊月-公元23年10月6日，新太祖建兴帝王莽，共计：16年 玄汉：公元23-25年，汉更始帝刘玄，共计：3年 东汉：公元25-220年，汉光武帝刘秀，共计：196年 三国：公元220-280年，魏、蜀、吴三足鼎立，共计：61年 晋朝：公元265-420年，分为西晋(265-316年)、东晋(317-420年) ，共计：156年 南北朝：公元420-589年，共计：170年 隋朝：公元581-公元618年，隋文帝杨坚，共计：38年 唐朝：公元618-907年，唐高祖李渊，共计：290年 五代：公元907-960年，后梁、后唐、后晋、后汉、后周，共计：54年 十国：公元891-979年，共计：89年 宋朝：公元960-1279年，分为北宋(公元960-1127年)、南宋(公元1127-1279年)，共计：320年 元朝：公元1271年-1368年，元太祖孛儿只斤·铁木真，共计：98年 明朝：公元1368-1644年，明太祖朱元璋，共计：277年 清朝：公元1644-1912年，清太祖爱新觉罗·努尔哈赤，共计：268年 中华民国：公元1912-1949，孙中山，共计：37年 中华人民共和国：公元1949年-至今 中国在1912年建立民国以前，最高统治权力是以家族世袭为主的，这些世袭王族的更替构成了中国朝代。各朝代以“王”或“皇帝”为最高统治者，因为世袭相承，常称为“家天下”。 我国历史悠久，朝代更零星纷繁。每朝的创建者要首手办的第一件事就是确立国号（朝代名称）。国号就是一个国家的称号。《史记·五帝本纪》：“自黄帝至舜禹，皆同姓而异其国号，以章明德。” 公元前21世纪，中国最早的国家夏朝出现。东周推进了生产力发展和社会变革，思想上形成百家争鸣的局面。公元前221年，秦始皇建立了中国历史上第一个统一的专制主义中央集权帝国—秦朝，西汉进一步巩固和发展了大一统的局面。 三国两晋南北朝时，中国陷入分裂割据局面，五胡乱华期间，异族融于中国趋势加强，诸多民族在分立政权的冲突中逐渐汇聚。隋唐时期，中央与边疆少数民族联系更为密切，经济繁荣、科技文化高度发展。宋元时期，多元文化碰撞交融，经济、科技发展到新的高度。明朝鼎盛时期，社会经济高度发展，明末在江南地区出现资本主义萌芽。 中国历史悠久，自黄帝部落的姬轩辕（也称公孙轩辕）时期算起约有5000年；从三皇五帝算起约有4600年；自夏朝算起约有近4100年；从中国第一次大统一的中央集权制的秦朝算起约有2240年。中国历经多次政权演变和朝代更迭，也曾是世界上最强大的国家，经济、文化、科技世界瞩目。 中国又是一个有着辉煌文明的古老国度。从步入文明的门槛之日起， 历代统治者，以其各自的政绩在历史舞台上演出了内容不同的剧目，或名垂青史，或遗臭万年。 在数千年的古代历史上，中华民族以不屈不挠的顽强意志和勇于探索的聪明才智，谱写了波澜壮阔的历史画卷，创造了同期世界历史上极其灿烂的物质文明与精神文明。万里长城、大运河、明清故宫以及多姿多彩的各种出土文物，无不反映出大胆、高超的生产技术 中国人民同时在思想文化、科学技术领域产生了无数杰出的人物，创造出无比博大、深厚的业绩；而包括指南针、造纸术、火药和印刷术这四大发明在内的无数科技成就，更使全人类受益匪浅。 编辑于 2022-10-16 · 著作权归作者所有'},\n",
       " {'url': 'https://zhuanlan.zhihu.com/p/409390451',\n",
       "  'content': '中国上下5000千年历史朝代顺序为：夏朝、 商朝 、西周、东周、秦朝、西楚、西汉、新朝、玄汉、东汉、三国、曹魏、蜀汉、孙吴、西晋、东晋、 十六国 、南朝、刘宋、南齐、南梁、 南陈 、北朝、北魏、东魏、北齐、西魏、北周、隋朝、唐朝、 武周 、唐朝中后期、五代、后梁、后唐、后晋、后汉'},\n",
       " {'url': 'http://www.kw360.net/chaodai/',\n",
       "  'content': '中国一共有多少个朝代顺序中华上下5000年历史共有24个朝代。历史朝代顺序为：夏朝、商朝、西周、东周、秦朝、西楚、西汉、新朝、玄汉、东汉、三国、曹魏、蜀汉、孙吴、西晋、东晋、十六国、南朝、刘宋、南齐、南梁、南陈、北朝、北魏、东魏、北齐、西魏、北周、隋朝、唐朝、武周、唐朝中'},\n",
       " {'url': 'https://zhidao.baidu.com/question/1931150696971481827.html',\n",
       "  'content': '中国一共出现了83个王朝，共有559个帝王，包括397个\"帝\"和162个\"王\"。 一般注销15以后，可以重新注册。 首先需要知道微信成功注销后，原绑定的手机号可以重新注册新的微信，但是需要注意的是一个手机号一年只能注册三次。'},\n",
       " {'url': 'https://www.diyifanwen.com/tool/lishichaodai/126100035061238.html',\n",
       "  'content': '中国历史朝代顺序表、年表（完整版） 朝代起讫年代都城今地统治民族开国皇帝三皇五帝夏朝约公元前2146-1675年安邑山西夏县华夏族禹商朝约公元前1675-1029年亳河南商丘华夏族汤周西周约公元前1029-771年镐京陕西西安华夏族周文王姬昌东周春秋前770-476年洛邑河南洛阳华夏族周平'}]"
      ]
     },
     "execution_count": 11,
     "metadata": {},
     "output_type": "execute_result"
    }
   ],
   "source": [
    "search.invoke(\"中国有几个古代王朝？\")"
   ]
  },
  {
   "cell_type": "code",
   "execution_count": 12,
   "metadata": {},
   "outputs": [],
   "source": [
    "def _get_current_task(state: ReWOO):\n",
    "    if \"results\" not in state or state[\"results\"] is None:\n",
    "        return 1\n",
    "    if len(state[\"results\"]) == len(state[\"steps\"]):\n",
    "        return None\n",
    "    else:\n",
    "        return len(state[\"results\"]) + 1\n",
    "\n",
    "\n",
    "def tool_execution(state: ReWOO):\n",
    "    \"\"\"Worker node that executes the tools of a given plan.\"\"\"\n",
    "    _step = _get_current_task(state)\n",
    "    _, step_name, tool, tool_input = state[\"steps\"][_step - 1]\n",
    "    _results = (state[\"results\"] or {}) if \"results\" in state else {}\n",
    "    for k, v in _results.items():\n",
    "        tool_input = tool_input.replace(k, v)\n",
    "    if tool == \"Google\":\n",
    "        result = search.invoke(tool_input)\n",
    "    elif tool == \"LLM\":\n",
    "        result = model.invoke(tool_input)\n",
    "    else:\n",
    "        raise ValueError\n",
    "    _results[step_name] = str(result)\n",
    "    return {\"results\": _results}"
   ]
  },
  {
   "cell_type": "markdown",
   "metadata": {},
   "source": [
    "# Solver"
   ]
  },
  {
   "cell_type": "code",
   "execution_count": 13,
   "metadata": {},
   "outputs": [],
   "source": [
    "solve_prompt = \"\"\"Solve the following task or problem. To solve the problem, we have made step-by-step Plan and \\\n",
    "retrieved corresponding Evidence to each Plan. Use them with caution since long evidence might \\\n",
    "contain irrelevant information.\n",
    "\n",
    "{plan}\n",
    "\n",
    "Now solve the question or task according to provided Evidence above. Respond with the answer\n",
    "directly with no extra words.\n",
    "\n",
    "Task: {task}\n",
    "Response:\"\"\"\n",
    "\n",
    "\n",
    "def solve(state: ReWOO):\n",
    "    plan = \"\"\n",
    "    for _plan, step_name, tool, tool_input in state[\"steps\"]:\n",
    "        _results = (state[\"results\"] or {}) if \"results\" in state else {}\n",
    "        for k, v in _results.items():\n",
    "            tool_input = tool_input.replace(k, v)\n",
    "            step_name = step_name.replace(k, v)\n",
    "        plan += f\"Plan: {_plan}\\n{step_name} = {tool}[{tool_input}]\"\n",
    "    prompt = solve_prompt.format(plan=plan, task=state[\"task\"])\n",
    "    result = model.invoke(prompt)\n",
    "    return {\"result\": result.content}"
   ]
  },
  {
   "cell_type": "markdown",
   "metadata": {},
   "source": [
    "# Define Graph"
   ]
  },
  {
   "cell_type": "code",
   "execution_count": 14,
   "metadata": {},
   "outputs": [],
   "source": [
    "def _route(state):\n",
    "    _step = _get_current_task(state)\n",
    "    if _step is None:\n",
    "        # We have executed all tasks\n",
    "        return \"solve\"\n",
    "    else:\n",
    "        # We are still executing tasks, loop back to the \"tool\" node\n",
    "        return \"tool\""
   ]
  },
  {
   "cell_type": "code",
   "execution_count": 15,
   "metadata": {},
   "outputs": [],
   "source": [
    "from langgraph.graph import END, StateGraph, START\n",
    "\n",
    "graph = StateGraph(ReWOO)\n",
    "graph.add_node(\"plan\", get_plan)\n",
    "graph.add_node(\"tool\", tool_execution)\n",
    "graph.add_node(\"solve\", solve)\n",
    "graph.add_edge(\"plan\", \"tool\")\n",
    "graph.add_edge(\"solve\", END)\n",
    "graph.add_conditional_edges(\"tool\", _route)\n",
    "graph.add_edge(START, \"plan\")\n",
    "\n",
    "app = graph.compile()"
   ]
  },
  {
   "cell_type": "code",
   "execution_count": 16,
   "metadata": {},
   "outputs": [
    {
     "name": "stdout",
     "output_type": "stream",
     "text": [
      "{'plan': {'steps': [(\"Identify the winner of the 2024 Men's Australian Open. Since this is a recent event, use Google to search for the winner's name.  \", '#E1', 'Google', \"Who won the 2024 Men's Australian Open?\"), (\"Once the winner's name is known, use Google again to find the exact hometown of the winner.  \", '#E2', 'Google', \"What is the exact hometown of {winner's name from #E1}?\"), (\"Verify the accuracy of the hometown information by cross-referencing with a reliable source or the winner's official profile.  \", '#E3', 'Google', \"Official profile or reliable source for {winner's name from #E1} hometown confirmation\"), ('If necessary, use an LLM to summarize or clarify the information retrieved from the previous steps.  ', '#E4', 'LLM', \"Summarize the hometown information for {winner's name from #E1} based on #E2 and #E3.\")], 'plan_string': \"Plan: Identify the winner of the 2024 Men's Australian Open. Since this is a recent event, use Google to search for the winner's name.  \\n#E1 = Google[Who won the 2024 Men's Australian Open?]  \\n\\nPlan: Once the winner's name is known, use Google again to find the exact hometown of the winner.  \\n#E2 = Google[What is the exact hometown of {winner's name from #E1}?]  \\n\\nPlan: Verify the accuracy of the hometown information by cross-referencing with a reliable source or the winner's official profile.  \\n#E3 = Google[Official profile or reliable source for {winner's name from #E1} hometown confirmation]  \\n\\nPlan: If necessary, use an LLM to summarize or clarify the information retrieved from the previous steps.  \\n#E4 = LLM[Summarize the hometown information for {winner's name from #E1} based on #E2 and #E3.]\"}}\n",
      "---\n",
      "{'tool': {'results': {'#E1': '[{\\'url\\': \"https://en.wikipedia.org/wiki/2024_Australian_Open_–_Men\\'s_singles_final\", \\'content\\': \"This was the first Australian Open final since 2005 not to feature any of the Big Three members.[5]\\\\nMedvedev set an Open Era record for the most time spent playing at a singles major, at 24 hours and 17 minutes.[6] Medvedev also became the first player in the Open Era to lose two major finals after having a two-set lead.[7]\\\\nBackground[edit]\\\\nEntering the final, Medvedev lead the career head-to-head 6–3. He became the second Italian man in the Open Era to win a singles major, after Adriano Panatta at the 1976 French Open,[2] and the first new Australian Open champion in ten years, since Stan Wawrinka in 2014.[3] At 22, Sinner was the youngest Australian Open men\\'s singles champion and finalist since Novak Djokovic in 2008.[4] Contents\\\\n2024 Australian Open – Men\\'s singles final\\\\nThe 2024 Australian Open Men\\'s Singles final was the championship tennis match of the men\\'s singles tournament at the 2024 Australian Open, contested by fourth-seed Jannik Sinner and third-seed Daniil Medvedev. Also in the semifinals, Medvedev came back from two-sets-to-love down against Alexander Zverev to reach a third Australian Open final.[9] Medvedev had already played two other five-set matches, against Emil Ruusuvuori in the second round (when he came back from two-sets-to-love down as well) and against Hubert Hurkacz in the quarterfinals.\\\\n Novak Djokovic, ending his 33-match winning streak at the Australian Open (dating back from the 2019 tournament), as well as marking the Serbian\\'s first-ever defeat in an Australian Open semifinal and his first defeat in any major semifinal since the 2019 French Open.\"}, {\\'url\\': \\'https://currentaffairs.adda247.com/australian-open-2024-winners-sinner-sabalenka-and-bopanna-shine/\\', \\'content\\': \\'They defeated Italians Simone Bolelli and Andrea Vavassori.\\\\nBopanna, set to become the oldest men’s doubles number one, holds several records, including the oldest major men’s doubles winner in the Open era.\\\\n Women’s Singles\\\\nMen’s Doubles\\\\nRohan Bopanna, aged 43, secured his first men’s doubles Grand Slam title at the Australian Open with partner Matthew Ebden. Australian Open 2024 Winners: Sinner, Sabalenka, Bopanna, Hsieh, and Zielinski Triumph\\\\nJannik Sinner secured his first Grand Slam in men’s singles, while Aryna Sabalenka claimed her second in women’s singles. Women’s Doubles\\\\nMixed Doubles\\\\nAdditional Highlights\\\\nTOPICS:\\\\nPost navigation\\\\nWelcome to the Current Affairs Section of Adda247. He became the 27th different men’s singles winner in Melbourne since the Open era began in 1969 and the first Italian to achieve this feat.\\\\n\\'}, {\\'url\\': \\'https://www.cbssports.com/tennis/news/australian-open-2024-jannik-sinner-aryna-sabalenka-crowned-as-grand-slam-singles-champions-at-melbourne-park/\\', \\'content\\': \"Qinwen Zheng, 6-3, 6-2\\\\nOur Latest Tennis Stories\\\\nSinner, Sabalenka win Australian Open singles titles\\\\nSinner makes epic comeback to win Australian Open\\\\n2024 Australian Open odds, Sinner vs. Medvedev picks\\\\nSabalenka defeats Zheng to win 2024 Australian Open\\\\n2024 Australian Open odds, Sabalenka vs. Zheng picks\\\\n2024 Australian Open odds, Medvedev vs. Zverev picks\\\\nAustralian Open odds: Djokovic vs. Sinner picks, bets\\\\nAustralian Open odds: Gauff vs. Sabalenka picks, bets\\\\nAustralian Open odds: Australian Open 2024: Jannik Sinner, Aryna Sabalenka crowned as Grand Slam singles champions at Melbourne Park\\\\nSinner and Sabalenka took down Daniil Medvedev and Qinwen Zheng in their respective finals\\\\nJannik Sinner came back from two sets down to beat Daniil Medvedev 3-6, 3-6, 6-4, 6-4, 6-3 in the Australian Open men\\'s singles final, earning him his first ever Grand Slam title. Here is all you need to know about the 2024 Australian Open:\\\\nHow to watch the 2024 Australian Open\\\\nMen\\'s seeding\\\\nWomen\\'s seeding\\\\nMen\\'s final:\\\\nNo. 4 Jannik Sinner def. The 22-year-old became the first Italian man to win the Australian Open since 1976, and he is also the youngest player to win at Melbourne Park since Novak Djokovic in 2008.\\\\n No. 3 Daniil Medvedev, 3-6, 3-6, 6-4, 6-4, 6-3\\\\nWomen\\'s final:\\\\n\"}, {\\'url\\': \\'https://www.bbc.com/sport/tennis/68120937\\', \\'content\\': \\'Live scores, results and order of play\\\\nAlerts: Get tennis news sent to your phone\\\\nRelated Topics\\\\nTop Stories\\\\nFA Cup: Blackburn Rovers v Wrexham - live text commentary\\\\nRussian skater Valieva given four-year ban for doping\\\\nLinks to Barcelona are \\\\\\'totally untrue\\\\\\' - Arteta\\\\nElsewhere on the BBC\\\\nThe truth behind the fake grooming scandal\\\\nFeaturing unseen police footage and interviews with the officers at the heart of the case\\\\nDid their father and uncle kill Nazi war criminals?\\\\n A real-life murder mystery following three brothers in their quest for the truth\\\\nWhat was it like to travel on the fastest plane?\\\\nTake a behind-the-scenes look at the supersonic story of the Concorde\\\\nToxic love, ruthless ambition and shocking betrayal\\\\nTell Me Lies follows a passionate college relationship with unimaginable consequences...\\\\n \"\\\\nMarathon man Medvedev runs out of steam\\\\nMedvedev is the first player to lose two Grand Slam finals after winning the opening two sets\\\\nSo many players with the experience of a Grand Slam final have talked about how different the occasion can be, particularly if it is the first time, and potentially overwhelming.\\\\n Jannik Sinner beats Daniil Medvedev in Melbourne final\\\\nJannik Sinner is the youngest player to win the Australian Open men\\\\\\'s title since Novak Djokovic in 2008\\\\nJannik Sinner landed the Grand Slam title he has long promised with an extraordinary fightback to beat Daniil Medvedev in the Australian Open final.\\\\n \"\\\\nSinner starts 2024 in inspired form\\\\nSinner won the first Australian Open men\\\\\\'s final since 2005 which did not feature Roger Federer, Rafael Nadal or Novak Djokovic\\\\nSinner was brought to the forefront of conversation when discussing Grand Slam champions in 2024 following a stunning end to last season.\\\\n\\'}, {\\'url\\': \\'https://www.sportingnews.com/au/golf/news/who-won-australian-open-updated-results-2024-mens-and-womens-tournaments/571dd7de4ad71c2ecc1e43c1\\', \\'content\\': \"Updated results for 2024 men\\'s and women\\'s tournaments | Sporting News Australia Emerging Aussie Curtis Luck looked like he might charge his way to a breakthrough victory of his own late in the round but a bogey on 17, after Johnston birdied 14 and 15, cost him in the end. The 28-year-old West Australian carded a four-under final round 68 to finish at -15 for the tournament. In the women\\'s event, former world number one Jiyai Shin collected a second Australian Open title, adding to her win from 2013 with a two-stroke victory. The South Korean led by two going into the final round but a disappointing Sunday from Australia\\'s Hannah Green gave Shin the advantage. ### Tom Naghten  Tom Naghten is a senior editor at The Sporting News Australia where he\\'s been part of the team since 2017.\"}]'}}}\n",
      "---\n",
      "{'tool': {'results': {'#E1': '[{\\'url\\': \"https://en.wikipedia.org/wiki/2024_Australian_Open_–_Men\\'s_singles_final\", \\'content\\': \"This was the first Australian Open final since 2005 not to feature any of the Big Three members.[5]\\\\nMedvedev set an Open Era record for the most time spent playing at a singles major, at 24 hours and 17 minutes.[6] Medvedev also became the first player in the Open Era to lose two major finals after having a two-set lead.[7]\\\\nBackground[edit]\\\\nEntering the final, Medvedev lead the career head-to-head 6–3. He became the second Italian man in the Open Era to win a singles major, after Adriano Panatta at the 1976 French Open,[2] and the first new Australian Open champion in ten years, since Stan Wawrinka in 2014.[3] At 22, Sinner was the youngest Australian Open men\\'s singles champion and finalist since Novak Djokovic in 2008.[4] Contents\\\\n2024 Australian Open – Men\\'s singles final\\\\nThe 2024 Australian Open Men\\'s Singles final was the championship tennis match of the men\\'s singles tournament at the 2024 Australian Open, contested by fourth-seed Jannik Sinner and third-seed Daniil Medvedev. Also in the semifinals, Medvedev came back from two-sets-to-love down against Alexander Zverev to reach a third Australian Open final.[9] Medvedev had already played two other five-set matches, against Emil Ruusuvuori in the second round (when he came back from two-sets-to-love down as well) and against Hubert Hurkacz in the quarterfinals.\\\\n Novak Djokovic, ending his 33-match winning streak at the Australian Open (dating back from the 2019 tournament), as well as marking the Serbian\\'s first-ever defeat in an Australian Open semifinal and his first defeat in any major semifinal since the 2019 French Open.\"}, {\\'url\\': \\'https://currentaffairs.adda247.com/australian-open-2024-winners-sinner-sabalenka-and-bopanna-shine/\\', \\'content\\': \\'They defeated Italians Simone Bolelli and Andrea Vavassori.\\\\nBopanna, set to become the oldest men’s doubles number one, holds several records, including the oldest major men’s doubles winner in the Open era.\\\\n Women’s Singles\\\\nMen’s Doubles\\\\nRohan Bopanna, aged 43, secured his first men’s doubles Grand Slam title at the Australian Open with partner Matthew Ebden. Australian Open 2024 Winners: Sinner, Sabalenka, Bopanna, Hsieh, and Zielinski Triumph\\\\nJannik Sinner secured his first Grand Slam in men’s singles, while Aryna Sabalenka claimed her second in women’s singles. Women’s Doubles\\\\nMixed Doubles\\\\nAdditional Highlights\\\\nTOPICS:\\\\nPost navigation\\\\nWelcome to the Current Affairs Section of Adda247. He became the 27th different men’s singles winner in Melbourne since the Open era began in 1969 and the first Italian to achieve this feat.\\\\n\\'}, {\\'url\\': \\'https://www.cbssports.com/tennis/news/australian-open-2024-jannik-sinner-aryna-sabalenka-crowned-as-grand-slam-singles-champions-at-melbourne-park/\\', \\'content\\': \"Qinwen Zheng, 6-3, 6-2\\\\nOur Latest Tennis Stories\\\\nSinner, Sabalenka win Australian Open singles titles\\\\nSinner makes epic comeback to win Australian Open\\\\n2024 Australian Open odds, Sinner vs. Medvedev picks\\\\nSabalenka defeats Zheng to win 2024 Australian Open\\\\n2024 Australian Open odds, Sabalenka vs. Zheng picks\\\\n2024 Australian Open odds, Medvedev vs. Zverev picks\\\\nAustralian Open odds: Djokovic vs. Sinner picks, bets\\\\nAustralian Open odds: Gauff vs. Sabalenka picks, bets\\\\nAustralian Open odds: Australian Open 2024: Jannik Sinner, Aryna Sabalenka crowned as Grand Slam singles champions at Melbourne Park\\\\nSinner and Sabalenka took down Daniil Medvedev and Qinwen Zheng in their respective finals\\\\nJannik Sinner came back from two sets down to beat Daniil Medvedev 3-6, 3-6, 6-4, 6-4, 6-3 in the Australian Open men\\'s singles final, earning him his first ever Grand Slam title. Here is all you need to know about the 2024 Australian Open:\\\\nHow to watch the 2024 Australian Open\\\\nMen\\'s seeding\\\\nWomen\\'s seeding\\\\nMen\\'s final:\\\\nNo. 4 Jannik Sinner def. The 22-year-old became the first Italian man to win the Australian Open since 1976, and he is also the youngest player to win at Melbourne Park since Novak Djokovic in 2008.\\\\n No. 3 Daniil Medvedev, 3-6, 3-6, 6-4, 6-4, 6-3\\\\nWomen\\'s final:\\\\n\"}, {\\'url\\': \\'https://www.bbc.com/sport/tennis/68120937\\', \\'content\\': \\'Live scores, results and order of play\\\\nAlerts: Get tennis news sent to your phone\\\\nRelated Topics\\\\nTop Stories\\\\nFA Cup: Blackburn Rovers v Wrexham - live text commentary\\\\nRussian skater Valieva given four-year ban for doping\\\\nLinks to Barcelona are \\\\\\'totally untrue\\\\\\' - Arteta\\\\nElsewhere on the BBC\\\\nThe truth behind the fake grooming scandal\\\\nFeaturing unseen police footage and interviews with the officers at the heart of the case\\\\nDid their father and uncle kill Nazi war criminals?\\\\n A real-life murder mystery following three brothers in their quest for the truth\\\\nWhat was it like to travel on the fastest plane?\\\\nTake a behind-the-scenes look at the supersonic story of the Concorde\\\\nToxic love, ruthless ambition and shocking betrayal\\\\nTell Me Lies follows a passionate college relationship with unimaginable consequences...\\\\n \"\\\\nMarathon man Medvedev runs out of steam\\\\nMedvedev is the first player to lose two Grand Slam finals after winning the opening two sets\\\\nSo many players with the experience of a Grand Slam final have talked about how different the occasion can be, particularly if it is the first time, and potentially overwhelming.\\\\n Jannik Sinner beats Daniil Medvedev in Melbourne final\\\\nJannik Sinner is the youngest player to win the Australian Open men\\\\\\'s title since Novak Djokovic in 2008\\\\nJannik Sinner landed the Grand Slam title he has long promised with an extraordinary fightback to beat Daniil Medvedev in the Australian Open final.\\\\n \"\\\\nSinner starts 2024 in inspired form\\\\nSinner won the first Australian Open men\\\\\\'s final since 2005 which did not feature Roger Federer, Rafael Nadal or Novak Djokovic\\\\nSinner was brought to the forefront of conversation when discussing Grand Slam champions in 2024 following a stunning end to last season.\\\\n\\'}, {\\'url\\': \\'https://www.sportingnews.com/au/golf/news/who-won-australian-open-updated-results-2024-mens-and-womens-tournaments/571dd7de4ad71c2ecc1e43c1\\', \\'content\\': \"Updated results for 2024 men\\'s and women\\'s tournaments | Sporting News Australia Emerging Aussie Curtis Luck looked like he might charge his way to a breakthrough victory of his own late in the round but a bogey on 17, after Johnston birdied 14 and 15, cost him in the end. The 28-year-old West Australian carded a four-under final round 68 to finish at -15 for the tournament. In the women\\'s event, former world number one Jiyai Shin collected a second Australian Open title, adding to her win from 2013 with a two-stroke victory. The South Korean led by two going into the final round but a disappointing Sunday from Australia\\'s Hannah Green gave Shin the advantage. ### Tom Naghten  Tom Naghten is a senior editor at The Sporting News Australia where he\\'s been part of the team since 2017.\"}]', '#E2': \"HTTPError('400 Client Error: Bad Request for url: https://api.tavily.com/search')\"}}}\n",
      "---\n",
      "{'tool': {'results': {'#E1': '[{\\'url\\': \"https://en.wikipedia.org/wiki/2024_Australian_Open_–_Men\\'s_singles_final\", \\'content\\': \"This was the first Australian Open final since 2005 not to feature any of the Big Three members.[5]\\\\nMedvedev set an Open Era record for the most time spent playing at a singles major, at 24 hours and 17 minutes.[6] Medvedev also became the first player in the Open Era to lose two major finals after having a two-set lead.[7]\\\\nBackground[edit]\\\\nEntering the final, Medvedev lead the career head-to-head 6–3. He became the second Italian man in the Open Era to win a singles major, after Adriano Panatta at the 1976 French Open,[2] and the first new Australian Open champion in ten years, since Stan Wawrinka in 2014.[3] At 22, Sinner was the youngest Australian Open men\\'s singles champion and finalist since Novak Djokovic in 2008.[4] Contents\\\\n2024 Australian Open – Men\\'s singles final\\\\nThe 2024 Australian Open Men\\'s Singles final was the championship tennis match of the men\\'s singles tournament at the 2024 Australian Open, contested by fourth-seed Jannik Sinner and third-seed Daniil Medvedev. Also in the semifinals, Medvedev came back from two-sets-to-love down against Alexander Zverev to reach a third Australian Open final.[9] Medvedev had already played two other five-set matches, against Emil Ruusuvuori in the second round (when he came back from two-sets-to-love down as well) and against Hubert Hurkacz in the quarterfinals.\\\\n Novak Djokovic, ending his 33-match winning streak at the Australian Open (dating back from the 2019 tournament), as well as marking the Serbian\\'s first-ever defeat in an Australian Open semifinal and his first defeat in any major semifinal since the 2019 French Open.\"}, {\\'url\\': \\'https://currentaffairs.adda247.com/australian-open-2024-winners-sinner-sabalenka-and-bopanna-shine/\\', \\'content\\': \\'They defeated Italians Simone Bolelli and Andrea Vavassori.\\\\nBopanna, set to become the oldest men’s doubles number one, holds several records, including the oldest major men’s doubles winner in the Open era.\\\\n Women’s Singles\\\\nMen’s Doubles\\\\nRohan Bopanna, aged 43, secured his first men’s doubles Grand Slam title at the Australian Open with partner Matthew Ebden. Australian Open 2024 Winners: Sinner, Sabalenka, Bopanna, Hsieh, and Zielinski Triumph\\\\nJannik Sinner secured his first Grand Slam in men’s singles, while Aryna Sabalenka claimed her second in women’s singles. Women’s Doubles\\\\nMixed Doubles\\\\nAdditional Highlights\\\\nTOPICS:\\\\nPost navigation\\\\nWelcome to the Current Affairs Section of Adda247. He became the 27th different men’s singles winner in Melbourne since the Open era began in 1969 and the first Italian to achieve this feat.\\\\n\\'}, {\\'url\\': \\'https://www.cbssports.com/tennis/news/australian-open-2024-jannik-sinner-aryna-sabalenka-crowned-as-grand-slam-singles-champions-at-melbourne-park/\\', \\'content\\': \"Qinwen Zheng, 6-3, 6-2\\\\nOur Latest Tennis Stories\\\\nSinner, Sabalenka win Australian Open singles titles\\\\nSinner makes epic comeback to win Australian Open\\\\n2024 Australian Open odds, Sinner vs. Medvedev picks\\\\nSabalenka defeats Zheng to win 2024 Australian Open\\\\n2024 Australian Open odds, Sabalenka vs. Zheng picks\\\\n2024 Australian Open odds, Medvedev vs. Zverev picks\\\\nAustralian Open odds: Djokovic vs. Sinner picks, bets\\\\nAustralian Open odds: Gauff vs. Sabalenka picks, bets\\\\nAustralian Open odds: Australian Open 2024: Jannik Sinner, Aryna Sabalenka crowned as Grand Slam singles champions at Melbourne Park\\\\nSinner and Sabalenka took down Daniil Medvedev and Qinwen Zheng in their respective finals\\\\nJannik Sinner came back from two sets down to beat Daniil Medvedev 3-6, 3-6, 6-4, 6-4, 6-3 in the Australian Open men\\'s singles final, earning him his first ever Grand Slam title. Here is all you need to know about the 2024 Australian Open:\\\\nHow to watch the 2024 Australian Open\\\\nMen\\'s seeding\\\\nWomen\\'s seeding\\\\nMen\\'s final:\\\\nNo. 4 Jannik Sinner def. The 22-year-old became the first Italian man to win the Australian Open since 1976, and he is also the youngest player to win at Melbourne Park since Novak Djokovic in 2008.\\\\n No. 3 Daniil Medvedev, 3-6, 3-6, 6-4, 6-4, 6-3\\\\nWomen\\'s final:\\\\n\"}, {\\'url\\': \\'https://www.bbc.com/sport/tennis/68120937\\', \\'content\\': \\'Live scores, results and order of play\\\\nAlerts: Get tennis news sent to your phone\\\\nRelated Topics\\\\nTop Stories\\\\nFA Cup: Blackburn Rovers v Wrexham - live text commentary\\\\nRussian skater Valieva given four-year ban for doping\\\\nLinks to Barcelona are \\\\\\'totally untrue\\\\\\' - Arteta\\\\nElsewhere on the BBC\\\\nThe truth behind the fake grooming scandal\\\\nFeaturing unseen police footage and interviews with the officers at the heart of the case\\\\nDid their father and uncle kill Nazi war criminals?\\\\n A real-life murder mystery following three brothers in their quest for the truth\\\\nWhat was it like to travel on the fastest plane?\\\\nTake a behind-the-scenes look at the supersonic story of the Concorde\\\\nToxic love, ruthless ambition and shocking betrayal\\\\nTell Me Lies follows a passionate college relationship with unimaginable consequences...\\\\n \"\\\\nMarathon man Medvedev runs out of steam\\\\nMedvedev is the first player to lose two Grand Slam finals after winning the opening two sets\\\\nSo many players with the experience of a Grand Slam final have talked about how different the occasion can be, particularly if it is the first time, and potentially overwhelming.\\\\n Jannik Sinner beats Daniil Medvedev in Melbourne final\\\\nJannik Sinner is the youngest player to win the Australian Open men\\\\\\'s title since Novak Djokovic in 2008\\\\nJannik Sinner landed the Grand Slam title he has long promised with an extraordinary fightback to beat Daniil Medvedev in the Australian Open final.\\\\n \"\\\\nSinner starts 2024 in inspired form\\\\nSinner won the first Australian Open men\\\\\\'s final since 2005 which did not feature Roger Federer, Rafael Nadal or Novak Djokovic\\\\nSinner was brought to the forefront of conversation when discussing Grand Slam champions in 2024 following a stunning end to last season.\\\\n\\'}, {\\'url\\': \\'https://www.sportingnews.com/au/golf/news/who-won-australian-open-updated-results-2024-mens-and-womens-tournaments/571dd7de4ad71c2ecc1e43c1\\', \\'content\\': \"Updated results for 2024 men\\'s and women\\'s tournaments | Sporting News Australia Emerging Aussie Curtis Luck looked like he might charge his way to a breakthrough victory of his own late in the round but a bogey on 17, after Johnston birdied 14 and 15, cost him in the end. The 28-year-old West Australian carded a four-under final round 68 to finish at -15 for the tournament. In the women\\'s event, former world number one Jiyai Shin collected a second Australian Open title, adding to her win from 2013 with a two-stroke victory. The South Korean led by two going into the final round but a disappointing Sunday from Australia\\'s Hannah Green gave Shin the advantage. ### Tom Naghten  Tom Naghten is a senior editor at The Sporting News Australia where he\\'s been part of the team since 2017.\"}]', '#E2': \"HTTPError('400 Client Error: Bad Request for url: https://api.tavily.com/search')\", '#E3': \"HTTPError('400 Client Error: Bad Request for url: https://api.tavily.com/search')\"}}}\n",
      "---\n",
      "{'tool': {'results': {'#E1': '[{\\'url\\': \"https://en.wikipedia.org/wiki/2024_Australian_Open_–_Men\\'s_singles_final\", \\'content\\': \"This was the first Australian Open final since 2005 not to feature any of the Big Three members.[5]\\\\nMedvedev set an Open Era record for the most time spent playing at a singles major, at 24 hours and 17 minutes.[6] Medvedev also became the first player in the Open Era to lose two major finals after having a two-set lead.[7]\\\\nBackground[edit]\\\\nEntering the final, Medvedev lead the career head-to-head 6–3. He became the second Italian man in the Open Era to win a singles major, after Adriano Panatta at the 1976 French Open,[2] and the first new Australian Open champion in ten years, since Stan Wawrinka in 2014.[3] At 22, Sinner was the youngest Australian Open men\\'s singles champion and finalist since Novak Djokovic in 2008.[4] Contents\\\\n2024 Australian Open – Men\\'s singles final\\\\nThe 2024 Australian Open Men\\'s Singles final was the championship tennis match of the men\\'s singles tournament at the 2024 Australian Open, contested by fourth-seed Jannik Sinner and third-seed Daniil Medvedev. Also in the semifinals, Medvedev came back from two-sets-to-love down against Alexander Zverev to reach a third Australian Open final.[9] Medvedev had already played two other five-set matches, against Emil Ruusuvuori in the second round (when he came back from two-sets-to-love down as well) and against Hubert Hurkacz in the quarterfinals.\\\\n Novak Djokovic, ending his 33-match winning streak at the Australian Open (dating back from the 2019 tournament), as well as marking the Serbian\\'s first-ever defeat in an Australian Open semifinal and his first defeat in any major semifinal since the 2019 French Open.\"}, {\\'url\\': \\'https://currentaffairs.adda247.com/australian-open-2024-winners-sinner-sabalenka-and-bopanna-shine/\\', \\'content\\': \\'They defeated Italians Simone Bolelli and Andrea Vavassori.\\\\nBopanna, set to become the oldest men’s doubles number one, holds several records, including the oldest major men’s doubles winner in the Open era.\\\\n Women’s Singles\\\\nMen’s Doubles\\\\nRohan Bopanna, aged 43, secured his first men’s doubles Grand Slam title at the Australian Open with partner Matthew Ebden. Australian Open 2024 Winners: Sinner, Sabalenka, Bopanna, Hsieh, and Zielinski Triumph\\\\nJannik Sinner secured his first Grand Slam in men’s singles, while Aryna Sabalenka claimed her second in women’s singles. Women’s Doubles\\\\nMixed Doubles\\\\nAdditional Highlights\\\\nTOPICS:\\\\nPost navigation\\\\nWelcome to the Current Affairs Section of Adda247. He became the 27th different men’s singles winner in Melbourne since the Open era began in 1969 and the first Italian to achieve this feat.\\\\n\\'}, {\\'url\\': \\'https://www.cbssports.com/tennis/news/australian-open-2024-jannik-sinner-aryna-sabalenka-crowned-as-grand-slam-singles-champions-at-melbourne-park/\\', \\'content\\': \"Qinwen Zheng, 6-3, 6-2\\\\nOur Latest Tennis Stories\\\\nSinner, Sabalenka win Australian Open singles titles\\\\nSinner makes epic comeback to win Australian Open\\\\n2024 Australian Open odds, Sinner vs. Medvedev picks\\\\nSabalenka defeats Zheng to win 2024 Australian Open\\\\n2024 Australian Open odds, Sabalenka vs. Zheng picks\\\\n2024 Australian Open odds, Medvedev vs. Zverev picks\\\\nAustralian Open odds: Djokovic vs. Sinner picks, bets\\\\nAustralian Open odds: Gauff vs. Sabalenka picks, bets\\\\nAustralian Open odds: Australian Open 2024: Jannik Sinner, Aryna Sabalenka crowned as Grand Slam singles champions at Melbourne Park\\\\nSinner and Sabalenka took down Daniil Medvedev and Qinwen Zheng in their respective finals\\\\nJannik Sinner came back from two sets down to beat Daniil Medvedev 3-6, 3-6, 6-4, 6-4, 6-3 in the Australian Open men\\'s singles final, earning him his first ever Grand Slam title. Here is all you need to know about the 2024 Australian Open:\\\\nHow to watch the 2024 Australian Open\\\\nMen\\'s seeding\\\\nWomen\\'s seeding\\\\nMen\\'s final:\\\\nNo. 4 Jannik Sinner def. The 22-year-old became the first Italian man to win the Australian Open since 1976, and he is also the youngest player to win at Melbourne Park since Novak Djokovic in 2008.\\\\n No. 3 Daniil Medvedev, 3-6, 3-6, 6-4, 6-4, 6-3\\\\nWomen\\'s final:\\\\n\"}, {\\'url\\': \\'https://www.bbc.com/sport/tennis/68120937\\', \\'content\\': \\'Live scores, results and order of play\\\\nAlerts: Get tennis news sent to your phone\\\\nRelated Topics\\\\nTop Stories\\\\nFA Cup: Blackburn Rovers v Wrexham - live text commentary\\\\nRussian skater Valieva given four-year ban for doping\\\\nLinks to Barcelona are \\\\\\'totally untrue\\\\\\' - Arteta\\\\nElsewhere on the BBC\\\\nThe truth behind the fake grooming scandal\\\\nFeaturing unseen police footage and interviews with the officers at the heart of the case\\\\nDid their father and uncle kill Nazi war criminals?\\\\n A real-life murder mystery following three brothers in their quest for the truth\\\\nWhat was it like to travel on the fastest plane?\\\\nTake a behind-the-scenes look at the supersonic story of the Concorde\\\\nToxic love, ruthless ambition and shocking betrayal\\\\nTell Me Lies follows a passionate college relationship with unimaginable consequences...\\\\n \"\\\\nMarathon man Medvedev runs out of steam\\\\nMedvedev is the first player to lose two Grand Slam finals after winning the opening two sets\\\\nSo many players with the experience of a Grand Slam final have talked about how different the occasion can be, particularly if it is the first time, and potentially overwhelming.\\\\n Jannik Sinner beats Daniil Medvedev in Melbourne final\\\\nJannik Sinner is the youngest player to win the Australian Open men\\\\\\'s title since Novak Djokovic in 2008\\\\nJannik Sinner landed the Grand Slam title he has long promised with an extraordinary fightback to beat Daniil Medvedev in the Australian Open final.\\\\n \"\\\\nSinner starts 2024 in inspired form\\\\nSinner won the first Australian Open men\\\\\\'s final since 2005 which did not feature Roger Federer, Rafael Nadal or Novak Djokovic\\\\nSinner was brought to the forefront of conversation when discussing Grand Slam champions in 2024 following a stunning end to last season.\\\\n\\'}, {\\'url\\': \\'https://www.sportingnews.com/au/golf/news/who-won-australian-open-updated-results-2024-mens-and-womens-tournaments/571dd7de4ad71c2ecc1e43c1\\', \\'content\\': \"Updated results for 2024 men\\'s and women\\'s tournaments | Sporting News Australia Emerging Aussie Curtis Luck looked like he might charge his way to a breakthrough victory of his own late in the round but a bogey on 17, after Johnston birdied 14 and 15, cost him in the end. The 28-year-old West Australian carded a four-under final round 68 to finish at -15 for the tournament. In the women\\'s event, former world number one Jiyai Shin collected a second Australian Open title, adding to her win from 2013 with a two-stroke victory. The South Korean led by two going into the final round but a disappointing Sunday from Australia\\'s Hannah Green gave Shin the advantage. ### Tom Naghten  Tom Naghten is a senior editor at The Sporting News Australia where he\\'s been part of the team since 2017.\"}]', '#E2': \"HTTPError('400 Client Error: Bad Request for url: https://api.tavily.com/search')\", '#E3': \"HTTPError('400 Client Error: Bad Request for url: https://api.tavily.com/search')\", '#E4': 'content=\"The winner of the 2024 Australian Open Men\\'s Singles final is **Jannik Sinner**. He defeated Daniil Medvedev in a thrilling five-set match, coming back from two sets down to win 3-6, 3-6, 6-4, 6-4, 6-3. This victory marked Sinner\\'s first Grand Slam title, making him the first Italian man to win the Australian Open since 1976 and the youngest champion at Melbourne Park since Novak Djokovic in 2008.\\\\n\\\\n### Hometown Information for Jannik Sinner:\\\\nJannik Sinner was born on **August 16, 2001**, in **San Candido (Innichen)**, a small town in the **South Tyrol region of northern Italy**. South Tyrol is a bilingual region known for its Alpine landscapes and strong cultural ties to both Italy and Austria. Sinner grew up in a region where skiing was more popular than tennis, but he eventually shifted his focus to tennis, showcasing his talent at a young age. His hometown\\'s unique cultural and geographical setting has played a role in shaping his disciplined and determined approach to the sport.\" additional_kwargs={\\'refusal\\': None} response_metadata={\\'token_usage\\': {\\'completion_tokens\\': 241, \\'prompt_tokens\\': 1839, \\'total_tokens\\': 2080, \\'completion_tokens_details\\': None, \\'prompt_tokens_details\\': None, \\'prompt_cache_hit_tokens\\': 0, \\'prompt_cache_miss_tokens\\': 1839}, \\'model_name\\': \\'deepseek-chat\\', \\'system_fingerprint\\': \\'fp_3a5770e1b4\\', \\'finish_reason\\': \\'stop\\', \\'logprobs\\': None} id=\\'run-e4ce5c31-8f06-45e7-8cbf-dacf14a3bed6-0\\' usage_metadata={\\'input_tokens\\': 1839, \\'output_tokens\\': 241, \\'total_tokens\\': 2080, \\'input_token_details\\': {}, \\'output_token_details\\': {}}'}}}\n",
      "---\n",
      "{'solve': {'result': 'San Candido (Innichen), South Tyrol, Italy'}}\n",
      "---\n"
     ]
    }
   ],
   "source": [
    "for s in app.stream({\"task\": task}):\n",
    "    print(s)\n",
    "    print(\"---\")"
   ]
  },
  {
   "cell_type": "code",
   "execution_count": 17,
   "metadata": {},
   "outputs": [
    {
     "name": "stdout",
     "output_type": "stream",
     "text": [
      "San Candido (Innichen), South Tyrol, Italy\n"
     ]
    }
   ],
   "source": [
    "# Print out the final result\n",
    "print(s[\"solve\"][\"result\"])"
   ]
  },
  {
   "cell_type": "code",
   "execution_count": null,
   "metadata": {},
   "outputs": [],
   "source": []
  }
 ],
 "metadata": {
  "kernelspec": {
   "display_name": "lclg",
   "language": "python",
   "name": "python3"
  },
  "language_info": {
   "codemirror_mode": {
    "name": "ipython",
    "version": 3
   },
   "file_extension": ".py",
   "mimetype": "text/x-python",
   "name": "python",
   "nbconvert_exporter": "python",
   "pygments_lexer": "ipython3",
   "version": "3.11.0"
  }
 },
 "nbformat": 4,
 "nbformat_minor": 2
}
